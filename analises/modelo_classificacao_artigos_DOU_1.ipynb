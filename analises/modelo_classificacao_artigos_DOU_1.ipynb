{
 "cells": [
  {
   "cell_type": "markdown",
   "metadata": {},
   "source": [
    "# Modelo para classificar relevância dos artigos do DOU\n",
    "## Seção 1\n",
    "\n",
    "Dado um conjunto de artigos do DOU classificados pela equipe na escala de 1 a 5 em relevância, vamos criar um modelo de machine learning para dar notas a novos artigos."
   ]
  },
  {
   "cell_type": "code",
   "execution_count": 1,
   "metadata": {},
   "outputs": [],
   "source": [
    "import pandas as pd\n",
    "import utils as xu\n",
    "import datetime as dt\n",
    "import re\n",
    "import numpy as np\n",
    "import matplotlib.pyplot as pl\n",
    "import mltools as ml\n",
    "from importlib import reload"
   ]
  },
  {
   "cell_type": "markdown",
   "metadata": {},
   "source": [
    "## Carrega os dados\n",
    "\n",
    "Os dados são classificados diariamente pela equipe, e vai parar numa tabela do BigQuery. \n",
    "Nós podemos pegar, a cada dia, um número maior de artigos classificados."
   ]
  },
  {
   "cell_type": "markdown",
   "metadata": {},
   "source": [
    "### Cortes nos dados"
   ]
  },
  {
   "cell_type": "markdown",
   "metadata": {},
   "source": [
    "Ao longo do processo de classificação manual, os critérios para seleção inicial dos artigos foram mudando. Aqui nós aplicamos os critétios mais atualizados para homogeneizar os dados selecionados."
   ]
  },
  {
   "cell_type": "code",
   "execution_count": 2,
   "metadata": {},
   "outputs": [],
   "source": [
    "query_1_cuts = \"\"\"\n",
    "secao = 1\n",
    "AND (\n",
    "     LOWER(identifica) LIKE '%decreto%' \n",
    "  OR LOWER(identifica) LIKE '%portaria%' \n",
    "  OR LOWER(identifica) LIKE '%resolu%'\n",
    "  OR LOWER(identifica) LIKE '%medida provisória%'\n",
    "  OR LOWER(identifica) LIKE '%lei %'\n",
    ")\n",
    "AND NOT REGEXP_CONTAINS(LOWER(edicao), '-')\n",
    "AND (LOWER(orgao) NOT LIKE '%universidade%' AND LOWER(orgao) NOT LIKE '%instituto federal%')\n",
    "AND (LOWER(orgao) NOT LIKE '%superintendência regional%')\n",
    "AND (LOWER(orgao) NOT LIKE '%gerência regional%')\n",
    "AND (LOWER(orgao) NOT LIKE '%superintendência estadual%' AND LOWER(orgao) NOT LIKE '%colégio%')\n",
    "AND SPLIT(orgao, '/')[OFFSET(0)] \n",
    "  NOT IN ('Conselho Nacional do Ministério Público', \n",
    "          'Entidades de Fiscalização do Exercício das Profissões Liberais', 'Governo do Estado', 'Ineditoriais', \n",
    "          'Defensoria Pública da União', 'Ministério Público da União', 'Poder Judiciário', 'Prefeituras', \n",
    "          'Tribunal de Contas da União', 'Atos do Poder Judiciário')\n",
    "AND orgao \n",
    "  NOT IN ('Conselho Nacional do Ministério Público', \n",
    "          'Entidades de Fiscalização do Exercício das Profissões Liberais', 'Governo do Estado', 'Ineditoriais', \n",
    "          'Defensoria Pública da União', 'Ministério Público da União', 'Poder Judiciário', 'Prefeituras', \n",
    "          'Tribunal de Contas da União', 'Atos do Poder Judiciário')\n",
    "AND (orgao NOT LIKE '%Coordenação de Processos Migratórios%')\n",
    "AND (orgao NOT LIKE '%Secretaria de Fomento e Incentivo à Cultura%')\n",
    "AND (orgao NOT LIKE '%Departamento de Radiodifusão Comercial%')\n",
    "\"\"\""
   ]
  },
  {
   "cell_type": "code",
   "execution_count": 3,
   "metadata": {},
   "outputs": [],
   "source": [
    "query_2_cuts = \"\"\"\n",
    "secao = 2\n",
    "AND NOT REGEXP_CONTAINS(LOWER(edicao), '-')\n",
    "AND (LOWER(orgao) NOT LIKE '%universidade%' AND LOWER(orgao) NOT LIKE '%instituto federal%')\n",
    "AND (LOWER(orgao) NOT LIKE '%superintendência regional%')\n",
    "AND (LOWER(orgao) NOT LIKE '%gerência regional%')\n",
    "AND (LOWER(orgao) NOT LIKE '%superintendência estadual%' AND LOWER(orgao) NOT LIKE '%colégio%')\n",
    "AND SPLIT(orgao, '/')[OFFSET(0)] \n",
    "  NOT IN ('Conselho Nacional do Ministério Público', \n",
    "          'Entidades de Fiscalização do Exercício das Profissões Liberais', 'Governo do Estado', 'Ineditoriais', \n",
    "          'Defensoria Pública da União', 'Ministério Público da União', 'Poder Judiciário', 'Prefeituras', \n",
    "          'Tribunal de Contas da União', 'Atos do Poder Judiciário', 'Poder Legislativo')\n",
    "AND orgao \n",
    "  NOT IN ('Conselho Nacional do Ministério Público', \n",
    "          'Entidades de Fiscalização do Exercício das Profissões Liberais', 'Governo do Estado', 'Ineditoriais', \n",
    "          'Defensoria Pública da União', 'Ministério Público da União', 'Poder Judiciário', 'Prefeituras', \n",
    "          'Tribunal de Contas da União', 'Atos do Poder Judiciário', 'Poder Legislativo')\n",
    "AND (LOWER(orgao) NOT LIKE '%comando militar%')\n",
    "AND (LOWER(orgao) NOT LIKE '%hospital%')\n",
    "AND LOWER(fulltext) NOT LIKE '%conceder aposentadoria%' AND LOWER(fulltext) NOT LIKE '%aposentar%'\n",
    "AND LOWER(fulltext) NOT LIKE '%conceder pensão%' \n",
    "AND LOWER(fulltext) NOT LIKE '%afastamento do país%'\n",
    "\"\"\""
   ]
  },
  {
   "cell_type": "code",
   "execution_count": 4,
   "metadata": {},
   "outputs": [],
   "source": [
    "query_3_cuts = \"\"\"\n",
    "secao = 3\n",
    "AND NOT REGEXP_CONTAINS(LOWER(edicao), '-')\n",
    "AND (LOWER(orgao) NOT LIKE '%universidade%' AND LOWER(orgao) NOT LIKE '%instituto federal%')\n",
    "AND (LOWER(orgao) NOT LIKE '%superintendência regional%')\n",
    "AND (LOWER(orgao) NOT LIKE '%gerência regional%')\n",
    "AND (LOWER(orgao) NOT LIKE '%superintendência estadual%' AND LOWER(orgao) NOT LIKE '%colégio%')\n",
    "AND SPLIT(orgao, '/')[OFFSET(0)] \n",
    "  NOT IN ('Conselho Nacional do Ministério Público', \n",
    "          'Entidades de Fiscalização do Exercício das Profissões Liberais', 'Governo do Estado', 'Ineditoriais', \n",
    "          'Defensoria Pública da União', 'Ministério Público da União', 'Poder Judiciário', 'Prefeituras', \n",
    "          'Tribunal de Contas da União', 'Atos do Poder Judiciário')\n",
    "AND orgao \n",
    "  NOT IN ('Conselho Nacional do Ministério Público', \n",
    "          'Entidades de Fiscalização do Exercício das Profissões Liberais', 'Governo do Estado', 'Ineditoriais', \n",
    "          'Defensoria Pública da União', 'Ministério Público da União', 'Poder Judiciário', 'Prefeituras', \n",
    "          'Tribunal de Contas da União', 'Atos do Poder Judiciário')\n",
    "\"\"\""
   ]
  },
  {
   "cell_type": "code",
   "execution_count": 5,
   "metadata": {},
   "outputs": [],
   "source": [
    "query_e_cuts = \"\"\"\n",
    "REGEXP_CONTAINS(LOWER(edicao), '-')\n",
    "AND (LOWER(orgao) NOT LIKE '%universidade%' AND LOWER(orgao) NOT LIKE '%instituto federal%')\n",
    "AND (LOWER(orgao) NOT LIKE '%superintendência regional%')\n",
    "AND (LOWER(orgao) NOT LIKE '%gerência regional%')\n",
    "AND (LOWER(orgao) NOT LIKE '%superintendência estadual%' AND LOWER(orgao) NOT LIKE '%colégio%')\n",
    "AND SPLIT(orgao, '/')[OFFSET(0)] \n",
    "  NOT IN ('Conselho Nacional do Ministério Público', \n",
    "          'Entidades de Fiscalização do Exercício das Profissões Liberais', 'Governo do Estado', 'Ineditoriais', \n",
    "          'Defensoria Pública da União', 'Ministério Público da União', 'Poder Judiciário', 'Prefeituras', \n",
    "          'Tribunal de Contas da União', 'Atos do Poder Judiciário')\n",
    "AND orgao \n",
    "  NOT IN ('Conselho Nacional do Ministério Público', \n",
    "          'Entidades de Fiscalização do Exercício das Profissões Liberais', 'Governo do Estado', 'Ineditoriais', \n",
    "          'Defensoria Pública da União', 'Ministério Público da União', 'Poder Judiciário', 'Prefeituras', \n",
    "          'Tribunal de Contas da União', 'Atos do Poder Judiciário')\n",
    "\"\"\""
   ]
  },
  {
   "cell_type": "code",
   "execution_count": 6,
   "metadata": {},
   "outputs": [],
   "source": [
    "base_query = \"SELECT * FROM `gabinete-compartilhado.executivo_federal_dou.artigos_classificados`\"\n",
    "query_cuts = '('+ ') OR ('.join([query_1_cuts, query_2_cuts, query_3_cuts, query_e_cuts]) + ')'\n",
    "\n",
    "get_classified_query = base_query + ' WHERE ' + query_cuts"
   ]
  },
  {
   "cell_type": "markdown",
   "metadata": {},
   "source": [
    "### Carregando nossa classificação"
   ]
  },
  {
   "cell_type": "markdown",
   "metadata": {},
   "source": [
    "Esta é a classificação de relevância das matérias do DOU, feitas pela equipe. A célula descomentada atualiza os dados com as novas classificações feitas e guardadas no nosso banco de dados. Para acessar dados antigos e já baixados, utilize a célula comentada que aparece logo em seguida."
   ]
  },
  {
   "cell_type": "code",
   "execution_count": 7,
   "metadata": {},
   "outputs": [
    {
     "name": "stdout",
     "output_type": "stream",
     "text": [
      "\u001b[1mArquivo com dados de hoje:\u001b[0m ../dados/artigos_classificados_ate_2021-09-17.csv\n"
     ]
    }
   ],
   "source": [
    "today    = dt.datetime.now().strftime('%Y-%m-%d')\n",
    "filename = '../dados/artigos_classificados_ate_' + today + '.csv'\n",
    "print(xu.Bold('Arquivo com dados de hoje:'), filename)"
   ]
  },
  {
   "cell_type": "code",
   "execution_count": 9,
   "metadata": {},
   "outputs": [
    {
     "name": "stdout",
     "output_type": "stream",
     "text": [
      "Loading data from local file...\n"
     ]
    }
   ],
   "source": [
    "classified_raw = xu.load_data_from_local_or_bigquery(get_classified_query, filename)"
   ]
  },
  {
   "cell_type": "code",
   "execution_count": 7,
   "metadata": {},
   "outputs": [],
   "source": [
    "# Para carregar classificações feitas até uma certa data:\n",
    "#classified_raw = pd.read_csv('../dados/artigos_classificados_ate_2021-09-17.csv')"
   ]
  },
  {
   "cell_type": "code",
   "execution_count": 11,
   "metadata": {},
   "outputs": [
    {
     "name": "stdout",
     "output_type": "stream",
     "text": [
      "Found 0 missing URLs in data (0.0%)\n",
      "\u001b[1mThese will be removed!\u001b[0m\n"
     ]
    }
   ],
   "source": [
    "n_null_url    = len(classified_raw.loc[classified_raw.url.isnull()])\n",
    "frac_null_url = n_null_url / len(classified_raw)\n",
    "print('Found', n_null_url, 'missing URLs in data ({:.1f}%)'.format(frac_null_url * 100))\n",
    "print(xu.Bold('These will be removed!'))"
   ]
  },
  {
   "cell_type": "code",
   "execution_count": 12,
   "metadata": {},
   "outputs": [],
   "source": [
    "def clean_versao_certificada(df):\n",
    "    new = df.copy()\n",
    "    new['fulltext'] = new['fulltext'].str.replace('^\\s*?Versão certificada.*?Página: \\d{1,3} Órgão: ', '')\n",
    "    new['fulltext'] = new['fulltext'].str.replace('Este conteúdo não substitui o publicado na versão certificada.', '')\n",
    "    return new"
   ]
  },
  {
   "cell_type": "code",
   "execution_count": 13,
   "metadata": {},
   "outputs": [
    {
     "name": "stdout",
     "output_type": "stream",
     "text": [
      "Dados disponíveis: 14442\n"
     ]
    }
   ],
   "source": [
    "# We removed articles without urls because they shouldn't exist and we \n",
    "# will use urls as identifiers.\n",
    "classified_w_url = clean_versao_certificada(classified_raw.loc[~classified_raw.url.isnull()])\n",
    "print('Dados disponíveis:', len(classified_w_url))"
   ]
  },
  {
   "cell_type": "code",
   "execution_count": 14,
   "metadata": {},
   "outputs": [
    {
     "data": {
      "text/plain": [
       "1    0.520219\n",
       "2    0.250519\n",
       "3    0.097355\n",
       "4    0.080114\n",
       "5    0.051793\n",
       "Name: relevancia, dtype: float64"
      ]
     },
     "execution_count": 14,
     "metadata": {},
     "output_type": "execute_result"
    }
   ],
   "source": [
    "# Frequência de cada relevância na amostra classificada pela equipe:\n",
    "dou_class_freq = classified_w_url.relevancia.value_counts(normalize=True)\n",
    "dou_class_freq"
   ]
  },
  {
   "cell_type": "markdown",
   "metadata": {},
   "source": [
    "### Brasil Real Oficial\n",
    "\n",
    "As classificações de nível 5 são raras no DOU, e portanto a equipe classificar manualmente não é muito eficiente. Vamos usar os artigos citados no Brasil Real Oficial, desde o começo do ano de 2019, como exemplos de matérias de relevância 5 (máxima). "
   ]
  },
  {
   "cell_type": "code",
   "execution_count": 26,
   "metadata": {},
   "outputs": [],
   "source": [
    "base_bro_query = \"\"\"\n",
    "SELECT \n",
    "\n",
    "relevancia, identifica, secao, edicao, pagina, data_pub, orgao, ementa, resumo, fulltext, assina, \n",
    "cargo, url, url_certificado, data_registro \n",
    "\n",
    "FROM `gabinete-compartilhado.executivo_federal_dou.brasil_real_oficial_artigos_tab`\n",
    "\"\"\"\n",
    "bro_query = base_bro_query + ' WHERE identifica IS NOT NULL AND (' + query_cuts + ')'"
   ]
  },
  {
   "cell_type": "code",
   "execution_count": 31,
   "metadata": {},
   "outputs": [
    {
     "name": "stdout",
     "output_type": "stream",
     "text": [
      "Loading data from local file...\n"
     ]
    }
   ],
   "source": [
    "bro_raw = xu.load_data_from_local_or_bigquery(bro_query, '../dados/test_bro_dou_cross_2.csv')\n",
    "#bro_raw = xu.load_data_from_local_or_bigquery(bro_query, '../dados/bro_artigos_4null.csv')"
   ]
  },
  {
   "cell_type": "code",
   "execution_count": 32,
   "metadata": {},
   "outputs": [
    {
     "name": "stdout",
     "output_type": "stream",
     "text": [
      "Matérias distintas no BRO: 396\n"
     ]
    }
   ],
   "source": [
    "# Remove articles that are in our classification:\n",
    "bro_no_repeat = clean_versao_certificada(bro_raw.loc[~bro_raw.url.isin(classified_w_url.url.values)])\n",
    "print('Matérias distintas no BRO:', len(bro_no_repeat))"
   ]
  },
  {
   "cell_type": "code",
   "execution_count": 33,
   "metadata": {},
   "outputs": [
    {
     "data": {
      "text/plain": [
       "5    29\n",
       "4    14\n",
       "3    18\n",
       "2     6\n",
       "1     6\n",
       "Name: relevancia, dtype: int64"
      ]
     },
     "execution_count": 33,
     "metadata": {},
     "output_type": "execute_result"
    }
   ],
   "source": [
    "# Classificação dada por nós para as matérias do BRO:\n",
    "classified_w_url.loc[classified_w_url.url.isin(bro_raw.url)]['relevancia'].value_counts().sort_index(ascending=False)"
   ]
  },
  {
   "cell_type": "markdown",
   "metadata": {},
   "source": [
    "### Juntando Dados\n",
    "\n",
    "Vamos criar uma base de dados com a junção da nossa classificação com a do BRO."
   ]
  },
  {
   "cell_type": "code",
   "execution_count": 34,
   "metadata": {},
   "outputs": [
    {
     "name": "stdout",
     "output_type": "stream",
     "text": [
      "# Artigos: 14838\n",
      "# Artigos c/ texto: 14821\n"
     ]
    }
   ],
   "source": [
    "classified_n_bro = pd.concat([classified_w_url, bro_no_repeat], ignore_index=True, sort=False)\n",
    "print('# Artigos:', len(classified_n_bro))\n",
    "classified_n_bro = classified_n_bro.loc[~classified_n_bro.fulltext.isnull()]\n",
    "print('# Artigos c/ texto:', len(classified_n_bro))"
   ]
  },
  {
   "cell_type": "markdown",
   "metadata": {},
   "source": [
    "## Selecionando seção e train validation test split"
   ]
  },
  {
   "cell_type": "markdown",
   "metadata": {},
   "source": [
    "Precisamos fazer o split por data, para que o modelo seja treinado para prever o futuro."
   ]
  },
  {
   "cell_type": "code",
   "execution_count": 35,
   "metadata": {},
   "outputs": [],
   "source": [
    "# Select seção 1 and define a set splitting date:\n",
    "secao = 1\n",
    "min_test_date = '2020-07-30'\n",
    "\n",
    "# Seleciona a seção:\n",
    "classified_secao = classified_n_bro.loc[classified_n_bro.secao == secao]\n",
    "\n",
    "# Split data into training, validation and test sets:\n",
    "#train_raw, val_raw, test_raw = ml.train_val_test_split_by_date_n_string(classified_secao, 'data_pub', \n",
    "#                                                                        min_test_date, \n",
    "#                                                                        'url', 'http://www.in.gov.br/web/dou/-/')\n",
    "\n",
    "# Randomly split dataset:\n",
    "build_raw, test_raw = ml.train_test_split_by_string(classified_secao, 0.15, 'url', 'http://www.in.gov.br/web/dou/-/')\n",
    "train_raw, val_raw  = ml.train_test_split_by_string(build_raw, 0.17, 'url', 'http://www.in.gov.br/')"
   ]
  },
  {
   "cell_type": "code",
   "execution_count": 36,
   "metadata": {},
   "outputs": [
    {
     "data": {
      "text/html": [
       "<div>\n",
       "<style scoped>\n",
       "    .dataframe tbody tr th:only-of-type {\n",
       "        vertical-align: middle;\n",
       "    }\n",
       "\n",
       "    .dataframe tbody tr th {\n",
       "        vertical-align: top;\n",
       "    }\n",
       "\n",
       "    .dataframe thead th {\n",
       "        text-align: right;\n",
       "    }\n",
       "</style>\n",
       "<table border=\"1\" class=\"dataframe\">\n",
       "  <thead>\n",
       "    <tr style=\"text-align: right;\">\n",
       "      <th></th>\n",
       "      <th>train</th>\n",
       "      <th>val</th>\n",
       "      <th>test</th>\n",
       "    </tr>\n",
       "  </thead>\n",
       "  <tbody>\n",
       "    <tr>\n",
       "      <th>1</th>\n",
       "      <td>1760</td>\n",
       "      <td>375</td>\n",
       "      <td>389</td>\n",
       "    </tr>\n",
       "    <tr>\n",
       "      <th>2</th>\n",
       "      <td>831</td>\n",
       "      <td>153</td>\n",
       "      <td>169</td>\n",
       "    </tr>\n",
       "    <tr>\n",
       "      <th>3</th>\n",
       "      <td>516</td>\n",
       "      <td>96</td>\n",
       "      <td>102</td>\n",
       "    </tr>\n",
       "    <tr>\n",
       "      <th>4</th>\n",
       "      <td>426</td>\n",
       "      <td>82</td>\n",
       "      <td>79</td>\n",
       "    </tr>\n",
       "    <tr>\n",
       "      <th>5</th>\n",
       "      <td>463</td>\n",
       "      <td>88</td>\n",
       "      <td>102</td>\n",
       "    </tr>\n",
       "  </tbody>\n",
       "</table>\n",
       "</div>"
      ],
      "text/plain": [
       "   train  val  test\n",
       "1   1760  375   389\n",
       "2    831  153   169\n",
       "3    516   96   102\n",
       "4    426   82    79\n",
       "5    463   88   102"
      ]
     },
     "execution_count": 36,
     "metadata": {},
     "output_type": "execute_result"
    }
   ],
   "source": [
    "# Check the amount of each class in each set:\n",
    "n_ex_by_relevancia = pd.DataFrame()\n",
    "n_ex_by_relevancia['train'] = train_raw.relevancia.value_counts()\n",
    "n_ex_by_relevancia['val'] = val_raw.relevancia.value_counts()\n",
    "n_ex_by_relevancia['test'] = test_raw.relevancia.value_counts()\n",
    "assert n_ex_by_relevancia.isna().any().any() == False, 'Some set has missing classes'\n",
    "n_ex_by_relevancia.sort_index()"
   ]
  },
  {
   "cell_type": "markdown",
   "metadata": {},
   "source": [
    "## Testes de funções\n",
    "\n",
    "Aqui podemos testar o desempenho das funções de pré-processamento."
   ]
  },
  {
   "cell_type": "code",
   "execution_count": 37,
   "metadata": {
    "scrolled": true
   },
   "outputs": [],
   "source": [
    "# Test for extracting types of articles from the titles:\n",
    "tryout = False\n",
    "if tryout:\n",
    "    for s in train_raw.identifica.values:\n",
    "        print(s, ' >> ', do.get_article_type(s))"
   ]
  },
  {
   "cell_type": "markdown",
   "metadata": {},
   "source": [
    "## Modelagem\n",
    "\n",
    "Design do modelo"
   ]
  },
  {
   "cell_type": "markdown",
   "metadata": {},
   "source": [
    "### Construção da pipeline"
   ]
  },
  {
   "cell_type": "code",
   "execution_count": 38,
   "metadata": {},
   "outputs": [],
   "source": [
    "# Preprocessing:\n",
    "import dou_sorter_common_functions as do\n",
    "# Model evaluation:\n",
    "import dou_model_eval as ev"
   ]
  },
  {
   "cell_type": "code",
   "execution_count": 39,
   "metadata": {},
   "outputs": [],
   "source": [
    "import nltk\n",
    "from sklearn.pipeline import Pipeline\n",
    "\n",
    "from sklearn.feature_extraction.text import CountVectorizer\n",
    "from sklearn.feature_extraction.text import TfidfVectorizer\n",
    "from sklearn.preprocessing import OneHotEncoder\n",
    "from sklearn.compose import ColumnTransformer\n",
    "from sklearn.linear_model import Ridge\n",
    "from sklearn.ensemble import RandomForestRegressor\n",
    "from sklearn.ensemble import ExtraTreesRegressor\n",
    "from sklearn.svm import LinearSVR\n",
    "from sklearn.ensemble import VotingRegressor"
   ]
  },
  {
   "cell_type": "code",
   "execution_count": 85,
   "metadata": {},
   "outputs": [],
   "source": [
    "# Pré-processamento (s/ fit):\n",
    "#text_cols = ['titulo', 'orgao', 'ementa', 'fulltext']\n",
    "text_cols = ['tit_org_ementa_text']\n",
    "colunas_relevantes = ['relevancia', 'tipo_edicao'] + text_cols\n",
    "\n",
    "stopwords = nltk.corpus.stopwords.words('portuguese')\n",
    "\n",
    "dou_extractor = do.PreprocessDOU(colunas_relevantes, 'xxnuloxx')\n",
    "\n",
    "proc_text = do.PreProcessText(lowercase=False, remove_punctuation=True, keep_cash=True, stopwords=stopwords, \n",
    "                              stemmer=None, strip_accents=False, only_letters=False, cargo_tokens=True,\n",
    "                              text_cols=text_cols)\n",
    "\n",
    "preprocess = Pipeline([('dou', dou_extractor), ('pretext', proc_text)])\n",
    "\n",
    "# Fit processing and model:\n",
    "#vectorizer    = CountVectorizer(lowercase=False, binary=True, ngram_range=(1,2), max_df=1.0, min_df=1)\n",
    "vectorizer    = TfidfVectorizer(lowercase=False, binary=True, ngram_range=(1,2), max_df=1.0, min_df=1, \n",
    "                                norm=None, use_idf=True)\n",
    "#vectorizer    = ml.MultiColumnVectorizer(text_cols, [1,1,1,1], #[10,8,1.5,1], \n",
    "#                                         'max', \n",
    "#                                      lowercase=False, binary=True, ngram_range=(1,2), max_df=1.0, min_df=1)\n",
    "\n",
    "encoder_extra = OneHotEncoder(drop='first')\n",
    "processor     = ColumnTransformer([('vec',   vectorizer, text_cols[0]),\n",
    "                                   ('extra', encoder_extra, ['tipo_edicao'])\n",
    "                                  ])\n",
    "\n",
    "#classifier  = ElasticNet(alpha=0.023, l1_ratio=0.4, selection='random', max_iter=5000)\n",
    "classifier  = Ridge(10000)\n",
    "#classifier  = LinearSVR(C=3e-3)\n",
    "#classifier   = VotingRegressor([('ridge', Ridge(300)), ('svr', LinearSVR(C=3e-3))])\n",
    "#classifier  = RandomForestRegressor()\n",
    "\n",
    "#classifier  = Lasso(0.03, max_iter=4000, selection='random', tol=1e-4)\n",
    "fit_pipe    = Pipeline([('proc', processor), ('fit', classifier)])\n",
    "#fit_pipe    = Pipeline([('proc', vectorizer), ('fit', classifier)])"
   ]
  },
  {
   "cell_type": "markdown",
   "metadata": {},
   "source": [
    "### Aplica pipeline ao dados"
   ]
  },
  {
   "cell_type": "code",
   "execution_count": 82,
   "metadata": {},
   "outputs": [],
   "source": [
    "from sklearn.metrics import make_scorer\n",
    "from sklearn.model_selection import GridSearchCV\n",
    "from sklearn.model_selection import RandomizedSearchCV\n",
    "from sklearn.model_selection import PredefinedSplit\n",
    "from sklearn.model_selection import ParameterGrid"
   ]
  },
  {
   "cell_type": "markdown",
   "metadata": {},
   "source": [
    "#### Busca nos hiperparâmetros"
   ]
  },
  {
   "cell_type": "code",
   "execution_count": 83,
   "metadata": {},
   "outputs": [],
   "source": [
    "# Create a CV set and pre-process it:\n",
    "train_val_concat = pd.concat([train_raw, val_raw], sort=False)\n",
    "proc_train_val   = preprocess.transform(train_val_concat)"
   ]
  },
  {
   "cell_type": "code",
   "execution_count": 84,
   "metadata": {},
   "outputs": [],
   "source": [
    "n_text_cols = 4\n",
    "n_weight_sets = 20\n",
    "max_weight = 9\n",
    "weight_list = list(np.random.randint(1, max_weight + 1, n_text_cols * n_weight_sets).reshape((n_weight_sets, \n",
    "                                                                                         n_text_cols)))"
   ]
  },
  {
   "cell_type": "code",
   "execution_count": 86,
   "metadata": {},
   "outputs": [],
   "source": [
    "param_grid = [{'fit__alpha': [300, 1000, 3000, 10000, 30000, 100000.0],\n",
    "                #'fit__max_depth': [7,8,9,10,11,12],\n",
    "                #'fit__n_estimators': [10, 20, 30],\n",
    "                #'fit__C': [1e-5, 3e-5, 1e-4, 3e-4, 1e-3, 3e-3, 1e-2, 3e-2],\n",
    "                #'fit__ridge__alpha': [300, 1000, 3000, 10000],\n",
    "                #'fit__svr__C': [1e-3, 3e-3, 1e-2]\n",
    "               #'proc__vec__text_weights': [[1,1,1,1]]\n",
    "                #'fit__alpha': [1e-1, 1e-2]\n",
    "               #'fit__alpha': [1e-9, 3e-9, 1e-8, 3e-8, 1e-7, 3e-7, 1e-6, 3e-6, 1e-5, 3e-5, 1e-4, 3e-4, 1e-3, 3e-3],\n",
    "               #'fit__l1_ratio': [1, 0.9, 0.8, 0.7, 0.6, 0.5, 0.4, 0.3, 0.2, 0.1, 0.01],\n",
    "               #'proc__vec__max_df': [0.2, 0.3, 0.4, 0.5, 0.6, 0.7, 0.8, 1.0],\n",
    "               #'proc__vec__min_df': [1, 2, 4, 8, 16]\n",
    "               #'proc__vec__max_df': [1.0],\n",
    "               'proc__vec__binary': [True, False],\n",
    "               'proc__vec__use_idf': [True, False],\n",
    "               'proc__vec__norm': ['l2', 'l1', None],\n",
    "               #'proc__vec__smooth_idf': [True, False],\n",
    "               #'proc__vec__sublinear_tf':[True, False],\n",
    "              #'proc__vec__min_df': [1, 0.1, 0.2, 0.3, 0.5, 0.6, 0.7, 0.8, 0.9],\n",
    "              #'proc__vec__ngram_range': [(1,1), (1,2)],\n",
    "              #'proc__vec__ngram_range': [(1,1)],\n",
    "              #'proc__extra': ['drop', encoder_extra],\n",
    "              #'proc__extra': ['drop']\n",
    "             }]"
   ]
  },
  {
   "cell_type": "code",
   "execution_count": 87,
   "metadata": {},
   "outputs": [],
   "source": [
    "rank_scorer = make_scorer(ev.cum_recall_metric, greater_is_better=True)\n",
    "\n",
    "# Do a Grid or Randomized search with fixed validation set:\n",
    "test_fold = np.zeros(len(train_val_concat)).astype(int)\n",
    "test_fold[:len(train_raw)] = -1\n",
    "ps = PredefinedSplit(test_fold)\n",
    "grid = GridSearchCV(fit_pipe, param_grid, cv=ps, scoring=rank_scorer, return_train_score=True, n_jobs=7)\n",
    "#grid = RandomizedSearchCV(fit_pipe, param_grid, cv=ps, scoring=rank_scorer, return_train_score=True, n_jobs=7, n_iter=100)"
   ]
  },
  {
   "cell_type": "code",
   "execution_count": 88,
   "metadata": {},
   "outputs": [
    {
     "name": "stdout",
     "output_type": "stream",
     "text": [
      "Best score: 0.848470588235294\n",
      "Params: {'fit__alpha': 300, 'proc__vec__binary': True, 'proc__vec__norm': None, 'proc__vec__use_idf': False}\n"
     ]
    }
   ],
   "source": [
    "# Run the hyper parameter search:\n",
    "dump = grid.fit(proc_train_val, proc_train_val.relevancia.values)\n",
    "\n",
    "print('Best score:', grid.best_score_)\n",
    "print('Params:', grid.best_params_)"
   ]
  },
  {
   "cell_type": "code",
   "execution_count": 124,
   "metadata": {},
   "outputs": [
    {
     "data": {
      "text/html": [
       "<div>\n",
       "<style scoped>\n",
       "    .dataframe tbody tr th:only-of-type {\n",
       "        vertical-align: middle;\n",
       "    }\n",
       "\n",
       "    .dataframe tbody tr th {\n",
       "        vertical-align: top;\n",
       "    }\n",
       "\n",
       "    .dataframe thead th {\n",
       "        text-align: right;\n",
       "    }\n",
       "</style>\n",
       "<table border=\"1\" class=\"dataframe\">\n",
       "  <thead>\n",
       "    <tr style=\"text-align: right;\">\n",
       "      <th></th>\n",
       "      <th>mean_test_score</th>\n",
       "      <th>mean_fit_time</th>\n",
       "      <th>param_fit__alpha</th>\n",
       "    </tr>\n",
       "  </thead>\n",
       "  <tbody>\n",
       "    <tr>\n",
       "      <th>1</th>\n",
       "      <td>0.803625</td>\n",
       "      <td>8.666782</td>\n",
       "      <td>300</td>\n",
       "    </tr>\n",
       "    <tr>\n",
       "      <th>0</th>\n",
       "      <td>0.795281</td>\n",
       "      <td>10.197287</td>\n",
       "      <td>100</td>\n",
       "    </tr>\n",
       "    <tr>\n",
       "      <th>2</th>\n",
       "      <td>0.787863</td>\n",
       "      <td>7.182891</td>\n",
       "      <td>1000</td>\n",
       "    </tr>\n",
       "    <tr>\n",
       "      <th>3</th>\n",
       "      <td>0.748273</td>\n",
       "      <td>7.015584</td>\n",
       "      <td>3000</td>\n",
       "    </tr>\n",
       "    <tr>\n",
       "      <th>4</th>\n",
       "      <td>0.690140</td>\n",
       "      <td>11.201975</td>\n",
       "      <td>10000</td>\n",
       "    </tr>\n",
       "  </tbody>\n",
       "</table>\n",
       "</div>"
      ],
      "text/plain": [
       "   mean_test_score  mean_fit_time param_fit__alpha\n",
       "1         0.803625       8.666782              300\n",
       "0         0.795281      10.197287              100\n",
       "2         0.787863       7.182891             1000\n",
       "3         0.748273       7.015584             3000\n",
       "4         0.690140      11.201975            10000"
      ]
     },
     "execution_count": 124,
     "metadata": {},
     "output_type": "execute_result"
    }
   ],
   "source": [
    "# Listagem dos melhores resultados:\n",
    "grid_df = pd.DataFrame(grid.cv_results_)\n",
    "target_cols = ['mean_test_score', 'mean_fit_time']\n",
    "param_cols  = list(filter(lambda s: s.find('param_') != -1, grid_df.columns))\n",
    "grid_df.sort_values(target_cols, ascending=[False, True])[target_cols + param_cols].head(10)"
   ]
  },
  {
   "cell_type": "code",
   "execution_count": 60,
   "metadata": {},
   "outputs": [
    {
     "name": "stderr",
     "output_type": "stream",
     "text": [
      "/home/skems/prog/my-python/mltools.py:1593: UserWarning: FixedFormatter should only be used together with FixedLocator\n",
      "  pl.gca().set_xticklabels(labels)\n"
     ]
    },
    {
     "data": {
      "image/png": "[encoded data removed]",
      "text/plain": [
       "<Figure size 1080x360 with 3 Axes>"
      ]
     },
     "metadata": {
      "needs_background": "light"
     },
     "output_type": "display_data"
    }
   ],
   "source": [
    "ml.plot_pars_scores(grid, logscale='force')"
   ]
  },
  {
   "cell_type": "markdown",
   "metadata": {},
   "source": [
    "#### Avaliação do modelo"
   ]
  },
  {
   "cell_type": "code",
   "execution_count": 46,
   "metadata": {},
   "outputs": [],
   "source": [
    "from sklearn.metrics import mean_squared_error"
   ]
  },
  {
   "cell_type": "code",
   "execution_count": 47,
   "metadata": {},
   "outputs": [],
   "source": [
    "# Preprocess data:\n",
    "proc_train = preprocess.transform(train_raw)\n",
    "proc_val   = preprocess.transform(val_raw)"
   ]
  },
  {
   "cell_type": "code",
   "execution_count": 79,
   "metadata": {},
   "outputs": [],
   "source": [
    "# Fit model:\n",
    "fit_pipe.fit(proc_train, proc_train.relevancia.values)\n",
    "# Predict:\n",
    "pred_train = fit_pipe.predict(proc_train)\n",
    "pred_val   = fit_pipe.predict(proc_val)\n",
    "\n",
    "# Join validation true and predicted values:\n",
    "y_pred_true_df = pd.DataFrame({'y_pred':pred_val, 'y_true': proc_val['relevancia'].values}, index=proc_val.index)"
   ]
  },
  {
   "cell_type": "code",
   "execution_count": 80,
   "metadata": {},
   "outputs": [
    {
     "name": "stdout",
     "output_type": "stream",
     "text": [
      "RMSE:        0.871605099498527\n",
      "Cum. Recall: 0.8261270588235297\n"
     ]
    }
   ],
   "source": [
    "print('RMSE:       ', np.sqrt(mean_squared_error(proc_val.relevancia.values, pred_val)))\n",
    "print('Cum. Recall:', ev.cum_recall_metric(proc_val.relevancia.values, pred_val))"
   ]
  },
  {
   "cell_type": "code",
   "execution_count": 85,
   "metadata": {},
   "outputs": [
    {
     "name": "stdout",
     "output_type": "stream",
     "text": [
      "RMSE:        (1.0167495046589115, 0.04162173975080288)\n",
      "Cum. Recall: (0.8880286179659423, 0.01924048746822173)\n"
     ]
    }
   ],
   "source": [
    "# Cria pesos para amostragem balançeada:\n",
    "n_val = len(proc_val)\n",
    "n_balanced_sample = (dou_class_freq * n_val).round().astype(int) / y_pred_true_df['y_true'].value_counts()\n",
    "n_balanced_sample = n_balanced_sample.rename('n_balanced')\n",
    "\n",
    "# Junta pesos à base:\n",
    "y_pred_true_to_sample = y_pred_true_df.join(n_balanced_sample, on='y_true', how='left')\n",
    "\n",
    "# Mede performance em amostras bootstrap:\n",
    "n_trials = 10\n",
    "rmse_list      = []\n",
    "cumrecall_list = []\n",
    "for i in range(n_trials):\n",
    "    balanced_sample = y_pred_true_to_sample.sample(n=n_val, replace=True, weights='n_balanced')\n",
    "    rmse_list.append(np.sqrt(mean_squared_error(balanced_sample.y_true.values, balanced_sample.y_pred.values)))\n",
    "    cumrecall_list.append(np.sqrt(ev.cum_recall_metric(balanced_sample.y_true.values, balanced_sample.y_pred.values)))\n",
    "\n",
    "# Resultados:\n",
    "print('RMSE:       ', ml.mean_dev_scores(rmse_list))\n",
    "print('Cum. Recall:', ml.mean_dev_scores(cumrecall_list))"
   ]
  },
  {
   "cell_type": "code",
   "execution_count": 57,
   "metadata": {},
   "outputs": [
    {
     "data": {
      "image/png": "[encoded data removed]",
      "text/plain": [
       "<Figure size 432x288 with 1 Axes>"
      ]
     },
     "metadata": {
      "needs_background": "light"
     },
     "output_type": "display_data"
    }
   ],
   "source": [
    "ev.plot_recall_curve(proc_val.relevancia.values, pred_val)"
   ]
  },
  {
   "cell_type": "code",
   "execution_count": 53,
   "metadata": {},
   "outputs": [
    {
     "data": {
      "image/png": "[encoded data removed]",
      "text/plain": [
       "<Figure size 432x288 with 1 Axes>"
      ]
     },
     "metadata": {
      "needs_background": "light"
     },
     "output_type": "display_data"
    }
   ],
   "source": [
    "ev.plot_recall_curve(proc_val.relevancia.values, pred_val)"
   ]
  },
  {
   "cell_type": "code",
   "execution_count": 54,
   "metadata": {},
   "outputs": [
    {
     "data": {
      "image/png": "[encoded data removed]",
      "text/plain": [
       "<Figure size 1080x360 with 1 Axes>"
      ]
     },
     "metadata": {
      "needs_background": "light"
     },
     "output_type": "display_data"
    }
   ],
   "source": [
    "window = 1\n",
    "\n",
    "pl.figure(figsize=(15,5))\n",
    "ev.plot_average_rank(proc_val['relevancia'].values, proc_val['relevancia'].values, window, \n",
    "                  color='royalblue', label='Perfect')\n",
    "ev.plot_average_rank(proc_val['relevancia'].values, pred_val, window, color='g', label='Model')\n",
    "pl.legend(fontsize=14)\n",
    "pl.show()"
   ]
  },
  {
   "cell_type": "code",
   "execution_count": 59,
   "metadata": {},
   "outputs": [
    {
     "data": {
      "image/png": "[encoded data removed]",
      "text/plain": [
       "<Figure size 432x288 with 1 Axes>"
      ]
     },
     "metadata": {
      "needs_background": "light"
     },
     "output_type": "display_data"
    }
   ],
   "source": [
    "y_pred_true_df.boxplot(column='y_pred', by='y_true', grid=False)\n",
    "#pl.savefig('plots/box-plot_rank_by_true_label_' + dt.datetime.now().strftime('%Y-%m-%d') + '.png')\n",
    "pl.show()"
   ]
  },
  {
   "cell_type": "code",
   "execution_count": 60,
   "metadata": {},
   "outputs": [
    {
     "data": {
      "text/plain": [
       "1.8116477873002972"
      ]
     },
     "execution_count": 60,
     "metadata": {},
     "output_type": "execute_result"
    }
   ],
   "source": [
    "y_pred_true_df.loc[y_pred_true_df.y_true.isin([4,5])]['y_pred'].min()"
   ]
  },
  {
   "cell_type": "code",
   "execution_count": 90,
   "metadata": {},
   "outputs": [
    {
     "data": {
      "image/png": "[encoded data removed]",
      "text/plain": [
       "<Figure size 432x288 with 1 Axes>"
      ]
     },
     "metadata": {
      "needs_background": "light"
     },
     "output_type": "display_data"
    }
   ],
   "source": [
    "ml.plot_learning_curve_old(fit_pipe, ev.cum_recall_metric, proc_train, proc_train.relevancia.values,\n",
    "                           proc_val, proc_val.relevancia.values, 10)"
   ]
  },
  {
   "cell_type": "code",
   "execution_count": 136,
   "metadata": {},
   "outputs": [
    {
     "data": {
      "image/png": "[encoded data removed]",
      "text/plain": [
       "<Figure size 432x288 with 1 Axes>"
      ]
     },
     "metadata": {
      "needs_background": "light"
     },
     "output_type": "display_data"
    }
   ],
   "source": [
    "ml.plot_learning_curve_old(fit_pipe, mean_squared_error, proc_train, proc_train.relevancia.values,\n",
    "                           proc_val, proc_val.relevancia.values, 10)"
   ]
  },
  {
   "cell_type": "markdown",
   "metadata": {},
   "source": [
    "#### Peso das palavras"
   ]
  },
  {
   "cell_type": "code",
   "execution_count": 137,
   "metadata": {},
   "outputs": [],
   "source": [
    "word_weight_df = pd.DataFrame()\n",
    "word_weight_df['word']   = pd.Series(fit_pipe.named_steps['proc'].transformers_[0][1].get_feature_names())\n",
    "word_weight_df['weight'] = pd.Series(fit_pipe.named_steps['fit'].coef_)"
   ]
  },
  {
   "cell_type": "code",
   "execution_count": 138,
   "metadata": {},
   "outputs": [
    {
     "data": {
      "image/png": "[encoded data removed]",
      "text/plain": [
       "<Figure size 432x288 with 1 Axes>"
      ]
     },
     "metadata": {
      "needs_background": "light"
     },
     "output_type": "display_data"
    }
   ],
   "source": [
    "word_weights = word_weight_df['weight'].sort_values().values\n",
    "pl.plot(np.abs(word_weights))\n",
    "pl.yscale('log')\n",
    "pl.ylim([20 / len(word_weights), np.max(np.abs(word_weights))])\n",
    "pl.show()"
   ]
  },
  {
   "cell_type": "code",
   "execution_count": 139,
   "metadata": {},
   "outputs": [
    {
     "data": {
      "image/png": "[encoded data removed]",
      "text/plain": [
       "<Figure size 432x288 with 1 Axes>"
      ]
     },
     "metadata": {
      "needs_background": "light"
     },
     "output_type": "display_data"
    }
   ],
   "source": [
    "word_weight_pos = 14\n",
    "word = word_weight_df.sort_values('weight').iloc[word_weight_pos]['word']\n",
    "counts = proc_train.loc[proc_train[text_cols].agg(' '.join, axis=1).str.contains(word)]['relevancia'].value_counts()\n",
    "total  = proc_train['relevancia'].value_counts()\n",
    "freq   = counts / total\n",
    "pl.bar(freq.index, freq.values)\n",
    "pl.title(word)\n",
    "pl.xlabel('Relevância')\n",
    "pl.ylabel('Freq. com que palavra aparece')\n",
    "pl.show()"
   ]
  },
  {
   "cell_type": "markdown",
   "metadata": {},
   "source": [
    "### Identificando textos similares\n",
    "\n",
    "Aqui nós podemos identificar os erros catastróficos do modelo e ver com quais dados do treino eles se parecem, para eventualmente detectar erros na base de dados."
   ]
  },
  {
   "cell_type": "markdown",
   "metadata": {},
   "source": [
    "#### Funções"
   ]
  },
  {
   "cell_type": "code",
   "execution_count": 140,
   "metadata": {},
   "outputs": [],
   "source": [
    "from sklearn.base import clone"
   ]
  },
  {
   "cell_type": "code",
   "execution_count": 141,
   "metadata": {},
   "outputs": [],
   "source": [
    "from sklearn.metrics.pairwise import euclidean_distances\n",
    "\n",
    "def text_similarity_matrix(corpus, vectorizer, target_r2):\n",
    "    output = {}\n",
    "    \n",
    "    # Transform corpus into a centred (zero mean for columns) \n",
    "    # matrix (rows are texts and columns are tokens):\n",
    "    matrix = vectorizer.fit_transform(corpus).toarray()\n",
    "    matrix_mean = matrix.mean(axis=0)\n",
    "    matrix_centred = matrix - matrix_mean\n",
    "    \n",
    "    output['vocab'] = np.array(vectorizer.get_feature_names())\n",
    "    output['mean_vector'] = matrix_mean\n",
    "    output['term_matrix'] = matrix\n",
    "    \n",
    "    term_freq  = np.transpose(np.transpose(matrix) / np.sqrt(matrix.sum(axis=1)))\n",
    "    binary_cov = term_freq.dot(term_freq.transpose())\n",
    "    np.fill_diagonal(binary_cov, 0)\n",
    "    output['similarity'] = binary_cov\n",
    "    \n",
    "    # SVD:\n",
    "    #U, s, Vh  = np.linalg.svd(matrix_centred, full_matrices=False)\n",
    "\n",
    "    #r2_by_component = np.cumsum(s**2) / np.sum(s**2)\n",
    "\n",
    "    # Get text main features:\n",
    "    #last_component = np.argmin(np.abs(r2_by_component - target_r2))\n",
    "    #print('# components:', last_component)\n",
    "    #text_features  = U[:, :last_component] * np.sqrt(len(matrix))\n",
    "    #output['text_features'] = text_features\n",
    "    \n",
    "    # Compute the distance between texts:\n",
    "    #output['text_distance'] = euclidean_distances(text_features)\n",
    "    \n",
    "    return output"
   ]
  },
  {
   "cell_type": "code",
   "execution_count": 142,
   "metadata": {},
   "outputs": [],
   "source": [
    "class SimpleGroupedColorFunc(object):\n",
    "    \"\"\"Create a color function object which assigns EXACT colors\n",
    "       to certain words based on the color to words mapping\n",
    "\n",
    "       Parameters\n",
    "       ----------\n",
    "       color_to_words : dict(str -> list(str))\n",
    "         A dictionary that maps a color to the list of words.\n",
    "\n",
    "       default_color : str\n",
    "         Color that will be assigned to a word that's not a member\n",
    "         of any value from color_to_words.\n",
    "    \"\"\"\n",
    "\n",
    "    def __init__(self, color_to_words, default_color):\n",
    "        self.word_to_color = {word: color\n",
    "                              for (color, words) in color_to_words.items()\n",
    "                              for word in words}\n",
    "\n",
    "        self.default_color = default_color\n",
    "\n",
    "    def __call__(self, word, **kwargs):\n",
    "        return self.word_to_color.get(word, self.default_color)\n",
    "\n",
    "\n",
    "class GroupedColorFunc(object):\n",
    "    \"\"\"Create a color function object which assigns DIFFERENT SHADES of\n",
    "       specified colors to certain words based on the color to words mapping.\n",
    "\n",
    "       Uses wordcloud.get_single_color_func\n",
    "\n",
    "       Parameters\n",
    "       ----------\n",
    "       color_to_words : dict(str -> list(str))\n",
    "         A dictionary that maps a color to the list of words.\n",
    "\n",
    "       default_color : str\n",
    "         Color that will be assigned to a word that's not a member\n",
    "         of any value from color_to_words.\n",
    "    \"\"\"\n",
    "\n",
    "    def __init__(self, color_to_words, default_color):\n",
    "        self.color_func_to_words = [\n",
    "            (get_single_color_func(color), set(words))\n",
    "            for (color, words) in color_to_words.items()]\n",
    "\n",
    "        self.default_color_func = get_single_color_func(default_color)\n",
    "\n",
    "    def get_color_func(self, word):\n",
    "        \"\"\"Returns a single_color_func associated with the word\"\"\"\n",
    "        try:\n",
    "            color_func = next(\n",
    "                color_func for (color_func, words) in self.color_func_to_words\n",
    "                if word in words)\n",
    "        except StopIteration:\n",
    "            color_func = self.default_color_func\n",
    "\n",
    "        return color_func\n",
    "\n",
    "    def __call__(self, word, **kwargs):\n",
    "        return self.get_color_func(word)(word, **kwargs)"
   ]
  },
  {
   "cell_type": "code",
   "execution_count": 143,
   "metadata": {},
   "outputs": [],
   "source": [
    "def plot_word_vector(vocab, vector):\n",
    "    \"\"\"\n",
    "    Plot a wordcloud for words in `vocab` with frequency given by `vector`.\n",
    "    Positive frequencies are plot in blue, negative frequencias as plot in red.\n",
    "    \"\"\"\n",
    "    \n",
    "    assert np.shape(vocab) == np.shape(np.array(vector)), '`vocab` and `vector` must have the same shape.'\n",
    "    assert type(vocab[0]) == str or type(vocab[0]) == np.str_, '`vocab` must be a array-like of strings.'\n",
    "    \n",
    "    from wordcloud import (WordCloud, get_single_color_func)\n",
    "    wc = WordCloud(background_color='white', relative_scaling=0.8, include_numbers=True, width=800, height=400)\n",
    "\n",
    "    abs_vector = np.abs(vector)\n",
    "    # Set word sizes:\n",
    "    word_frequencies = {word:weight for word, weight in zip(vocab, abs_vector)}\n",
    "    # Define colors of words (negatives are red, positives are blue):\n",
    "    plus_words  = [word for word, weight in zip(vocab, vector) if weight > 0]\n",
    "    minus_words = [word for word, weight in zip(vocab, vector) if weight < 0]\n",
    "    color_to_words =  {'blue': plus_words, 'red': minus_words}\n",
    "    default_color  = 'grey'\n",
    "    \n",
    "    # Generate wordcloud:\n",
    "    wc.generate_from_frequencies(word_frequencies)\n",
    "    # Color words according to their signs:\n",
    "    grouped_color_func = SimpleGroupedColorFunc(color_to_words, default_color)\n",
    "    wc.recolor(color_func=grouped_color_func)\n",
    "    \n",
    "    #pl.figure(figsize=(12,7))\n",
    "    pl.imshow(wc, interpolation=\"bilinear\")\n",
    "    pl.axis(\"off\")"
   ]
  },
  {
   "cell_type": "code",
   "execution_count": 144,
   "metadata": {},
   "outputs": [],
   "source": [
    "def build_similarity_df(train, test, vectorizer):\n",
    "    \"\"\"\n",
    "    Compute the similarity between texts stored in `train` and \n",
    "    `test` Pandas series. To vectorize the text, it uses \n",
    "    `vectorizer` (assumed with option binary=True). The similarity \n",
    "    is the number of common tokens normalized to the geometric mean\n",
    "    of the number of tokens in each text.\n",
    "    \n",
    "    Output: A Pandas DataFrame where the rows are train texts and \n",
    "    the columns are test texts (the indices of rows and columns are \n",
    "    the text indices).\n",
    "    \"\"\"\n",
    "    \n",
    "    # Vectorize texts:\n",
    "    vec = clone(vectorizer)\n",
    "    train_matrix = vec.fit_transform(train)\n",
    "    test_matrix  = vec.transform(test)\n",
    "\n",
    "    # Create text similarity df:\n",
    "    norm_train = np.diag(1 / np.sqrt(train_matrix.sum(axis=1).A1))\n",
    "    norm_test  = np.diag(1 / np.sqrt(test_matrix.sum(axis=1).A1))\n",
    "    common_word_counts = train_matrix.dot(test_matrix.transpose()).toarray()\n",
    "    similarity_matrix  = norm_train.dot(common_word_counts).dot(norm_test)\n",
    "    similarity_df = pd.DataFrame(similarity_matrix, index=train.index, columns=test.index)\n",
    "    \n",
    "    return similarity_df"
   ]
  },
  {
   "cell_type": "code",
   "execution_count": 145,
   "metadata": {},
   "outputs": [],
   "source": [
    "def analise_similarity_with(test_idx, train_df, test_df, similarity_df, sim_thresh, max_matches,\n",
    "                            class_col='relevancia', text_col='url'):\n",
    "    \"\"\"\n",
    "    Print information about the best matching training texts to a given test text:\n",
    "    - Class, similarity and text (or link);\n",
    "    - Plot of the ordered similarities above `sim_thresh` threshold;\n",
    "    - Histogram of the train text classes with similarities above `sim_thresh`.\n",
    "    \n",
    "    Input\n",
    "    -----\n",
    "    \n",
    "    test_idx : Pandas DataFrame index\n",
    "        The index of the test text stored in `test_df`.\n",
    "        \n",
    "    train_df : Pandas DataFrame\n",
    "        The training dataset containing the texts tested for similarity with \n",
    "        the test text.\n",
    "        \n",
    "    test_df : Pandas DataFrame\n",
    "        The test dataset containing the test text with index given by `test_idx`.\n",
    "        \n",
    "    similarity_df : Pandas DataFrame\n",
    "        A matrix with similarities between test texts (columns) and train texts (rows).\n",
    "        Computed by the `build_similarity_df` function.\n",
    "        \n",
    "    sim_thresh : float\n",
    "        Minimum similarity used to select texts from `train_df`.\n",
    "        \n",
    "    max_matches : int\n",
    "        Maximum number of train texts whose information is printed. \n",
    "    \"\"\"\n",
    "    # Print test text info:\n",
    "    print(xu.Bold('Test text') + ' (class {:d})'.format(test_df.loc[test_idx, class_col]))\n",
    "    print(test_df.loc[test_idx, text_col])\n",
    "\n",
    "    # Find most similar texts in train sample:\n",
    "    test_ex_similarity = similarity_df[test_idx]\n",
    "    train_best_matches = test_ex_similarity.loc[test_ex_similarity > sim_thresh].sort_values(ascending=False)\n",
    "    train_best_matches_top = train_best_matches.head(max_matches)\n",
    "    best_matches_df = train_df.loc[train_best_matches_top.index]\n",
    "\n",
    "    # Print info about train text:\n",
    "    print(xu.Bold('Train texts'))\n",
    "    for i in best_matches_df.index:\n",
    "        print('(class {:d}  sim. {:.4f})  {:s}'.format(best_matches_df.loc[i, class_col], \n",
    "                                                       train_best_matches[i], \n",
    "                                                       best_matches_df.loc[i, text_col]))\n",
    "    \n",
    "    pl.figure(figsize=(10,4))\n",
    "    # Plot similarities above threshold:\n",
    "    pl.subplot(1,2,1)\n",
    "    pl.plot(train_best_matches.sort_values(ascending=False).values)\n",
    "    pl.xlabel('Posição do texto de treino')\n",
    "    pl.ylabel('Similaridade com texto teste')\n",
    "    # Plot histogram of classes of similar texts:\n",
    "    pl.subplot(1,2,2)\n",
    "    sim_train_class_counts = train_df.loc[train_best_matches.index, 'relevancia'].value_counts()\n",
    "    pl.bar(sim_train_class_counts.index, sim_train_class_counts.values)\n",
    "    pl.xlabel('Relevância do texto de treino')\n",
    "    pl.ylabel('# textos de treino')"
   ]
  },
  {
   "cell_type": "markdown",
   "metadata": {},
   "source": [
    "#### Aplicação"
   ]
  },
  {
   "cell_type": "code",
   "execution_count": 146,
   "metadata": {},
   "outputs": [],
   "source": [
    "# Compute similarity between texts:\n",
    "similarity_df = build_similarity_df(proc_train.tit_org_ementa_text, proc_val.tit_org_ementa_text, vectorizer)"
   ]
  },
  {
   "cell_type": "code",
   "execution_count": 147,
   "metadata": {},
   "outputs": [],
   "source": [
    "# Get validation data true values and predictions:\n",
    "test_df   = proc_val\n",
    "test_pred = pred_val\n",
    "y_pred_true_df = pd.DataFrame({'y_pred':test_pred, 'y_true': test_df['relevancia'].values}, index=test_df.index)"
   ]
  },
  {
   "cell_type": "code",
   "execution_count": 149,
   "metadata": {},
   "outputs": [
    {
     "data": {
      "text/html": [
       "<div>\n",
       "<style scoped>\n",
       "    .dataframe tbody tr th:only-of-type {\n",
       "        vertical-align: middle;\n",
       "    }\n",
       "\n",
       "    .dataframe tbody tr th {\n",
       "        vertical-align: top;\n",
       "    }\n",
       "\n",
       "    .dataframe thead th {\n",
       "        text-align: right;\n",
       "    }\n",
       "</style>\n",
       "<table border=\"1\" class=\"dataframe\">\n",
       "  <thead>\n",
       "    <tr style=\"text-align: right;\">\n",
       "      <th></th>\n",
       "      <th>y_pred</th>\n",
       "      <th>y_true</th>\n",
       "    </tr>\n",
       "  </thead>\n",
       "  <tbody>\n",
       "    <tr>\n",
       "      <th>260</th>\n",
       "      <td>2.245951</td>\n",
       "      <td>4</td>\n",
       "    </tr>\n",
       "    <tr>\n",
       "      <th>1825</th>\n",
       "      <td>2.494436</td>\n",
       "      <td>5</td>\n",
       "    </tr>\n",
       "    <tr>\n",
       "      <th>5941</th>\n",
       "      <td>2.417610</td>\n",
       "      <td>4</td>\n",
       "    </tr>\n",
       "  </tbody>\n",
       "</table>\n",
       "</div>"
      ],
      "text/plain": [
       "        y_pred  y_true\n",
       "260   2.245951       4\n",
       "1825  2.494436       5\n",
       "5941  2.417610       4"
      ]
     },
     "execution_count": 149,
     "metadata": {},
     "output_type": "execute_result"
    }
   ],
   "source": [
    "# Select kind of error to check:\n",
    "y_pred_true_df.loc[(y_pred_true_df.y_true.isin([4,5])) & (y_pred_true_df.y_pred < 2.5)]"
   ]
  },
  {
   "cell_type": "code",
   "execution_count": 151,
   "metadata": {},
   "outputs": [
    {
     "data": {
      "text/html": [
       "<div>\n",
       "<style scoped>\n",
       "    .dataframe tbody tr th:only-of-type {\n",
       "        vertical-align: middle;\n",
       "    }\n",
       "\n",
       "    .dataframe tbody tr th {\n",
       "        vertical-align: top;\n",
       "    }\n",
       "\n",
       "    .dataframe thead th {\n",
       "        text-align: right;\n",
       "    }\n",
       "</style>\n",
       "<table border=\"1\" class=\"dataframe\">\n",
       "  <thead>\n",
       "    <tr style=\"text-align: right;\">\n",
       "      <th></th>\n",
       "      <th>y_pred</th>\n",
       "      <th>y_true</th>\n",
       "    </tr>\n",
       "  </thead>\n",
       "  <tbody>\n",
       "    <tr>\n",
       "      <th>240</th>\n",
       "      <td>4.095901</td>\n",
       "      <td>2</td>\n",
       "    </tr>\n",
       "    <tr>\n",
       "      <th>382</th>\n",
       "      <td>4.137840</td>\n",
       "      <td>2</td>\n",
       "    </tr>\n",
       "    <tr>\n",
       "      <th>823</th>\n",
       "      <td>3.693878</td>\n",
       "      <td>2</td>\n",
       "    </tr>\n",
       "    <tr>\n",
       "      <th>1519</th>\n",
       "      <td>3.931638</td>\n",
       "      <td>2</td>\n",
       "    </tr>\n",
       "    <tr>\n",
       "      <th>2053</th>\n",
       "      <td>3.581182</td>\n",
       "      <td>2</td>\n",
       "    </tr>\n",
       "    <tr>\n",
       "      <th>2336</th>\n",
       "      <td>3.647940</td>\n",
       "      <td>2</td>\n",
       "    </tr>\n",
       "    <tr>\n",
       "      <th>3994</th>\n",
       "      <td>4.187009</td>\n",
       "      <td>2</td>\n",
       "    </tr>\n",
       "    <tr>\n",
       "      <th>4012</th>\n",
       "      <td>3.848293</td>\n",
       "      <td>2</td>\n",
       "    </tr>\n",
       "    <tr>\n",
       "      <th>4855</th>\n",
       "      <td>3.583843</td>\n",
       "      <td>2</td>\n",
       "    </tr>\n",
       "  </tbody>\n",
       "</table>\n",
       "</div>"
      ],
      "text/plain": [
       "        y_pred  y_true\n",
       "240   4.095901       2\n",
       "382   4.137840       2\n",
       "823   3.693878       2\n",
       "1519  3.931638       2\n",
       "2053  3.581182       2\n",
       "2336  3.647940       2\n",
       "3994  4.187009       2\n",
       "4012  3.848293       2\n",
       "4855  3.583843       2"
      ]
     },
     "execution_count": 151,
     "metadata": {},
     "output_type": "execute_result"
    }
   ],
   "source": [
    "# Select kind of error to check:\n",
    "y_pred_true_df.loc[(y_pred_true_df.y_true.isin([1,2])) & (y_pred_true_df.y_pred > 3.5)]"
   ]
  },
  {
   "cell_type": "code",
   "execution_count": 155,
   "metadata": {},
   "outputs": [
    {
     "name": "stdout",
     "output_type": "stream",
     "text": [
      "\u001b[1mTest text\u001b[0m (class 2)\n",
      "http://www.in.gov.br/web/dou/-/decreto-n-10.399-de-16-de-junho-de-2020-261925290\n",
      "\u001b[1mTrain texts\u001b[0m\n",
      "(class 5  sim. 0.7702)  http://www.in.gov.br/web/dou/-/decreto-n-10.186-de-20-de-dezembro-de-2019-234972154\n",
      "(class 5  sim. 0.4317)  http://www.in.gov.br/web/dou/-/decreto-n-10.351-de-18-de-maio-de-2020-257394436\n",
      "(class 3  sim. 0.3956)  http://www.in.gov.br/web/dou/-/decreto-n-10.391-de-5-de-junho-de-2020-260558270\n",
      "(class 5  sim. 0.3826)  http://www.in.gov.br/web/dou/-/decreto-n-10.155-de-4-de-dezembro-de-2019-231561864\n",
      "(class 5  sim. 0.3548)  http://www.in.gov.br/web/dou/-/decreto-n-10.123-de-21-de-novembro-de-2019-229122493\n",
      "(class 2  sim. 0.3450)  http://www.in.gov.br/web/dou/-/decreto-n-10.371-de-22-de-maio-de-2020-258265713\n",
      "(class 2  sim. 0.3276)  http://www.in.gov.br/web/dou/-/decreto-n-10.383-de-28-de-maio-de-2020-259144128\n",
      "(class 5  sim. 0.3272)  http://www.in.gov.br/web/dou/-/decreto-n-10.113-de-12-de-novembro-de-2019-227655443\n",
      "(class 5  sim. 0.3255)  http://www.in.gov.br/web/dou/-/decreto-n-10.280-de-18-de-marco-de-2020-248810083\n",
      "(class 5  sim. 0.3222)  http://www.in.gov.br/web/dou/-/decreto-n-10.120-de-21-de-novembro-de-2019-229122582\n",
      "(class 2  sim. 0.3180)  http://www.in.gov.br/web/dou/-/decreto-n-10.392-de-9-de-junho-de-2020-261041580\n",
      "(class 4  sim. 0.3175)  http://www.in.gov.br/web/dou/-/medida-provisoria-n-973-de-27-de-maio-de-2020-258915254\n",
      "(class 4  sim. 0.3116)  http://www.in.gov.br/web/dou/-/decreto-n-10.377-de-27-de-maio-de-2020-258914970\n",
      "(class 2  sim. 0.3108)  http://www.in.gov.br/web/dou/-/decreto-n-10.389-de-5-de-junho-de-2020-260558330\n",
      "(class 3  sim. 0.3104)  http://www.in.gov.br/web/dou/-/decreto-n-10.370-de-22-de-maio-de-2020-258265663\n",
      "(class 5  sim. 0.3032)  http://www.in.gov.br/web/dou/-/decreto-n-10.100-de-6-de-novembro-de-2019-226514938\n"
     ]
    },
    {
     "data": {
      "image/png": "[encoded data removed]",
      "text/plain": [
       "<Figure size 720x288 with 2 Axes>"
      ]
     },
     "metadata": {
      "needs_background": "light"
     },
     "output_type": "display_data"
    }
   ],
   "source": [
    "analise_similarity_with(3994, train_raw, val_raw, similarity_df, 0.30, 100)"
   ]
  },
  {
   "cell_type": "markdown",
   "metadata": {},
   "source": [
    "## Colocando em produção"
   ]
  },
  {
   "cell_type": "markdown",
   "metadata": {},
   "source": [
    "### Cria modelo de teste para registro"
   ]
  },
  {
   "cell_type": "code",
   "execution_count": null,
   "metadata": {},
   "outputs": [],
   "source": [
    "# Fit to train and validation set; test on test set:\n",
    "#final_test_pipeline = do.create_model()\n",
    "#dump = final_test_pipeline.fit(train_val_concat, train_val_concat.relevancia.values)\n",
    "# Predict:\n",
    "#y_test_pred = final_test_pipeline.predict(test_raw)\n",
    "# Evaluate:\n",
    "#test_score  = ev.cum_recall_metric(test_raw.relevancia.values, y_test_pred)\n",
    "#print('RMSE:       ', np.sqrt(mean_squared_error(test_raw.relevancia.values, y_test_pred)))\n",
    "#print('Cum. Recall:', test_score)"
   ]
  },
  {
   "cell_type": "code",
   "execution_count": 93,
   "metadata": {},
   "outputs": [
    {
     "data": {
      "text/plain": [
       "<module 'dou_sorter_common_functions' from '/home/skems/gabinete/projetos/fiscalizacao/executivo/analises/dou_sorter_common_functions.py'>"
      ]
     },
     "execution_count": 93,
     "metadata": {},
     "output_type": "execute_result"
    }
   ],
   "source": [
    "reload(do)"
   ]
  },
  {
   "cell_type": "code",
   "execution_count": 94,
   "metadata": {},
   "outputs": [],
   "source": [
    "# Create and fit model to train data:\n",
    "final_test_pipeline = do.create_model_sec1()\n",
    "dump = final_test_pipeline.fit(train_raw, train_raw.relevancia.values)\n",
    "#dump = final_test_pipeline.fit(train_val_concat, train_val_concat.relevancia.values)"
   ]
  },
  {
   "cell_type": "code",
   "execution_count": 95,
   "metadata": {},
   "outputs": [
    {
     "name": "stdout",
     "output_type": "stream",
     "text": [
      "RMSE:        0.9853898980350612\n",
      "Cum. Recall: 0.7546425977798528\n"
     ]
    }
   ],
   "source": [
    "# Predict for the validation set:\n",
    "y_train_pred = final_test_pipeline.predict(train_raw) \n",
    "y_val_pred   = final_test_pipeline.predict(val_raw)\n",
    "# Evaluate:\n",
    "train_score  = ev.cum_recall_metric(train_raw.relevancia.values, y_train_pred)\n",
    "val_score    = ev.cum_recall_metric(val_raw.relevancia.values,  y_val_pred)\n",
    "print('RMSE:       ', np.sqrt(mean_squared_error(val_raw.relevancia.values, y_val_pred)))\n",
    "print('Cum. Recall:', val_score)"
   ]
  },
  {
   "cell_type": "code",
   "execution_count": 96,
   "metadata": {},
   "outputs": [
    {
     "name": "stdout",
     "output_type": "stream",
     "text": [
      "RMSE:        0.9209044982642245\n",
      "Cum. Recall: 0.8606612685560057\n"
     ]
    }
   ],
   "source": [
    "# Predict for the test set:\n",
    "y_train_pred = final_test_pipeline.predict(train_raw) \n",
    "y_test_pred  = final_test_pipeline.predict(test_raw)\n",
    "# Evaluate:\n",
    "train_score  = ev.cum_recall_metric(train_raw.relevancia.values, y_train_pred)\n",
    "test_score   = ev.cum_recall_metric(test_raw.relevancia.values,  y_test_pred)\n",
    "print('RMSE:       ', np.sqrt(mean_squared_error(test_raw.relevancia.values, y_test_pred)))\n",
    "print('Cum. Recall:', test_score)"
   ]
  },
  {
   "cell_type": "markdown",
   "metadata": {},
   "source": [
    "### Cria modelo de produção"
   ]
  },
  {
   "cell_type": "code",
   "execution_count": 97,
   "metadata": {},
   "outputs": [],
   "source": [
    "# Create and fit model to train data:\n",
    "final_prod_pipeline = do.create_model_sec1()\n",
    "dump = final_prod_pipeline.fit(classified_secao, classified_secao.relevancia.values)"
   ]
  },
  {
   "cell_type": "markdown",
   "metadata": {},
   "source": [
    "### Salva resultados"
   ]
  },
  {
   "cell_type": "code",
   "execution_count": 98,
   "metadata": {},
   "outputs": [],
   "source": [
    "#ml.save_model('../modelos/dou-1_sorter_ridge_2020-11-16/', final_test_pipeline, final_prod_pipeline, \n",
    "#              train_raw, test_raw, 'cum_recall_metric', train_score, test_score)"
   ]
  },
  {
   "cell_type": "markdown",
   "metadata": {},
   "source": [
    "### Testando modelo em produção"
   ]
  },
  {
   "cell_type": "code",
   "execution_count": 99,
   "metadata": {},
   "outputs": [],
   "source": [
    "import joblib\n",
    "from sklearn.metrics import mean_squared_error\n",
    "# Model evaluation:\n",
    "import dou_model_eval as ev"
   ]
  },
  {
   "cell_type": "markdown",
   "metadata": {},
   "source": [
    "#### Load test data and models"
   ]
  },
  {
   "cell_type": "code",
   "execution_count": 101,
   "metadata": {},
   "outputs": [
    {
     "name": "stdout",
     "output_type": "stream",
     "text": [
      "Most recent data used in production model: 2020-11-13\n",
      "# of examples collected after model production: 0\n"
     ]
    }
   ],
   "source": [
    "# Select (new) data that was not used in the model production:\n",
    "loaded_test_data = pd.read_csv('../modelos/dou-1_sorter_ridge_2020-11-16/test_data.csv')\n",
    "\n",
    "max_loaded_data = loaded_test_data['data_pub'].max()\n",
    "print('Most recent data used in production model:', max_loaded_data)\n",
    "\n",
    "prod_test_data_raw = classified_secao.loc[classified_secao['data_pub'] > max_loaded_data]\n",
    "print('# of examples collected after model production:', len(prod_test_data_raw))"
   ]
  },
  {
   "cell_type": "code",
   "execution_count": 108,
   "metadata": {},
   "outputs": [],
   "source": [
    "# Load model:\n",
    "#loaded_test_model = joblib.load('../modelos/dou-1_sorter_ridge_2020-05-07/tested_model.joblib')\n",
    "#loaded_test_model = joblib.load('../modelos/dou-1_sorter_ridge_2020-07-23/tested_model.joblib')\n",
    "loaded_test_model = joblib.load('../modelos/dou-1_sorter_ridge_2020-11-16/tested_model.joblib')\n",
    "# Temporary fix:\n",
    "#dump = loaded_test_model['pretext'].set_params(cargo_tokens=False)\n",
    "# Predict:\n",
    "y_pred_loaded_test = loaded_test_model.predict(loaded_test_data)\n",
    "#y_pred_test_raw    = loaded_test_model.predict(prod_test_data_raw)"
   ]
  },
  {
   "cell_type": "code",
   "execution_count": 109,
   "metadata": {},
   "outputs": [
    {
     "name": "stdout",
     "output_type": "stream",
     "text": [
      "\u001b[1mLoaded data\u001b[0m\n",
      "RMSE:        0.9209044982642245\n",
      "Cum. Recall: 0.8606612685560057\n"
     ]
    }
   ],
   "source": [
    "# Double model check performance on test set:\n",
    "print(xu.Bold('Loaded data'))\n",
    "print('RMSE:       ', np.sqrt(mean_squared_error(loaded_test_data.relevancia, y_pred_loaded_test)))\n",
    "print('Cum. Recall:', ev.cum_recall_metric(loaded_test_data.relevancia.values, y_pred_loaded_test))\n",
    "#print(xu.Bold('New test data'))\n",
    "#print('RMSE:       ', np.sqrt(mean_squared_error(prod_test_data_raw.relevancia, y_pred_test_raw)))\n",
    "#print('Cum. Recall:', ev.cum_recall_metric(prod_test_data_raw.relevancia.values, y_pred_test_raw))"
   ]
  },
  {
   "cell_type": "code",
   "execution_count": 110,
   "metadata": {},
   "outputs": [
    {
     "data": {
      "text/plain": [
       "2.243359580397611"
      ]
     },
     "execution_count": 110,
     "metadata": {},
     "output_type": "execute_result"
    }
   ],
   "source": [
    "# Smallest score given to a relevant article:\n",
    "y_pred_loaded_test[loaded_test_data.relevancia.isin([4,5])].min()"
   ]
  },
  {
   "cell_type": "code",
   "execution_count": 111,
   "metadata": {},
   "outputs": [
    {
     "data": {
      "image/png": "[encoded data removed]",
      "text/plain": [
       "<Figure size 432x288 with 1 Axes>"
      ]
     },
     "metadata": {
      "needs_background": "light"
     },
     "output_type": "display_data"
    }
   ],
   "source": [
    "ev.plot_recall_curve(loaded_test_data.relevancia.values, y_pred_loaded_test)"
   ]
  },
  {
   "cell_type": "code",
   "execution_count": 112,
   "metadata": {},
   "outputs": [
    {
     "data": {
      "text/plain": [
       "<AxesSubplot:title={'center':'y_pred'}, xlabel='y_true'>"
      ]
     },
     "execution_count": 112,
     "metadata": {},
     "output_type": "execute_result"
    },
    {
     "data": {
      "image/png": "[encoded data removed]",
      "text/plain": [
       "<Figure size 432x288 with 1 Axes>"
      ]
     },
     "metadata": {
      "needs_background": "light"
     },
     "output_type": "display_data"
    }
   ],
   "source": [
    "y_pred_true_loaded_df = pd.DataFrame({'y_pred':y_pred_loaded_test, 'y_true': loaded_test_data.relevancia.values}, \n",
    "                                     index=loaded_test_data.index)\n",
    "y_pred_true_loaded_df.boxplot(column='y_pred', by='y_true', grid=False)"
   ]
  },
  {
   "cell_type": "markdown",
   "metadata": {},
   "source": [
    "#### Test production model on new data"
   ]
  },
  {
   "cell_type": "code",
   "execution_count": 32,
   "metadata": {},
   "outputs": [],
   "source": [
    "# Get predictions from saved production model:\n",
    "#loaded_model = joblib.load('../modelos/dou-1_sorter_ridge_2020-05-07/production_model.joblib')\n",
    "loaded_model = joblib.load('../modelos/dou-1_sorter_ridge_2020-07-23/production_model.joblib')"
   ]
  },
  {
   "cell_type": "code",
   "execution_count": 33,
   "metadata": {},
   "outputs": [],
   "source": [
    "# Temporary fix:\n",
    "#dump = loaded_model['pretext'].set_params(cargo_tokens=False)"
   ]
  },
  {
   "cell_type": "code",
   "execution_count": 34,
   "metadata": {},
   "outputs": [
    {
     "name": "stdout",
     "output_type": "stream",
     "text": [
      "# examples: 954\n"
     ]
    }
   ],
   "source": [
    "sorted_test_data_raw = prod_test_data_raw.sort_values('data_pub')\n",
    "print('# examples:', len(sorted_test_data_raw))"
   ]
  },
  {
   "cell_type": "markdown",
   "metadata": {},
   "source": [
    "#### Métricas de avaliação"
   ]
  },
  {
   "cell_type": "code",
   "execution_count": 35,
   "metadata": {},
   "outputs": [
    {
     "name": "stdout",
     "output_type": "stream",
     "text": [
      "2020-07-23 -- 2020-07-31\n",
      "RMSE:        0.9143025645576168\n",
      "Cum. Recall: 0.8836973082783139\n",
      "\n",
      "2020-07-31 -- 2020-08-18\n",
      "RMSE:        0.7815673301390489\n",
      "Cum. Recall: 0.7496392496392495\n",
      "\n",
      "2020-08-18 -- 2020-08-28\n",
      "RMSE:        0.9096206728191827\n",
      "Cum. Recall: 0.8530836293186957\n",
      "\n",
      "2020-08-28 -- 2020-09-16\n",
      "RMSE:        0.8674638929610887\n",
      "Cum. Recall: 0.8319688109161797\n",
      "\n",
      "2020-09-16 -- 2020-09-28\n",
      "RMSE:        0.9272646606790771\n",
      "Cum. Recall: 0.8390476190476193\n",
      "\n"
     ]
    }
   ],
   "source": [
    "test_batch_size = 200\n",
    "for i in range(0, len(sorted_test_data_raw), test_batch_size):\n",
    "    # Select data:\n",
    "    sel_test_data_raw = sorted_test_data_raw.iloc[i: i + test_batch_size]\n",
    "    print(sel_test_data_raw.iloc[0]['data_pub'], '--' ,sel_test_data_raw.iloc[-1]['data_pub'])\n",
    "    # Predict on new data:\n",
    "    y_pred_loaded = loaded_model.predict(sel_test_data_raw)\n",
    "    print('RMSE:       ', np.sqrt(mean_squared_error(sel_test_data_raw.relevancia, y_pred_loaded)))\n",
    "    print('Cum. Recall:', ev.cum_recall_metric(sel_test_data_raw.relevancia.values, y_pred_loaded))\n",
    "    print('')"
   ]
  },
  {
   "cell_type": "code",
   "execution_count": 37,
   "metadata": {},
   "outputs": [
    {
     "data": {
      "image/png": "[encoded data removed]",
      "text/plain": [
       "<Figure size 432x288 with 1 Axes>"
      ]
     },
     "metadata": {
      "needs_background": "light"
     },
     "output_type": "display_data"
    }
   ],
   "source": [
    "y_pred_loaded = loaded_model.predict(prod_test_data_raw)\n",
    "ev.plot_recall_curve(prod_test_data_raw.relevancia.values, y_pred_loaded)"
   ]
  },
  {
   "cell_type": "code",
   "execution_count": 41,
   "metadata": {},
   "outputs": [
    {
     "data": {
      "image/png": "[encoded data removed]",
      "text/plain": [
       "<Figure size 1080x360 with 1 Axes>"
      ]
     },
     "metadata": {
      "needs_background": "light"
     },
     "output_type": "display_data"
    }
   ],
   "source": [
    "window = 1\n",
    "\n",
    "pl.figure(figsize=(15,5))\n",
    "ev.plot_average_rank(prod_test_data_raw['relevancia'].values, prod_test_data_raw['relevancia'].values, window, \n",
    "                  color='royalblue', label='Perfect')\n",
    "ev.plot_average_rank(prod_test_data_raw['relevancia'].values, y_pred_loaded, window, color='g', label='Model')\n",
    "pl.legend(fontsize=14)\n",
    "pl.show()"
   ]
  },
  {
   "cell_type": "code",
   "execution_count": 39,
   "metadata": {},
   "outputs": [
    {
     "data": {
      "image/png": "[encoded data removed]",
      "text/plain": [
       "<Figure size 432x288 with 1 Axes>"
      ]
     },
     "metadata": {
      "needs_background": "light"
     },
     "output_type": "display_data"
    }
   ],
   "source": [
    "# Join validation true and predicted values:\n",
    "y_pred_true_loaded_df = pd.DataFrame({'y_pred':y_pred_loaded, 'y_true': prod_test_data_raw['relevancia'].values}, \n",
    "                                     index=prod_test_data_raw.index)\n",
    "y_pred_true_loaded_df.boxplot(column='y_pred', by='y_true', grid=False)\n",
    "#pl.savefig('plots/box-plot_rank_by_true_label_' + dt.datetime.now().strftime('%Y-%m-%d') + '.png')\n",
    "pl.ylim([-1,6])\n",
    "pl.show()"
   ]
  },
  {
   "cell_type": "markdown",
   "metadata": {},
   "source": [
    "# Lixo"
   ]
  },
  {
   "cell_type": "markdown",
   "metadata": {
    "collapsed": "true"
   },
   "source": [
    "## Multicolumn vectorizer prototyping"
   ]
  },
  {
   "cell_type": "code",
   "execution_count": 23,
   "metadata": {},
   "outputs": [],
   "source": [
    "def sparse_max(A, B):\n",
    "    \"\"\"\n",
    "    Return the element-wise maximum of sparse matrices `A` and `B`.\n",
    "    \"\"\"\n",
    "    AgtB = (A > B).astype(int)\n",
    "    M = AgtB.multiply(A - B) + B\n",
    "    return M"
   ]
  },
  {
   "cell_type": "code",
   "execution_count": 24,
   "metadata": {},
   "outputs": [],
   "source": [
    "from sklearn.base import BaseEstimator, TransformerMixin\n",
    "\n",
    "class MultiColumnVectorizer(BaseEstimator, TransformerMixin):\n",
    "    \"\"\"\n",
    "    Vectorize text columns into a single term frequency matrix, giving \n",
    "    different weights to text that appears on different columns. It creates\n",
    "    a single vocabulary from all columns, transforms each column separately \n",
    "    and then aggregate them. \n",
    "    \n",
    "    Input\n",
    "    -----\n",
    "            \n",
    "    text_cols : list of str\n",
    "        List of `input_df` column names that contain text.\n",
    "        \n",
    "    text_weights : list of float\n",
    "        Weights that multiply the counts made by `vectorizer` on \n",
    "        each one of `text_cols` columns.\n",
    "        \n",
    "    agg : str\n",
    "        How to aggregate the counts from each column:\n",
    "        - 'sum': Sum the counts from each column.\n",
    "        - 'max': Get the maximum of the counts from the columns.\n",
    "    \n",
    "    kwargs : keyword arguments for the sklearn CountVectorizer object\n",
    "        Parameters for the vectorizer that will be used to vectorize the text columns.\n",
    "        \n",
    "    input_df : Pandas DataFrame\n",
    "        Dataframe containing text columns to be vectorized.\n",
    "\n",
    "    \n",
    "    Transform Return\n",
    "    ----------------\n",
    "    \n",
    "    agg_counts : numpy array or sparse matrix\n",
    "        The aggregated counts of the vocabulary from each column.\n",
    "    \"\"\"\n",
    "    def __init__(self, text_cols, text_weights, agg, **kwargs):\n",
    "        \n",
    "        # Load parameters:\n",
    "        self.text_cols    = text_cols\n",
    "        self.text_weights = text_weights\n",
    "        self.agg          = agg\n",
    "        self.kwargs       = kwargs\n",
    "        self.vec          = CountVectorizer(**kwargs)\n",
    "        \n",
    "        # Valid input checks:\n",
    "        if agg != 'sum' and agg != 'max':\n",
    "            raise Exception(\"Unknown `agg = \" + str(self.agg) + \"` option. It should be 'sum' or 'max'.\") \n",
    "        assert len(text_cols) == len(text_weights), '`text_cols` and `text_weights` must have the same length'\n",
    "    \n",
    "    def fit(self, X, y=None):\n",
    "        \n",
    "        # Select text columns and fill missing values with empty strings:\n",
    "        text_df   = X[self.text_cols].fillna('')       \n",
    "        # Create a single column with all texts:\n",
    "        all_text  = text_df.agg(' '.join, axis=1)\n",
    "        \n",
    "        # Fit vectorizer to all text:\n",
    "        self.vec.fit(all_text)\n",
    "        \n",
    "        return self\n",
    "    \n",
    "    def transform(self, X):\n",
    "         \n",
    "        # Select text columns and fill missing values with empty strings:\n",
    "        text_df   = X[self.text_cols].fillna('')       \n",
    "       \n",
    "        # Vectorize all text columns:\n",
    "        count_matrices = np.array([w * self.vec.transform(text_df[col]) \\\n",
    "                                       for w, col in zip(self.text_weights, self.text_cols)])\n",
    "        # Aggregate the results:\n",
    "        \n",
    "        # Keep the largest weight:\n",
    "        if self.agg == 'max':\n",
    "            agg_counts = count_matrices[0]\n",
    "            if len(count_matrices) > 1:\n",
    "                for count_matrix in count_matrices[1:]:\n",
    "                    agg_counts = sparse_max(agg_counts, count_matrix)\n",
    "        # Sum the weights:\n",
    "        elif self.agg == 'sum':\n",
    "            count_matrices = np.array([w * self.vec.transform(text_df[col]) \\\n",
    "                                       for w, col in zip(self.text_weights, self.text_cols)])\n",
    "            agg_counts = count_matrices.sum(axis=0)\n",
    "        else:\n",
    "            raise Exception(\"Unknown `agg = \" + str(self.agg) + \"` option. It should be 'sum' or 'max'.\") \n",
    "\n",
    "        return agg_counts"
   ]
  },
  {
   "cell_type": "markdown",
   "metadata": {
    "collapsed": "true"
   },
   "source": [
    "## Old stuff"
   ]
  },
  {
   "cell_type": "code",
   "execution_count": null,
   "metadata": {},
   "outputs": [],
   "source": [
    "def array_derivative(y, x=None):\n",
    "    \"\"\"\n",
    "    Given an array `y` and and optional array `x`, compute the derivative\n",
    "    dy / dx (x = [0,1,...,N-1] if unespecified, where N = len(y)). The \n",
    "    derivative value is attributed to the initial point used in the calculation,\n",
    "    and the final value is extrapolated from the last two points in x and y.\n",
    "    \"\"\"\n",
    "    if x != None:\n",
    "        dx = np.diff(x)\n",
    "        assert np.all(np.isclose(dx, np.ones(len(dx)) * dx[0])), 'x should be linearly spaced.'\n",
    "        dx = np.append(dx, dx[-1])\n",
    "    dy = np.diff(y)\n",
    "    # Extrapolate derivative\n",
    "    dy = np.append(dy, [dy[-1] + dy[-1] - dy[-2]])\n",
    "    if x == None:\n",
    "        return dy\n",
    "    else:\n",
    "        return dy / dx"
   ]
  },
  {
   "cell_type": "markdown",
   "metadata": {},
   "source": [
    "### GridSeach na mão"
   ]
  },
  {
   "cell_type": "code",
   "execution_count": 45,
   "metadata": {},
   "outputs": [],
   "source": [
    "text_cols = ['titulo', 'orgao', 'ementa', 'fulltext']\n",
    "colunas_relevantes = ['relevancia', 'tipo_edicao'] + text_cols\n",
    "stopwords = nltk.corpus.stopwords.words('portuguese')\n",
    "dou_extractor = do.PreprocessDOU(colunas_relevantes, 'xxnuloxx')\n",
    "proc_text = do.PreProcessText(lowercase=True, remove_punctuation=True, keep_cash=True, stopwords=stopwords, \n",
    "                              stemmer=None, strip_accents=False, only_letters=True, cargo_tokens=True,\n",
    "                              text_cols=text_cols)\n",
    "\n",
    "pre_pipe = Pipeline([('dou', dou_extractor), ('text', proc_text)])"
   ]
  },
  {
   "cell_type": "code",
   "execution_count": 65,
   "metadata": {},
   "outputs": [],
   "source": [
    "train_proc = pre_pipe.transform(train_raw)\n",
    "val_proc = pre_pipe.transform(val_raw)"
   ]
  },
  {
   "cell_type": "code",
   "execution_count": 66,
   "metadata": {},
   "outputs": [
    {
     "data": {
      "text/plain": [
       "0.7815585740114043"
      ]
     },
     "execution_count": 66,
     "metadata": {},
     "output_type": "execute_result"
    }
   ],
   "source": [
    "vec = ml.MultiColumnVectorizer(text_cols, [0,1,0,1], 'max', \n",
    "                            lowercase=False, binary=True, ngram_range=(1,1), max_df=1.0, min_df=1)\n",
    "\n",
    "final_pipe = Pipeline([('vec', vec), ('fit', clas)])\n",
    "\n",
    "dump = final_pipe.fit(train_proc, train_proc.relevancia.values)\n",
    "ev.cum_recall_metric(val_proc.relevancia.values, final_pipe.predict(val_proc))"
   ]
  },
  {
   "cell_type": "markdown",
   "metadata": {},
   "source": [
    "### Teste de duas pipelines"
   ]
  },
  {
   "cell_type": "code",
   "execution_count": 105,
   "metadata": {},
   "outputs": [
    {
     "data": {
      "text/plain": [
       "<module 'mltools' from '/home/skems/prog/my-python/mltools.py'>"
      ]
     },
     "execution_count": 105,
     "metadata": {},
     "output_type": "execute_result"
    }
   ],
   "source": [
    "reload(ml)"
   ]
  },
  {
   "cell_type": "code",
   "execution_count": 106,
   "metadata": {},
   "outputs": [],
   "source": [
    "text_cols = ['titulo', 'orgao', 'ementa', 'fulltext']\n",
    "colunas_relevantes = ['relevancia', 'tipo_edicao'] + text_cols\n",
    "stopwords = nltk.corpus.stopwords.words('portuguese')\n",
    "dou_extractor = do.PreprocessDOU(colunas_relevantes, 'xxnuloxx')\n",
    "proc_text = do.PreProcessText(lowercase=True, remove_punctuation=True, keep_cash=True, stopwords=stopwords, \n",
    "                              stemmer=None, strip_accents=False, only_letters=True, cargo_tokens=True,\n",
    "                              text_cols=text_cols)\n",
    "vec = ml.MultiColumnVectorizer(text_cols, [1,1,1,1], 'max', \n",
    "                            lowercase=False, binary=True, ngram_range=(1,1), max_df=1.0, min_df=1)\n",
    "clas = Ridge(300)\n",
    "\n",
    "pipe2 = Pipeline([('dou', dou_extractor), ('text', proc_text), ('vec', vec), ('fit', clas)])"
   ]
  },
  {
   "cell_type": "code",
   "execution_count": 107,
   "metadata": {},
   "outputs": [
    {
     "data": {
      "text/plain": [
       "0.7920356033563579"
      ]
     },
     "execution_count": 107,
     "metadata": {},
     "output_type": "execute_result"
    }
   ],
   "source": [
    "dump = pipe2.fit(train_raw, train_raw.relevancia.values)\n",
    "ev.cum_recall_metric(val_raw.relevancia.values, pipe2.predict(val_raw))"
   ]
  },
  {
   "cell_type": "code",
   "execution_count": 26,
   "metadata": {},
   "outputs": [],
   "source": [
    "text_cols = ['tit_org_ementa_text']\n",
    "colunas_relevantes = ['relevancia', 'tipo_edicao'] + text_cols\n",
    "stopwords = nltk.corpus.stopwords.words('portuguese')\n",
    "dou_extractor = do.PreprocessDOU(colunas_relevantes, 'xxnuloxx')\n",
    "proc_text = do.PreProcessText(lowercase=True, remove_punctuation=True, keep_cash=True, stopwords=stopwords, \n",
    "                              stemmer=None, strip_accents=False, only_letters=True, cargo_tokens=True,\n",
    "                              text_cols=text_cols)\n",
    "vec = CountVectorizer(lowercase=False, binary=True, ngram_range=(1,1), max_df=1.0, min_df=1)\n",
    "col = ColumnTransformer([('vec', vec, text_cols[0])])\n",
    "clas = Ridge(300)\n",
    "\n",
    "pipe1 = Pipeline([('dou', dou_extractor), ('text', proc_text), ('vec', col), ('clas', clas)])"
   ]
  },
  {
   "cell_type": "code",
   "execution_count": 27,
   "metadata": {},
   "outputs": [
    {
     "data": {
      "text/plain": [
       "0.7918501692086597"
      ]
     },
     "execution_count": 27,
     "metadata": {},
     "output_type": "execute_result"
    }
   ],
   "source": [
    "dump = pipe1.fit(train_raw, train_raw.relevancia.values)\n",
    "ev.cum_recall_metric(val_raw.relevancia.values, pipe1.predict(val_raw))"
   ]
  },
  {
   "cell_type": "markdown",
   "metadata": {
    "collapsed": "true"
   },
   "source": [
    "## Construindo um vectorizer com pesos"
   ]
  },
  {
   "cell_type": "code",
   "execution_count": 51,
   "metadata": {},
   "outputs": [],
   "source": [
    "import pandas as pd\n",
    "from sklearn.feature_extraction.text import CountVectorizer\n",
    "from sklearn.base import BaseEstimator, TransformerMixin"
   ]
  },
  {
   "cell_type": "code",
   "execution_count": 252,
   "metadata": {},
   "outputs": [],
   "source": [
    "def sparse_max(A, B):\n",
    "    \"\"\"\n",
    "    Return the element-wise maximum of sparse matrices `A` and `B`.\n",
    "    \"\"\"\n",
    "    AgtB = (A > B).astype(int)\n",
    "    M = AgtB.multiply(A - B) + B\n",
    "    return M"
   ]
  },
  {
   "cell_type": "code",
   "execution_count": 279,
   "metadata": {},
   "outputs": [],
   "source": [
    "def multicol_counts(vectorizer, input_df, text_cols, text_weights, agg):\n",
    "    \"\"\"\n",
    "    Vectorize text columns into a single term frequency matrix, giving \n",
    "    different weights to text that appears on different columns. It creates\n",
    "    a single vocabulary from all columns, transforms each column separately \n",
    "    and then aggregate them. \n",
    "    \n",
    "    Input\n",
    "    -----\n",
    "    \n",
    "    vectorizer : sklearn CountVectorizer object\n",
    "        The vectorizer that will be used to vectorize the text columns.\n",
    "        It gets modified by this function in place.\n",
    "        \n",
    "    input_df : Pandas DataFrame\n",
    "        Dataframe containing text columns to be vectorized.\n",
    "        \n",
    "    text_cols : list of str\n",
    "        List of `input_df` column names that contain text.\n",
    "        \n",
    "    text_weights : list of float\n",
    "        Weights that multiply the counts made by `vectorizer` on \n",
    "        each one of `text_cols` columns.\n",
    "        \n",
    "    agg : str\n",
    "        How to aggregate the counts from each column:\n",
    "        - 'sum': Sum the counts from each column.\n",
    "        - 'max': Get the maximum of the counts from the columns.\n",
    "        \n",
    "    Return\n",
    "    ------\n",
    "    \n",
    "    agg_counts : numpy array or sparse matrix\n",
    "        The aggregated counts of the vocabulary from each column.\n",
    "    \"\"\"\n",
    "    \n",
    "    # Select text columns and fill missing values with empty strings:\n",
    "    text_df   = input_df[text_cols].fillna('')\n",
    "    # Create a single column with all texts:\n",
    "    all_text  = text_df.agg(' '.join, axis=1)\n",
    "    \n",
    "    # Fit vectorizer to all text:\n",
    "    vectorizer.fit(all_text)\n",
    "    \n",
    "    # Vectorize all text columns:\n",
    "    count_matrices = np.array([w * vectorizer.transform(text_df[col]) for w, col in zip(text_weights, text_cols)])\n",
    "    \n",
    "    # Aggregate the results:\n",
    "    if agg == 'max':        \n",
    "        agg_counts = count_matrices[0]\n",
    "        if len(count_matrices) > 1:\n",
    "            for count_matrix in count_matrices[1:]:\n",
    "                agg_counts = sparse_max(agg_counts, count_matrix)\n",
    "        \n",
    "    elif agg == 'sum':\n",
    "        agg_counts = count_matrices.sum(axis=0)\n",
    "    else:\n",
    "        raise Exception(\"Unknown `agg = \" + str(agg) + \"` option. It should be 'sum' or 'max'.\") \n",
    "    \n",
    "    return agg_counts"
   ]
  },
  {
   "cell_type": "code",
   "execution_count": 61,
   "metadata": {},
   "outputs": [],
   "source": [
    "from scipy import sparse"
   ]
  },
  {
   "cell_type": "code",
   "execution_count": 290,
   "metadata": {},
   "outputs": [],
   "source": [
    "df = pd.DataFrame({'t1': ['portaria', 'portaria', 'decreto'], 't2': ['coisa ruim', 'nem avisa', 'altera o decreto'], 't3': ['fala qualquer coisa', 'coisa ruim', 'verifica a portaria']})"
   ]
  },
  {
   "cell_type": "code",
   "execution_count": 291,
   "metadata": {},
   "outputs": [
    {
     "data": {
      "text/html": [
       "<div>\n",
       "<style scoped>\n",
       "    .dataframe tbody tr th:only-of-type {\n",
       "        vertical-align: middle;\n",
       "    }\n",
       "\n",
       "    .dataframe tbody tr th {\n",
       "        vertical-align: top;\n",
       "    }\n",
       "\n",
       "    .dataframe thead th {\n",
       "        text-align: right;\n",
       "    }\n",
       "</style>\n",
       "<table border=\"1\" class=\"dataframe\">\n",
       "  <thead>\n",
       "    <tr style=\"text-align: right;\">\n",
       "      <th></th>\n",
       "      <th>t1</th>\n",
       "      <th>t2</th>\n",
       "      <th>t3</th>\n",
       "    </tr>\n",
       "  </thead>\n",
       "  <tbody>\n",
       "    <tr>\n",
       "      <th>0</th>\n",
       "      <td>portaria</td>\n",
       "      <td>coisa ruim</td>\n",
       "      <td>fala qualquer coisa</td>\n",
       "    </tr>\n",
       "    <tr>\n",
       "      <th>1</th>\n",
       "      <td>portaria</td>\n",
       "      <td>nem avisa</td>\n",
       "      <td>coisa ruim</td>\n",
       "    </tr>\n",
       "    <tr>\n",
       "      <th>2</th>\n",
       "      <td>decreto</td>\n",
       "      <td>altera o decreto</td>\n",
       "      <td>verifica a portaria</td>\n",
       "    </tr>\n",
       "  </tbody>\n",
       "</table>\n",
       "</div>"
      ],
      "text/plain": [
       "         t1                t2                   t3\n",
       "0  portaria        coisa ruim  fala qualquer coisa\n",
       "1  portaria         nem avisa           coisa ruim\n",
       "2   decreto  altera o decreto  verifica a portaria"
      ]
     },
     "execution_count": 291,
     "metadata": {},
     "output_type": "execute_result"
    }
   ],
   "source": [
    "df"
   ]
  },
  {
   "cell_type": "code",
   "execution_count": 298,
   "metadata": {},
   "outputs": [],
   "source": [
    "v = CountVectorizer(binary=True)\n",
    "d = multicol_counts(v, df, ['t1', 't2', 't3'], [1, 1, 1], 'max').A"
   ]
  },
  {
   "cell_type": "code",
   "execution_count": 299,
   "metadata": {},
   "outputs": [
    {
     "data": {
      "text/html": [
       "<div>\n",
       "<style scoped>\n",
       "    .dataframe tbody tr th:only-of-type {\n",
       "        vertical-align: middle;\n",
       "    }\n",
       "\n",
       "    .dataframe tbody tr th {\n",
       "        vertical-align: top;\n",
       "    }\n",
       "\n",
       "    .dataframe thead th {\n",
       "        text-align: right;\n",
       "    }\n",
       "</style>\n",
       "<table border=\"1\" class=\"dataframe\">\n",
       "  <thead>\n",
       "    <tr style=\"text-align: right;\">\n",
       "      <th></th>\n",
       "      <th>altera</th>\n",
       "      <th>avisa</th>\n",
       "      <th>coisa</th>\n",
       "      <th>decreto</th>\n",
       "      <th>fala</th>\n",
       "      <th>nem</th>\n",
       "      <th>portaria</th>\n",
       "      <th>qualquer</th>\n",
       "      <th>ruim</th>\n",
       "      <th>verifica</th>\n",
       "    </tr>\n",
       "  </thead>\n",
       "  <tbody>\n",
       "    <tr>\n",
       "      <th>0</th>\n",
       "      <td>0</td>\n",
       "      <td>0</td>\n",
       "      <td>1</td>\n",
       "      <td>0</td>\n",
       "      <td>1</td>\n",
       "      <td>0</td>\n",
       "      <td>1</td>\n",
       "      <td>1</td>\n",
       "      <td>1</td>\n",
       "      <td>0</td>\n",
       "    </tr>\n",
       "    <tr>\n",
       "      <th>1</th>\n",
       "      <td>0</td>\n",
       "      <td>1</td>\n",
       "      <td>1</td>\n",
       "      <td>0</td>\n",
       "      <td>0</td>\n",
       "      <td>1</td>\n",
       "      <td>1</td>\n",
       "      <td>0</td>\n",
       "      <td>1</td>\n",
       "      <td>0</td>\n",
       "    </tr>\n",
       "    <tr>\n",
       "      <th>2</th>\n",
       "      <td>1</td>\n",
       "      <td>0</td>\n",
       "      <td>0</td>\n",
       "      <td>1</td>\n",
       "      <td>0</td>\n",
       "      <td>0</td>\n",
       "      <td>1</td>\n",
       "      <td>0</td>\n",
       "      <td>0</td>\n",
       "      <td>1</td>\n",
       "    </tr>\n",
       "  </tbody>\n",
       "</table>\n",
       "</div>"
      ],
      "text/plain": [
       "   altera  avisa  coisa  decreto  fala  nem  portaria  qualquer  ruim  \\\n",
       "0       0      0      1        0     1    0         1         1     1   \n",
       "1       0      1      1        0     0    1         1         0     1   \n",
       "2       1      0      0        1     0    0         1         0     0   \n",
       "\n",
       "   verifica  \n",
       "0         0  \n",
       "1         0  \n",
       "2         1  "
      ]
     },
     "execution_count": 299,
     "metadata": {},
     "output_type": "execute_result"
    }
   ],
   "source": [
    "pd.DataFrame(data=d, columns=v.get_feature_names())"
   ]
  },
  {
   "cell_type": "code",
   "execution_count": 257,
   "metadata": {},
   "outputs": [],
   "source": [
    "# Testing max of sparse matrix:\n",
    "\n",
    "A = sparse.csr_matrix(np.random.randint(-9,10, 25).reshape((5,5))) \n",
    "B = sparse.csr_matrix(np.random.randint(-9,10, 25).reshape((5,5)))\n",
    "\n",
    "M = sparse_max(A, B)\n",
    "M2 = sparse_max(B, A)\n",
    "\n",
    "# Test symmetry:\n",
    "print((M.A == M2.A).all())\n",
    "# Test that M is larger or equal to A and B, element-wise:\n",
    "print((M.A >= A.A).all())\n",
    "print((M.A >= B.A).all())"
   ]
  },
  {
   "cell_type": "markdown",
   "metadata": {},
   "source": [
    "# Anotações sobre python"
   ]
  },
  {
   "cell_type": "markdown",
   "metadata": {},
   "source": [
    "#### Invertendo um dicionário"
   ]
  },
  {
   "cell_type": "code",
   "execution_count": 43,
   "metadata": {},
   "outputs": [
    {
     "ename": "NameError",
     "evalue": "name 'class_to_weight' is not defined",
     "output_type": "error",
     "traceback": [
      "\u001b[0;31m---------------------------------------------------------------------------\u001b[0m",
      "\u001b[0;31mNameError\u001b[0m                                 Traceback (most recent call last)",
      "\u001b[0;32m<ipython-input-43-6350f25e89ec>\u001b[0m in \u001b[0;36m<module>\u001b[0;34m\u001b[0m\n\u001b[0;32m----> 1\u001b[0;31m \u001b[0;34m{\u001b[0m\u001b[0mw\u001b[0m\u001b[0;34m:\u001b[0m\u001b[0mk\u001b[0m \u001b[0;32mfor\u001b[0m \u001b[0mk\u001b[0m\u001b[0;34m,\u001b[0m\u001b[0mw\u001b[0m \u001b[0;32min\u001b[0m \u001b[0mclass_to_weight\u001b[0m\u001b[0;34m.\u001b[0m\u001b[0mitems\u001b[0m\u001b[0;34m(\u001b[0m\u001b[0;34m)\u001b[0m\u001b[0;34m}\u001b[0m\u001b[0;34m\u001b[0m\u001b[0;34m\u001b[0m\u001b[0m\n\u001b[0m",
      "\u001b[0;31mNameError\u001b[0m: name 'class_to_weight' is not defined"
     ]
    }
   ],
   "source": [
    "{w:k for k,w in class_to_weight.items()}"
   ]
  },
  {
   "cell_type": "markdown",
   "metadata": {},
   "source": [
    "#### Usando `*args` e `**kwargs`"
   ]
  },
  {
   "cell_type": "markdown",
   "metadata": {},
   "source": [
    "Dentro da função, o `arg` de `*arg` é tratado como uma tupla."
   ]
  },
  {
   "cell_type": "code",
   "execution_count": 44,
   "metadata": {},
   "outputs": [],
   "source": [
    "def teste(x, *arg):\n",
    "    print(x)\n",
    "    for a in arg:\n",
    "        print(a)\n",
    "    print(arg)\n",
    "    print(type(arg))"
   ]
  },
  {
   "cell_type": "code",
   "execution_count": 45,
   "metadata": {},
   "outputs": [
    {
     "name": "stdout",
     "output_type": "stream",
     "text": [
      "1\n",
      "aba\n",
      "t\n",
      "-1\n",
      "('aba', 't', -1)\n",
      "<class 'tuple'>\n"
     ]
    }
   ],
   "source": [
    "teste(1, 'aba', 't', -1)"
   ]
  },
  {
   "cell_type": "code",
   "execution_count": 46,
   "metadata": {},
   "outputs": [
    {
     "name": "stdout",
     "output_type": "stream",
     "text": [
      "1\n",
      "10\n",
      "20\n",
      "30\n",
      "(10, 20, 30)\n",
      "<class 'tuple'>\n"
     ]
    }
   ],
   "source": [
    "teste(1, *(10,20,30))"
   ]
  },
  {
   "cell_type": "markdown",
   "metadata": {},
   "source": [
    "`kmargs` significa **k**ey**w**ord arguments. Dentro da função, o `kwargs` é tratado como dicionário."
   ]
  },
  {
   "cell_type": "code",
   "execution_count": 47,
   "metadata": {},
   "outputs": [],
   "source": [
    "def teste(x, **kwargs):\n",
    "    print(x)\n",
    "    print(kwargs)\n",
    "    print(type(kwargs))\n",
    "    print(kwargs['abacate'])"
   ]
  },
  {
   "cell_type": "code",
   "execution_count": 48,
   "metadata": {},
   "outputs": [
    {
     "name": "stdout",
     "output_type": "stream",
     "text": [
      "1\n",
      "{'abacate': 2, 'felix': 'coco', 'blob': 1000}\n",
      "<class 'dict'>\n",
      "2\n"
     ]
    }
   ],
   "source": [
    "teste(1, abacate=2, felix='coco', blob=1000)"
   ]
  },
  {
   "cell_type": "code",
   "execution_count": 49,
   "metadata": {},
   "outputs": [
    {
     "name": "stdout",
     "output_type": "stream",
     "text": [
      "1\n",
      "{'abacate': 1, 'y': 2}\n",
      "<class 'dict'>\n",
      "1\n"
     ]
    }
   ],
   "source": [
    "teste(1, **{'abacate':1, 'y':2})"
   ]
  },
  {
   "cell_type": "code",
   "execution_count": null,
   "metadata": {},
   "outputs": [],
   "source": []
  }
 ],
 "metadata": {
  "kernelspec": {
   "display_name": "Python 3",
   "language": "python",
   "name": "python3"
  },
  "language_info": {
   "codemirror_mode": {
    "name": "ipython",
    "version": 3
   },
   "file_extension": ".py",
   "mimetype": "text/x-python",
   "name": "python",
   "nbconvert_exporter": "python",
   "pygments_lexer": "ipython3",
   "version": "3.8.10"
  }
 },
 "nbformat": 4,
 "nbformat_minor": 4
}
