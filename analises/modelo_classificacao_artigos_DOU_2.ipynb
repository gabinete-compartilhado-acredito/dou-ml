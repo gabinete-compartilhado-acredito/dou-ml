{
 "cells": [
  {
   "cell_type": "markdown",
   "metadata": {
    "tags": []
   },
   "source": [
    "# Modelo para classificar relevância dos artigos do DOU\n",
    "## Seção 2\n",
    "\n",
    "Dado um conjunto de artigos do DOU classificados pela equipe na escala de 1 a 5 em relevância, vamos criar um modelo de machine learning para dar notas a novos artigos."
   ]
  },
  {
   "cell_type": "code",
   "execution_count": 1,
   "metadata": {},
   "outputs": [],
   "source": [
    "import pandas as pd\n",
    "import utils as xu\n",
    "import datetime as dt\n",
    "import re\n",
    "import numpy as np\n",
    "import matplotlib.pyplot as pl\n",
    "import mltools as ml\n",
    "from importlib import reload"
   ]
  },
  {
   "cell_type": "markdown",
   "metadata": {},
   "source": [
    "## Carrega os dados\n",
    "\n",
    "Os dados são classificados diariamente pela equipe, e vai parar numa tabela do BigQuery. \n",
    "Nós podemos pegar, a cada dia, um número maior de artigos classificados."
   ]
  },
  {
   "cell_type": "markdown",
   "metadata": {},
   "source": [
    "### Cortes nos dados"
   ]
  },
  {
   "cell_type": "markdown",
   "metadata": {},
   "source": [
    "Ao longo do processo de classificação manual, os critérios para seleção inicial dos artigos foram mudando. Aqui nós aplicamos os critétios mais atualizados para homogeneizar os dados selecionados."
   ]
  },
  {
   "cell_type": "code",
   "execution_count": 2,
   "metadata": {},
   "outputs": [],
   "source": [
    "query_1_cuts = \"\"\"\n",
    "secao = 1\n",
    "AND (\n",
    "     LOWER(identifica) LIKE '%decreto%' \n",
    "  OR LOWER(identifica) LIKE '%portaria%' \n",
    "  OR LOWER(identifica) LIKE '%resolu%'\n",
    "  OR LOWER(identifica) LIKE '%medida provisória%'\n",
    "  OR LOWER(identifica) LIKE '%lei %'\n",
    ")\n",
    "AND NOT REGEXP_CONTAINS(LOWER(edicao), '-')\n",
    "AND (LOWER(orgao) NOT LIKE '%universidade%' AND LOWER(orgao) NOT LIKE '%instituto federal%')\n",
    "AND (LOWER(orgao) NOT LIKE '%superintendência regional%')\n",
    "AND (LOWER(orgao) NOT LIKE '%gerência regional%')\n",
    "AND (LOWER(orgao) NOT LIKE '%superintendência estadual%' AND LOWER(orgao) NOT LIKE '%colégio%')\n",
    "AND SPLIT(orgao, '/')[OFFSET(0)] \n",
    "  NOT IN ('Conselho Nacional do Ministério Público', \n",
    "          'Entidades de Fiscalização do Exercício das Profissões Liberais', 'Governo do Estado', 'Ineditoriais', \n",
    "          'Defensoria Pública da União', 'Ministério Público da União', 'Poder Judiciário', 'Prefeituras', \n",
    "          'Tribunal de Contas da União', 'Atos do Poder Judiciário')\n",
    "AND orgao \n",
    "  NOT IN ('Conselho Nacional do Ministério Público', \n",
    "          'Entidades de Fiscalização do Exercício das Profissões Liberais', 'Governo do Estado', 'Ineditoriais', \n",
    "          'Defensoria Pública da União', 'Ministério Público da União', 'Poder Judiciário', 'Prefeituras', \n",
    "          'Tribunal de Contas da União', 'Atos do Poder Judiciário')\n",
    "AND (orgao NOT LIKE '%Coordenação de Processos Migratórios%')\n",
    "AND (orgao NOT LIKE '%Secretaria de Fomento e Incentivo à Cultura%')\n",
    "AND (orgao NOT LIKE '%Departamento de Radiodifusão Comercial%')\n",
    "\"\"\""
   ]
  },
  {
   "cell_type": "code",
   "execution_count": 3,
   "metadata": {},
   "outputs": [],
   "source": [
    "query_2_cuts = \"\"\"\n",
    "secao = 2\n",
    "AND NOT REGEXP_CONTAINS(LOWER(edicao), '-')\n",
    "AND (LOWER(orgao) NOT LIKE '%universidade%' AND LOWER(orgao) NOT LIKE '%instituto federal%')\n",
    "AND (LOWER(orgao) NOT LIKE '%superintendência regional%')\n",
    "AND (LOWER(orgao) NOT LIKE '%gerência regional%')\n",
    "AND (LOWER(orgao) NOT LIKE '%superintendência estadual%' AND LOWER(orgao) NOT LIKE '%colégio%')\n",
    "AND SPLIT(orgao, '/')[OFFSET(0)] \n",
    "  NOT IN ('Conselho Nacional do Ministério Público', \n",
    "          'Entidades de Fiscalização do Exercício das Profissões Liberais', 'Governo do Estado', 'Ineditoriais', \n",
    "          'Defensoria Pública da União', 'Ministério Público da União', 'Poder Judiciário', 'Prefeituras', \n",
    "          'Tribunal de Contas da União', 'Atos do Poder Judiciário', 'Poder Legislativo')\n",
    "AND orgao \n",
    "  NOT IN ('Conselho Nacional do Ministério Público', \n",
    "          'Entidades de Fiscalização do Exercício das Profissões Liberais', 'Governo do Estado', 'Ineditoriais', \n",
    "          'Defensoria Pública da União', 'Ministério Público da União', 'Poder Judiciário', 'Prefeituras', \n",
    "          'Tribunal de Contas da União', 'Atos do Poder Judiciário', 'Poder Legislativo')\n",
    "AND (LOWER(orgao) NOT LIKE '%comando militar%')\n",
    "AND (LOWER(orgao) NOT LIKE '%hospital%')\n",
    "AND LOWER(fulltext) NOT LIKE '%conceder aposentadoria%' AND LOWER(fulltext) NOT LIKE '%aposentar%'\n",
    "AND LOWER(fulltext) NOT LIKE '%conceder pensão%' \n",
    "AND LOWER(fulltext) NOT LIKE '%afastamento do país%'\n",
    "\"\"\""
   ]
  },
  {
   "cell_type": "code",
   "execution_count": 4,
   "metadata": {},
   "outputs": [],
   "source": [
    "query_3_cuts = \"\"\"\n",
    "secao = 3\n",
    "AND NOT REGEXP_CONTAINS(LOWER(edicao), '-')\n",
    "AND (LOWER(orgao) NOT LIKE '%universidade%' AND LOWER(orgao) NOT LIKE '%instituto federal%')\n",
    "AND (LOWER(orgao) NOT LIKE '%superintendência regional%')\n",
    "AND (LOWER(orgao) NOT LIKE '%gerência regional%')\n",
    "AND (LOWER(orgao) NOT LIKE '%superintendência estadual%' AND LOWER(orgao) NOT LIKE '%colégio%')\n",
    "AND SPLIT(orgao, '/')[OFFSET(0)] \n",
    "  NOT IN ('Conselho Nacional do Ministério Público', \n",
    "          'Entidades de Fiscalização do Exercício das Profissões Liberais', 'Governo do Estado', 'Ineditoriais', \n",
    "          'Defensoria Pública da União', 'Ministério Público da União', 'Poder Judiciário', 'Prefeituras', \n",
    "          'Tribunal de Contas da União', 'Atos do Poder Judiciário')\n",
    "AND orgao \n",
    "  NOT IN ('Conselho Nacional do Ministério Público', \n",
    "          'Entidades de Fiscalização do Exercício das Profissões Liberais', 'Governo do Estado', 'Ineditoriais', \n",
    "          'Defensoria Pública da União', 'Ministério Público da União', 'Poder Judiciário', 'Prefeituras', \n",
    "          'Tribunal de Contas da União', 'Atos do Poder Judiciário')\n",
    "\"\"\""
   ]
  },
  {
   "cell_type": "code",
   "execution_count": 5,
   "metadata": {},
   "outputs": [],
   "source": [
    "query_e_cuts = \"\"\"\n",
    "REGEXP_CONTAINS(LOWER(edicao), '-')\n",
    "AND (LOWER(orgao) NOT LIKE '%universidade%' AND LOWER(orgao) NOT LIKE '%instituto federal%')\n",
    "AND (LOWER(orgao) NOT LIKE '%superintendência regional%')\n",
    "AND (LOWER(orgao) NOT LIKE '%gerência regional%')\n",
    "AND (LOWER(orgao) NOT LIKE '%superintendência estadual%' AND LOWER(orgao) NOT LIKE '%colégio%')\n",
    "AND SPLIT(orgao, '/')[OFFSET(0)] \n",
    "  NOT IN ('Conselho Nacional do Ministério Público', \n",
    "          'Entidades de Fiscalização do Exercício das Profissões Liberais', 'Governo do Estado', 'Ineditoriais', \n",
    "          'Defensoria Pública da União', 'Ministério Público da União', 'Poder Judiciário', 'Prefeituras', \n",
    "          'Tribunal de Contas da União', 'Atos do Poder Judiciário')\n",
    "AND orgao \n",
    "  NOT IN ('Conselho Nacional do Ministério Público', \n",
    "          'Entidades de Fiscalização do Exercício das Profissões Liberais', 'Governo do Estado', 'Ineditoriais', \n",
    "          'Defensoria Pública da União', 'Ministério Público da União', 'Poder Judiciário', 'Prefeituras', \n",
    "          'Tribunal de Contas da União', 'Atos do Poder Judiciário')\n",
    "\"\"\""
   ]
  },
  {
   "cell_type": "code",
   "execution_count": 6,
   "metadata": {},
   "outputs": [],
   "source": [
    "base_query = \"SELECT * FROM `gabinete-compartilhado.executivo_federal_dou.artigos_classificados`\"\n",
    "query_cuts = '('+ ') OR ('.join([query_1_cuts, query_2_cuts, query_3_cuts, query_e_cuts]) + ')'\n",
    "\n",
    "get_classified_query = base_query + ' WHERE ' + query_cuts"
   ]
  },
  {
   "cell_type": "markdown",
   "metadata": {},
   "source": [
    "### Carregando nossa classificação"
   ]
  },
  {
   "cell_type": "markdown",
   "metadata": {},
   "source": [
    "Esta é a classificação de relevância das matérias do DOU, feitas pela equipe. A célula descomentada atualiza os dados com as novas classificações feitas e guardadas no nosso banco de dados. Para acessar dados antigos e já baixados, utilize a célula comentada que aparece logo em seguida."
   ]
  },
  {
   "cell_type": "code",
   "execution_count": 8,
   "metadata": {},
   "outputs": [
    {
     "name": "stdout",
     "output_type": "stream",
     "text": [
      "\u001b[1mArquivo com dados de hoje:\u001b[0m ../dados/artigos_classificados_ate_2021-09-17.csv\n"
     ]
    }
   ],
   "source": [
    "today    = dt.datetime.now().strftime('%Y-%m-%d')\n",
    "filename = '../dados/artigos_classificados_ate_' + today + '.csv'\n",
    "print(xu.Bold('Arquivo com dados de hoje:'), filename)"
   ]
  },
  {
   "cell_type": "code",
   "execution_count": 9,
   "metadata": {},
   "outputs": [
    {
     "name": "stdout",
     "output_type": "stream",
     "text": [
      "Loading data from local file...\n"
     ]
    }
   ],
   "source": [
    "classified_raw = xu.load_data_from_local_or_bigquery(get_classified_query, filename)"
   ]
  },
  {
   "cell_type": "code",
   "execution_count": 7,
   "metadata": {},
   "outputs": [],
   "source": [
    "# Para carregar classificações feitas até uma certa data:\n",
    "#classified_raw = pd.read_csv('../dados/artigos_classificados_ate_2021-09-17.csv')"
   ]
  },
  {
   "cell_type": "code",
   "execution_count": 11,
   "metadata": {},
   "outputs": [
    {
     "name": "stdout",
     "output_type": "stream",
     "text": [
      "Found 0 missing URLs in data (0.0%)\n",
      "\u001b[1mThese will be removed!\u001b[0m\n"
     ]
    }
   ],
   "source": [
    "n_null_url    = len(classified_raw.loc[classified_raw.url.isnull()])\n",
    "frac_null_url = n_null_url / len(classified_raw)\n",
    "print('Found', n_null_url, 'missing URLs in data ({:.1f}%)'.format(frac_null_url * 100))\n",
    "print(xu.Bold('These will be removed!'))"
   ]
  },
  {
   "cell_type": "code",
   "execution_count": 12,
   "metadata": {},
   "outputs": [
    {
     "name": "stdout",
     "output_type": "stream",
     "text": [
      "Dados disponíveis: 14442\n"
     ]
    }
   ],
   "source": [
    "# We removed articles without urls because they shouldn't exist and we \n",
    "# will use urls as identifiers.\n",
    "classified_w_url = classified_raw.loc[~classified_raw.url.isnull()]\n",
    "print('Dados disponíveis:', len(classified_w_url))"
   ]
  },
  {
   "cell_type": "code",
   "execution_count": 13,
   "metadata": {},
   "outputs": [
    {
     "data": {
      "text/plain": [
       "1    0.520219\n",
       "2    0.250519\n",
       "3    0.097355\n",
       "4    0.080114\n",
       "5    0.051793\n",
       "Name: relevancia, dtype: float64"
      ]
     },
     "execution_count": 13,
     "metadata": {},
     "output_type": "execute_result"
    }
   ],
   "source": [
    "# Frequência de cada relevância na amostra classificada pela equipe:\n",
    "dou_class_freq = classified_w_url.relevancia.value_counts(normalize=True)\n",
    "dou_class_freq"
   ]
  },
  {
   "cell_type": "markdown",
   "metadata": {},
   "source": [
    "## Selecionando seção e train validation test split"
   ]
  },
  {
   "cell_type": "markdown",
   "metadata": {},
   "source": [
    "Precisamos fazer o split por data, para que o modelo seja treinado para prever o futuro."
   ]
  },
  {
   "cell_type": "code",
   "execution_count": 14,
   "metadata": {},
   "outputs": [],
   "source": [
    "# Select seção 1 and define a set splitting date:\n",
    "secao = 2\n",
    "min_test_date = '2021-03-13'\n",
    "\n",
    "# Seleciona a seção:\n",
    "classified_secao = classified_w_url.loc[classified_w_url.secao == secao]\n",
    "\n",
    "# Split data into training, validation and test sets:\n",
    "#train_raw, val_raw, test_raw = ml.train_val_test_split_by_date_n_string(classified_secao, 'data_pub', \n",
    "#                                                                        min_test_date, \n",
    "#                                                                        'url', 'http://www.in.gov.br/web/dou/-/')\n",
    "\n",
    "# Randomly split dataset:\n",
    "build_raw, test_raw = ml.train_test_split_by_string(classified_secao, 0.15, 'url', 'http://www.in.gov.br/web/dou/-/')\n",
    "train_raw, val_raw  = ml.train_test_split_by_string(build_raw, 0.17, 'url', 'http://www.in.gov.br/')"
   ]
  },
  {
   "cell_type": "code",
   "execution_count": 15,
   "metadata": {},
   "outputs": [
    {
     "data": {
      "text/html": [
       "<div>\n",
       "<style scoped>\n",
       "    .dataframe tbody tr th:only-of-type {\n",
       "        vertical-align: middle;\n",
       "    }\n",
       "\n",
       "    .dataframe tbody tr th {\n",
       "        vertical-align: top;\n",
       "    }\n",
       "\n",
       "    .dataframe thead th {\n",
       "        text-align: right;\n",
       "    }\n",
       "</style>\n",
       "<table border=\"1\" class=\"dataframe\">\n",
       "  <thead>\n",
       "    <tr style=\"text-align: right;\">\n",
       "      <th></th>\n",
       "      <th>train</th>\n",
       "      <th>val</th>\n",
       "      <th>test</th>\n",
       "    </tr>\n",
       "  </thead>\n",
       "  <tbody>\n",
       "    <tr>\n",
       "      <th>1</th>\n",
       "      <td>3245</td>\n",
       "      <td>653</td>\n",
       "      <td>668</td>\n",
       "    </tr>\n",
       "    <tr>\n",
       "      <th>2</th>\n",
       "      <td>1646</td>\n",
       "      <td>363</td>\n",
       "      <td>333</td>\n",
       "    </tr>\n",
       "    <tr>\n",
       "      <th>3</th>\n",
       "      <td>474</td>\n",
       "      <td>80</td>\n",
       "      <td>100</td>\n",
       "    </tr>\n",
       "    <tr>\n",
       "      <th>4</th>\n",
       "      <td>392</td>\n",
       "      <td>79</td>\n",
       "      <td>84</td>\n",
       "    </tr>\n",
       "    <tr>\n",
       "      <th>5</th>\n",
       "      <td>294</td>\n",
       "      <td>70</td>\n",
       "      <td>72</td>\n",
       "    </tr>\n",
       "  </tbody>\n",
       "</table>\n",
       "</div>"
      ],
      "text/plain": [
       "   train  val  test\n",
       "1   3245  653   668\n",
       "2   1646  363   333\n",
       "3    474   80   100\n",
       "4    392   79    84\n",
       "5    294   70    72"
      ]
     },
     "execution_count": 15,
     "metadata": {},
     "output_type": "execute_result"
    }
   ],
   "source": [
    "# Check the amount of each class in each set:\n",
    "n_ex_by_relevancia = pd.DataFrame()\n",
    "n_ex_by_relevancia['train'] = train_raw.relevancia.value_counts()\n",
    "n_ex_by_relevancia['val']   = val_raw.relevancia.value_counts()\n",
    "n_ex_by_relevancia['test']  = test_raw.relevancia.value_counts()\n",
    "assert n_ex_by_relevancia.isna().any().any() == False, 'Some set has missing classes'\n",
    "n_ex_by_relevancia.sort_index()"
   ]
  },
  {
   "cell_type": "markdown",
   "metadata": {},
   "source": [
    "## Modelagem\n",
    "\n",
    "Design do modelo"
   ]
  },
  {
   "cell_type": "markdown",
   "metadata": {},
   "source": [
    "### Construção da pipeline"
   ]
  },
  {
   "cell_type": "code",
   "execution_count": 16,
   "metadata": {},
   "outputs": [],
   "source": [
    "# Preprocessing:\n",
    "import dou_sorter_common_functions as do\n",
    "# Model evaluation:\n",
    "import dou_model_eval as ev"
   ]
  },
  {
   "cell_type": "code",
   "execution_count": 17,
   "metadata": {},
   "outputs": [],
   "source": [
    "import nltk\n",
    "from sklearn.pipeline import Pipeline\n",
    "\n",
    "from sklearn.feature_extraction.text import CountVectorizer\n",
    "from sklearn.feature_extraction.text import TfidfVectorizer\n",
    "from sklearn.preprocessing import OneHotEncoder\n",
    "from sklearn.compose import ColumnTransformer\n",
    "from sklearn.linear_model import Ridge\n",
    "from sklearn.linear_model import Lasso\n",
    "from sklearn.linear_model import ElasticNet\n",
    "from sklearn.svm import SVR\n",
    "from sklearn.tree import DecisionTreeRegressor\n",
    "from sklearn.ensemble import RandomForestRegressor\n",
    "from sklearn.ensemble import BaggingRegressor\n",
    "from sklearn.linear_model import HuberRegressor\n",
    "from sklearn.ensemble import VotingRegressor\n",
    "from sklearn.ensemble import AdaBoostRegressor\n",
    "from sklearn.neural_network import MLPRegressor"
   ]
  },
  {
   "cell_type": "code",
   "execution_count": 18,
   "metadata": {},
   "outputs": [],
   "source": [
    "# Pré-processamento (s/ fit):\n",
    "text_col = 'tit_org_ementa_text'\n",
    "colunas_relevantes = ['relevancia', 'tipo_edicao'] + [text_col]\n",
    "\n",
    "stopwords = nltk.corpus.stopwords.words('portuguese')\n",
    "\n",
    "dou_extractor = do.PreprocessDOU(colunas_relevantes, 'xxnuloxx')\n",
    "\n",
    "proc_text = do.PreProcessText(cargo_tokens=True, lowercase=True, remove_punctuation=True, keep_cash=True, \n",
    "                              stopwords=stopwords, stemmer=None, strip_accents=False, only_letters=False,\n",
    "                              text_cols=[text_col])\n",
    "\n",
    "preprocess = Pipeline([('dou', dou_extractor), ('pretext', proc_text)])\n",
    "\n",
    "# Keywords to give extra weights:\n",
    "keywords = ['superior', 'Ceder', 'Assessor', 'Coordenador-Geral', 'EDUCAÇÃO', 'MEIO AMBIENTE', 'Tecnologia da Informação', \n",
    "            'Pessoa com Deficiência', 'TURISMO', 'Cultura', 'Mulheres', 'Chefe de Gabinete', \n",
    "            'Igualdade Racial', 'xxcaiixx', 'xxcaixx', 'xxcddoisxx', 'xxcdtxx', 'xxcgeiiixx', \n",
    "            'xxcgeiixx', 'xxcgeivxx', 'xxcgeixx', 'xxcnexx', 'xxdascincoxx', 'xxdasdoisxx', \n",
    "            'xxdasquatroxx', 'xxdasseisxx', 'xxdastresxx', 'xxdasumxx', 'xxfcpecincoxx', 'xxfcpedoisxx', \n",
    "            'xxfcpequatroxx', 'xxfcpetresxx', 'xxfcpeumxx', 'xxnaturezaespecialxx', \n",
    "            'xxnaturezaespecialxx xxnexx', 'xxnexx', 'substituto', 'substituta', 'substituir', \n",
    "            'Diretor', 'Secretário', 'Diretora', 'Secretária', 'Superintendente-Geral', \n",
    "            'Superintendente Regional', 'Gerente Regional', 'cargo de Secretário', 'cargo de Secretária',\n",
    "            'comissão de Secretário', 'comissão de Secretária', 'comissionada de Secretário', \n",
    "            'comissionada de Secretária', 'cargo de Diretor', 'cargo de Diretora',\n",
    "            'comissão de Diretor', 'comissão de Diretora', 'comissionada de Diretor', \n",
    "            'comissionada de Diretora', 'cargo de Ministro', 'cargo de Ministra', 'comissionado de Secretário',\n",
    "            'comissionado de Secretária', 'cargo de Coordenador-Geral', 'comissionado de Coordenador-Geral',\n",
    "            'comissão de Coordenador-Geral', 'cargo de Assessor', 'comissionado de Assessor', \n",
    "            'comissão de Assessor', 'cargo de Assessora', 'comissionado de Assessora', 'comissão de Assessora']\n",
    "#keywords = ['xxdasdoisxx', 'xxdastresxx', 'xxdasumxx', 'xxfcpedoisxx', 'xxfcpetresxx', 'xxfcpeumxx', \n",
    "#            'substituto','substituta', 'substituir', 'substituto eventual', 'substituta eventual'] # 0.925 \n",
    "#anti_keywords = ['cargo', 'ambiente', 'comissão', 'comissionada', 'educação', 'gabinete', 'meio', 'pessoa', \n",
    "#                 'Tecnologia', 'Tecnologia da', 'da Informação', 'Pessoa com', 'Igualdade', 'geral',\n",
    "#                 'cargo de', 'regional', 'comissão de', 'comissionada de', 'comissionado', 'comissionado de',\n",
    "#                 'eventual']\n",
    "anti_keywords = ['cargo']\n",
    "keywords_df        = pd.DataFrame({text_col: keywords})\n",
    "anti_keywords_df   = pd.DataFrame({text_col: anti_keywords})\n",
    "proc_keywords      = list(proc_text.transform(keywords_df)[text_col].values)\n",
    "proc_anti_keywords = list(proc_text.transform(anti_keywords_df)[text_col].values)\n",
    "\n",
    "# Fit processing and model:\n",
    "vectorizer    = CountVectorizer(lowercase=False, binary=True, ngram_range=(1,1), max_df=0.7, min_df=2)\n",
    "#vectorizer    = ml.WeightedVectorizer(lowercase=False, binary=True, ngram_range=(1,1), max_df=0.7, min_df=2,\n",
    "#                                      keywords=proc_keywords, anti_keywords=proc_anti_keywords, keywords_weight=10)\n",
    "#vectorizer    = TfidfVectorizer(lowercase=False, binary=True, ngram_range=(1,1), max_df=0.6, min_df=1)\n",
    "\n",
    "encoder_extra = OneHotEncoder(drop='first')\n",
    "processor     = ColumnTransformer([('vec',   vectorizer,    text_col),\n",
    "                                   ('extra', encoder_extra, ['tipo_edicao'])\n",
    "                                  ])\n",
    "\n",
    "#classifier  = ElasticNet(alpha=0.023, l1_ratio=0.4, selection='random', max_iter=5000)\n",
    "#classifier  = Ridge(30)\n",
    "#classifier  = HuberRegressor(max_iter=1000, epsilon=2.2)\n",
    "#classifier  = SVR(kernel='rbf', C=30, gamma=0.004786827/3)\n",
    "#classifier  = SVR(kernel='poly', degree=2, C=1, coef0=2)\n",
    "#classifier  = SVR(kernel='sigmoid', gamma=0.004786827/3, C=30, coef0=-1)\n",
    "#classifier  = DecisionTreeRegressor(min_samples_split=8, min_samples_leaf=2, max_depth=29)\n",
    "#classifier  = RandomForestRegressor(max_depth=30, min_samples_split=2, n_estimators=20, min_samples_leaf=1, max_samples=0.9, n_jobs=7)\n",
    "#classifier  = Lasso(0.03, max_iter=4000, selection='random', tol=1e-4)\n",
    "#classifier  = Lasso(0.003, max_iter=4000, selection='random', tol=1e-4)\n",
    "#classifier = BaggingRegressor(Ridge(30), n_estimators=400, bootstrap=False)\n",
    "#classifier = VotingRegressor([('svm_rbf', SVR(kernel='rbf', C=10, gamma=0.004786827/3)), \n",
    "#                              ('svm_poly', SVR(kernel='poly', degree=2, C=1, coef0=2)),\n",
    "#                              ('svm_log', SVR(kernel='sigmoid', gamma=0.004786827/3, C=30, coef0=-1))])\n",
    "classifier = VotingRegressor([('ridge', Ridge(30)), \n",
    "                              #('svr', SVR(C=100, gamma=0.004786827)), \n",
    "                              ('forest', RandomForestRegressor(max_depth=25, min_samples_split=2, n_estimators=20, min_samples_leaf=1, max_samples=0.7, n_jobs=7))\n",
    "                             ])\n",
    "#classifier = AdaBoostRegressor(Ridge(1))\n",
    "#classifier  = MLPRegressor(hidden_layer_sizes=(4,), solver='lbfgs', max_iter=500, alpha=80, random_state=5871)\n",
    "fit_pipe    = Pipeline([('proc', processor), ('fit', classifier)])"
   ]
  },
  {
   "cell_type": "code",
   "execution_count": 19,
   "metadata": {},
   "outputs": [],
   "source": [
    "# Instance weights:\n",
    "def relevance2weight(y):\n",
    "    return y "
   ]
  },
  {
   "cell_type": "markdown",
   "metadata": {},
   "source": [
    "### Aplica pipeline ao dados"
   ]
  },
  {
   "cell_type": "code",
   "execution_count": 20,
   "metadata": {},
   "outputs": [],
   "source": [
    "from sklearn.metrics import make_scorer\n",
    "from sklearn.model_selection import GridSearchCV\n",
    "from sklearn.model_selection import RandomizedSearchCV\n",
    "from sklearn.model_selection import PredefinedSplit\n",
    "from sklearn.base import clone"
   ]
  },
  {
   "cell_type": "markdown",
   "metadata": {
    "jp-MarkdownHeadingCollapsed": true,
    "tags": []
   },
   "source": [
    "#### Busca nos hiperparâmetros"
   ]
  },
  {
   "cell_type": "code",
   "execution_count": 21,
   "metadata": {},
   "outputs": [],
   "source": [
    "# Create a CV set and pre-process it:\n",
    "train_val_concat = pd.concat([train_raw, val_raw], sort=False)\n",
    "#train_val_concat = pd.concat([aumented_train_raw, val_raw], sort=False)\n",
    "proc_train_val   = preprocess.transform(train_val_concat)"
   ]
  },
  {
   "cell_type": "code",
   "execution_count": 272,
   "metadata": {},
   "outputs": [],
   "source": [
    "param_grid = [{#'fit__alpha': [2,4,8,16,32,64], # Ridge\n",
    "               #'fit__hidden_layer_sizes': [(4,), (8,), (12,), (16,)]\n",
    "               #'proc__vec__keywords_weight': [0.1, 0.3, 1, 3, 10, 100, 1000]\n",
    "               #'fit__alpha': [10, 30, 100, 300, 1000.0], # Huber\n",
    "               #'fit__epsilon': [3, 3.5, 4, 4.5, 5, 5.5, 6, 6.5, 7] # Huber\n",
    "               #'fit__base_estimator__alpha': [1, 2, 5, 1e1, 2e1, 5e1, 1e2, 2e2, 5e2, 1e3, 2e3, 5e3, 1e4], #Bagging.\n",
    "               #'fit__max_features': [0.01, 0.03, 0.1, 0.3, 0.6, 0.9], # Bagging.\n",
    "               #'fit__C': [3, 10, 30, 100, 300, 1000], # SVR\n",
    "               #'fit__coef0': [-1.5, -1, -0.5, 0],\n",
    "               #'fit__gamma': [0.004786827 * 3, 0.004786827, 0.004786827/3],\n",
    "               #'fit__alpha': [1e-4, 3e-4, 1e-3, 3e-3, 1e-2, 3e-2, 1e-1], # Lasso\n",
    "               #'fit__l1_ratio': [1, 0.9, 0.8, 0.7, 0.6, 0.5, 0.4, 0.3, 0.2, 0.1, 0.01],\n",
    "               #'proc__vec__max_df': [0.2, 0.3, 0.4, 0.5, 0.6, 0.7, 0.8, 1.0],\n",
    "               #'proc__vec__max_df': [1.0],\n",
    "               #'proc__vec__use_idf': [True, False],\n",
    "               #'proc__vec__norm': ['l1', 'l2', None],\n",
    "               #'proc__vec__smooth_idf': [True, False],\n",
    "               #'proc__vec__sublinear_tf':[True, False],\n",
    "               #'proc__vec__min_df': [1, 2, 4, 6, 8, 10],\n",
    "               #'proc__vec__ngram_range': [(1,1), (1,2)],\n",
    "               #'proc__vec__binary': [True, False],\n",
    "              #'proc__vec__ngram_range': [(1,1)],\n",
    "              #'proc__extra': ['drop', encoder_extra],\n",
    "              #'proc__extra': ['drop'],\n",
    "               #'proc__vec__keywords_weight': [1, 3, 10, 30, 100]\n",
    "             }]\n",
    "\n",
    "#param_grid = [{'fit__max_depth':[None, 5, 10, ],\n",
    "#               'fit__min_samples_split':[2,4,8,16,32],\n",
    "#               'fit__min_samples_leaf':[1,2,4,8,16],\n",
    "               #'fit__max_features': ['auto', 'sqrt'],\n",
    "#               'fit__max_samples': [0.3, 0.5, 0.7, 0.9, 1.0],\n",
    "#               'fit__n_estimators': [20]\n",
    "               #'proc__vec__max_df': [0.2, 0.3, 0.4, 0.5, 0.6, 0.7, 0.8, 1.0],\n",
    "               #'proc__vec__min_df': [1, 2, 4, 6, 8, 10],\n",
    "               #'proc__vec__ngram_range': [(1,1), (1,2)],               \n",
    "               #'proc__vec__binary': [True, False]#,\n",
    "              #'proc__vec__keywords_weight': [1, 3, 10, 30, 100]\n",
    "#             }]\n",
    "\n",
    "#param_grid = {'fit__forest__max_depth':[None, 15, 20, 25, 30],\n",
    "#               'fit__forest__min_samples_split':[2, 4, 8, 16, 32],\n",
    "#               'fit__forest__n_estimators': [8, 14, 20],\n",
    "#               'fit__ridge__alpha': [10, 30, 100, 300],\n",
    "#              'proc__vec__max_df': [0.2, 0.4, 0.6, 0.8, 1.0],\n",
    "               #'proc__vec__ngram_range': [(1,1), (1,2)],\n",
    "#               'fit__forest__max_samples': [0.3, 0.5, 0.7, 0.9, 1.0],\n",
    "#               'fit__svr__gamma': ['scale', 0.004786827/3],\n",
    "#               'proc__vec__max_df': [0.2, 0.3, 0.4, 0.5, 0.6, 0.7, 0.8, 1.0],\n",
    "#               'proc__vec__keywords_weight': [1, 2, 5, 10, 20, 50, 100, 200]\n",
    "#             }\n",
    "\n",
    "#param_grid = {'fit__forest__max_depth':[4, 5, 6, 7, 8, 9, 10],\n",
    "#               'fit__forest__min_samples_split':[2,3,4,5],\n",
    "#               'fit__forest__n_estimators': [10, 11, 12, 13, 14],\n",
    "#               'fit__ridge__alpha': [20, 40, 80, 100, 200, 400],\n",
    "#               'fit__svr__C': [3, 10, 30, 100, 300],\n",
    "#               'fit__mlp__alpha': [30, 100, 200, 600],\n",
    "#               'proc__vec__max_df': [0.2, 0.3, 0.4, 0.5, 0.6],\n",
    "#               'proc__vec__keywords_weight': [1, 2, 5, 10, 20, 50],\n",
    "#             }\n",
    "\n",
    "#param_grid = {'fit__alpha': [3e-1, 1, 3, 10, 30]}\n",
    "\n",
    "rank_scorer = make_scorer(ev.cum_recall_metric, greater_is_better=True)\n",
    "\n",
    "# Do a Grid or Randomized search with fixed validation set:\n",
    "test_fold = np.zeros(len(train_val_concat)).astype(int)\n",
    "#test_fold[:len(aumented_train_raw)] = -1\n",
    "test_fold[:len(train_raw)] = -1\n",
    "ps = PredefinedSplit(test_fold)\n",
    "#grid = GridSearchCV(fit_pipe, param_grid, cv=ps, scoring=rank_scorer, return_train_score=True, n_jobs=7)\n",
    "#grid = GridSearchCV(fit_pipe, param_grid, cv=ps, scoring='neg_mean_squared_error', return_train_score=True, n_jobs=7)\n",
    "grid = RandomizedSearchCV(fit_pipe, param_grid, cv=ps, scoring=rank_scorer, return_train_score=True, n_jobs=7, n_iter=100)\n",
    "#grid = RandomizedSearchCV(fit_pipe, param_grid, cv=ps, scoring='neg_mean_squared_error', return_train_score=True, n_jobs=7, n_iter=100)"
   ]
  },
  {
   "cell_type": "code",
   "execution_count": 273,
   "metadata": {},
   "outputs": [
    {
     "name": "stderr",
     "output_type": "stream",
     "text": [
      "/home/skems/system/envs/gabi/lib/python3.8/site-packages/sklearn/model_selection/_search.py:278: UserWarning: The total space of parameters 18 is smaller than n_iter=100. Running 18 iterations. For exhaustive searches, use GridSearchCV.\n",
      "  warnings.warn(\n"
     ]
    },
    {
     "name": "stdout",
     "output_type": "stream",
     "text": [
      "Best score: 0.9313413625080447\n",
      "Params: {'fit__gamma': 0.004786827, 'fit__C': 300}\n"
     ]
    }
   ],
   "source": [
    "# Run the hyper parameter search:\n",
    "dump = grid.fit(proc_train_val, proc_train_val.relevancia.values, fit__sample_weight=relevance2weight(proc_train_val.relevancia.values))\n",
    "\n",
    "print('Best score:', grid.best_score_)\n",
    "print('Params:', grid.best_params_)"
   ]
  },
  {
   "cell_type": "code",
   "execution_count": 241,
   "metadata": {},
   "outputs": [
    {
     "name": "stdout",
     "output_type": "stream",
     "text": [
      "Best score: 0.9510771965309063\n",
      "Params: {'proc__vec__ngram_range': (1, 1), 'proc__vec__max_df': 0.6, 'proc__vec__keywords_weight': 100, 'fit__ridge__alpha': 100, 'fit__forest__n_estimators': 14, 'fit__forest__min_samples_split': 2, 'fit__forest__max_samples': 0.7, 'fit__forest__max_depth': None}\n"
     ]
    }
   ],
   "source": [
    "# Run the hyper parameter search:\n",
    "dump = grid.fit(proc_train_val, proc_train_val.relevancia.values, fit__sample_weight=relevance2weight(proc_train_val.relevancia.values))\n",
    "\n",
    "print('Best score:', grid.best_score_)\n",
    "print('Params:', grid.best_params_)"
   ]
  },
  {
   "cell_type": "code",
   "execution_count": 275,
   "metadata": {},
   "outputs": [
    {
     "data": {
      "text/html": [
       "<div>\n",
       "<style scoped>\n",
       "    .dataframe tbody tr th:only-of-type {\n",
       "        vertical-align: middle;\n",
       "    }\n",
       "\n",
       "    .dataframe tbody tr th {\n",
       "        vertical-align: top;\n",
       "    }\n",
       "\n",
       "    .dataframe thead th {\n",
       "        text-align: right;\n",
       "    }\n",
       "</style>\n",
       "<table border=\"1\" class=\"dataframe\">\n",
       "  <thead>\n",
       "    <tr style=\"text-align: right;\">\n",
       "      <th></th>\n",
       "      <th>mean_test_score</th>\n",
       "      <th>mean_fit_time</th>\n",
       "      <th>mean_train_score</th>\n",
       "      <th>param_fit__gamma</th>\n",
       "      <th>param_fit__C</th>\n",
       "    </tr>\n",
       "  </thead>\n",
       "  <tbody>\n",
       "    <tr>\n",
       "      <th>16</th>\n",
       "      <td>0.931341</td>\n",
       "      <td>34.006826</td>\n",
       "      <td>0.999860</td>\n",
       "      <td>0.00478683</td>\n",
       "      <td>1000</td>\n",
       "    </tr>\n",
       "    <tr>\n",
       "      <th>13</th>\n",
       "      <td>0.931341</td>\n",
       "      <td>38.758348</td>\n",
       "      <td>0.999860</td>\n",
       "      <td>0.00478683</td>\n",
       "      <td>300</td>\n",
       "    </tr>\n",
       "    <tr>\n",
       "      <th>10</th>\n",
       "      <td>0.931256</td>\n",
       "      <td>39.110413</td>\n",
       "      <td>0.999890</td>\n",
       "      <td>0.00478683</td>\n",
       "      <td>100</td>\n",
       "    </tr>\n",
       "    <tr>\n",
       "      <th>2</th>\n",
       "      <td>0.930545</td>\n",
       "      <td>32.865455</td>\n",
       "      <td>0.981652</td>\n",
       "      <td>0.00159561</td>\n",
       "      <td>3</td>\n",
       "    </tr>\n",
       "    <tr>\n",
       "      <th>1</th>\n",
       "      <td>0.929221</td>\n",
       "      <td>33.590481</td>\n",
       "      <td>0.996501</td>\n",
       "      <td>0.00478683</td>\n",
       "      <td>3</td>\n",
       "    </tr>\n",
       "    <tr>\n",
       "      <th>7</th>\n",
       "      <td>0.929074</td>\n",
       "      <td>38.911501</td>\n",
       "      <td>0.999896</td>\n",
       "      <td>0.00478683</td>\n",
       "      <td>30</td>\n",
       "    </tr>\n",
       "    <tr>\n",
       "      <th>8</th>\n",
       "      <td>0.927590</td>\n",
       "      <td>40.432717</td>\n",
       "      <td>0.999225</td>\n",
       "      <td>0.00159561</td>\n",
       "      <td>30</td>\n",
       "    </tr>\n",
       "    <tr>\n",
       "      <th>4</th>\n",
       "      <td>0.927443</td>\n",
       "      <td>36.100304</td>\n",
       "      <td>0.999735</td>\n",
       "      <td>0.00478683</td>\n",
       "      <td>10</td>\n",
       "    </tr>\n",
       "    <tr>\n",
       "      <th>6</th>\n",
       "      <td>0.927198</td>\n",
       "      <td>32.821050</td>\n",
       "      <td>0.999932</td>\n",
       "      <td>0.0143605</td>\n",
       "      <td>30</td>\n",
       "    </tr>\n",
       "    <tr>\n",
       "      <th>15</th>\n",
       "      <td>0.927174</td>\n",
       "      <td>29.133579</td>\n",
       "      <td>0.999942</td>\n",
       "      <td>0.0143605</td>\n",
       "      <td>1000</td>\n",
       "    </tr>\n",
       "    <tr>\n",
       "      <th>9</th>\n",
       "      <td>0.927174</td>\n",
       "      <td>33.261666</td>\n",
       "      <td>0.999942</td>\n",
       "      <td>0.0143605</td>\n",
       "      <td>100</td>\n",
       "    </tr>\n",
       "    <tr>\n",
       "      <th>12</th>\n",
       "      <td>0.927174</td>\n",
       "      <td>33.266694</td>\n",
       "      <td>0.999942</td>\n",
       "      <td>0.0143605</td>\n",
       "      <td>300</td>\n",
       "    </tr>\n",
       "    <tr>\n",
       "      <th>3</th>\n",
       "      <td>0.927051</td>\n",
       "      <td>33.447577</td>\n",
       "      <td>0.999899</td>\n",
       "      <td>0.0143605</td>\n",
       "      <td>10</td>\n",
       "    </tr>\n",
       "    <tr>\n",
       "      <th>5</th>\n",
       "      <td>0.926475</td>\n",
       "      <td>35.212358</td>\n",
       "      <td>0.995114</td>\n",
       "      <td>0.00159561</td>\n",
       "      <td>10</td>\n",
       "    </tr>\n",
       "    <tr>\n",
       "      <th>17</th>\n",
       "      <td>0.924894</td>\n",
       "      <td>42.427108</td>\n",
       "      <td>0.999904</td>\n",
       "      <td>0.00159561</td>\n",
       "      <td>1000</td>\n",
       "    </tr>\n",
       "    <tr>\n",
       "      <th>11</th>\n",
       "      <td>0.924648</td>\n",
       "      <td>48.099786</td>\n",
       "      <td>0.999930</td>\n",
       "      <td>0.00159561</td>\n",
       "      <td>100</td>\n",
       "    </tr>\n",
       "    <tr>\n",
       "      <th>0</th>\n",
       "      <td>0.924317</td>\n",
       "      <td>33.088868</td>\n",
       "      <td>0.999998</td>\n",
       "      <td>0.0143605</td>\n",
       "      <td>3</td>\n",
       "    </tr>\n",
       "    <tr>\n",
       "      <th>14</th>\n",
       "      <td>0.923655</td>\n",
       "      <td>46.605196</td>\n",
       "      <td>0.999889</td>\n",
       "      <td>0.00159561</td>\n",
       "      <td>300</td>\n",
       "    </tr>\n",
       "  </tbody>\n",
       "</table>\n",
       "</div>"
      ],
      "text/plain": [
       "    mean_test_score  mean_fit_time  mean_train_score param_fit__gamma  \\\n",
       "16         0.931341      34.006826          0.999860       0.00478683   \n",
       "13         0.931341      38.758348          0.999860       0.00478683   \n",
       "10         0.931256      39.110413          0.999890       0.00478683   \n",
       "2          0.930545      32.865455          0.981652       0.00159561   \n",
       "1          0.929221      33.590481          0.996501       0.00478683   \n",
       "7          0.929074      38.911501          0.999896       0.00478683   \n",
       "8          0.927590      40.432717          0.999225       0.00159561   \n",
       "4          0.927443      36.100304          0.999735       0.00478683   \n",
       "6          0.927198      32.821050          0.999932        0.0143605   \n",
       "15         0.927174      29.133579          0.999942        0.0143605   \n",
       "9          0.927174      33.261666          0.999942        0.0143605   \n",
       "12         0.927174      33.266694          0.999942        0.0143605   \n",
       "3          0.927051      33.447577          0.999899        0.0143605   \n",
       "5          0.926475      35.212358          0.995114       0.00159561   \n",
       "17         0.924894      42.427108          0.999904       0.00159561   \n",
       "11         0.924648      48.099786          0.999930       0.00159561   \n",
       "0          0.924317      33.088868          0.999998        0.0143605   \n",
       "14         0.923655      46.605196          0.999889       0.00159561   \n",
       "\n",
       "   param_fit__C  \n",
       "16         1000  \n",
       "13          300  \n",
       "10          100  \n",
       "2             3  \n",
       "1             3  \n",
       "7            30  \n",
       "8            30  \n",
       "4            10  \n",
       "6            30  \n",
       "15         1000  \n",
       "9           100  \n",
       "12          300  \n",
       "3            10  \n",
       "5            10  \n",
       "17         1000  \n",
       "11          100  \n",
       "0             3  \n",
       "14          300  "
      ]
     },
     "execution_count": 275,
     "metadata": {},
     "output_type": "execute_result"
    }
   ],
   "source": [
    "# Listagem dos melhores resultados:\n",
    "grid_df = pd.DataFrame(grid.cv_results_)\n",
    "target_cols = ['mean_test_score', 'mean_fit_time', 'mean_train_score']\n",
    "param_cols  = list(filter(lambda s: s.find('param_') != -1, grid_df.columns))\n",
    "grid_df.sort_values(target_cols, ascending=[False, True, False])[target_cols + param_cols].head(20)"
   ]
  },
  {
   "cell_type": "code",
   "execution_count": 274,
   "metadata": {},
   "outputs": [
    {
     "name": "stderr",
     "output_type": "stream",
     "text": [
      "/home/skems/prog/my-python/mltools.py:1651: UserWarning: FixedFormatter should only be used together with FixedLocator\n",
      "  pl.gca().set_xticklabels(labels)\n"
     ]
    },
    {
     "data": {
      "image/png": "[encoded data removed]",
      "text/plain": [
       "<Figure size 720x360 with 2 Axes>"
      ]
     },
     "metadata": {
      "needs_background": "light"
     },
     "output_type": "display_data"
    }
   ],
   "source": [
    "ml.plot_pars_scores(grid)"
   ]
  },
  {
   "cell_type": "markdown",
   "metadata": {},
   "source": [
    "#### Avaliação do modelo"
   ]
  },
  {
   "cell_type": "code",
   "execution_count": 22,
   "metadata": {},
   "outputs": [],
   "source": [
    "from sklearn.metrics import mean_squared_error"
   ]
  },
  {
   "cell_type": "code",
   "execution_count": 23,
   "metadata": {},
   "outputs": [],
   "source": [
    "# Preprocess data:\n",
    "#proc_train = preprocess.transform(aumented_train_raw)\n",
    "proc_train = preprocess.transform(train_raw)\n",
    "proc_val   = preprocess.transform(val_raw)"
   ]
  },
  {
   "cell_type": "code",
   "execution_count": 24,
   "metadata": {},
   "outputs": [],
   "source": [
    "# Fit model:\n",
    "fit_pipe.fit(proc_train, proc_train.relevancia.values, fit__sample_weight=relevance2weight(proc_train.relevancia.values))\n",
    "# Predict:\n",
    "pred_train = fit_pipe.predict(proc_train)\n",
    "pred_val   = fit_pipe.predict(proc_val)\n",
    "\n",
    "# Join validation true and predicted values:\n",
    "y_pred_true_df = pd.DataFrame({'y_pred':pred_val, 'y_true': proc_val['relevancia'].values}, index=proc_val.index)"
   ]
  },
  {
   "cell_type": "code",
   "execution_count": 26,
   "metadata": {},
   "outputs": [
    {
     "name": "stdout",
     "output_type": "stream",
     "text": [
      "RMSE:        0.7068610327005216\n",
      "Cum. Recall: 0.9436045835806014\n"
     ]
    }
   ],
   "source": [
    "print('RMSE:       ', np.sqrt(mean_squared_error(proc_val.relevancia.values, pred_val)))\n",
    "print('Cum. Recall:', ev.cum_recall_metric(proc_val.relevancia.values, pred_val))"
   ]
  },
  {
   "cell_type": "code",
   "execution_count": 27,
   "metadata": {},
   "outputs": [
    {
     "name": "stdout",
     "output_type": "stream",
     "text": [
      "RMSE:        (0.7115248217551087, 0.013584061839303486)\n",
      "Cum. Recall: (0.9663620898018703, 0.003587979237485388)\n"
     ]
    }
   ],
   "source": [
    "# Cria pesos para amostragem balançeada:\n",
    "n_val = len(proc_val)\n",
    "n_balanced_sample = (dou_class_freq * n_val).round().astype(int) / y_pred_true_df['y_true'].value_counts()\n",
    "n_balanced_sample = n_balanced_sample.rename('n_balanced')\n",
    "\n",
    "# Junta pesos à base:\n",
    "y_pred_true_to_sample = y_pred_true_df.join(n_balanced_sample, on='y_true', how='left')\n",
    "\n",
    "# Mede performance em amostras bootstrap:\n",
    "n_trials = 10\n",
    "rmse_list      = []\n",
    "cumrecall_list = []\n",
    "for i in range(n_trials):\n",
    "    balanced_sample = y_pred_true_to_sample.sample(n=n_val, replace=True, weights='n_balanced')\n",
    "    rmse_list.append(np.sqrt(mean_squared_error(balanced_sample.y_true.values, balanced_sample.y_pred.values)))\n",
    "    cumrecall_list.append(np.sqrt(ev.cum_recall_metric(balanced_sample.y_true.values, balanced_sample.y_pred.values)))\n",
    "\n",
    "# Resultados:\n",
    "print('RMSE:       ', ml.mean_dev_scores(rmse_list))\n",
    "print('Cum. Recall:', ml.mean_dev_scores(cumrecall_list))"
   ]
  },
  {
   "cell_type": "code",
   "execution_count": 28,
   "metadata": {},
   "outputs": [
    {
     "data": {
      "image/png": "[encoded data removed]",
      "text/plain": [
       "<Figure size 1800x360 with 1 Axes>"
      ]
     },
     "metadata": {
      "needs_background": "light"
     },
     "output_type": "display_data"
    }
   ],
   "source": [
    "window = 1\n",
    "\n",
    "pl.figure(figsize=(25,5))\n",
    "ev.plot_average_rank(proc_val['relevancia'].values, proc_val['relevancia'].values, window, \n",
    "                  color='royalblue', label='Perfect')\n",
    "ev.plot_average_rank(proc_val['relevancia'].values, pred_val, window, color='g', label='Model')\n",
    "pl.legend(fontsize=14)\n",
    "pl.show()"
   ]
  },
  {
   "cell_type": "code",
   "execution_count": 29,
   "metadata": {},
   "outputs": [
    {
     "data": {
      "image/png": "[encoded data removed]",
      "text/plain": [
       "<Figure size 432x288 with 1 Axes>"
      ]
     },
     "metadata": {
      "needs_background": "light"
     },
     "output_type": "display_data"
    }
   ],
   "source": [
    "y_pred_true_df.boxplot(column='y_pred', by='y_true', grid=False)\n",
    "#pl.savefig('plots/box-plot_rank_by_true_label_' + dt.datetime.now().strftime('%Y-%m-%d') + '.png')\n",
    "pl.ylim([-1,6])\n",
    "pl.show()"
   ]
  },
  {
   "cell_type": "code",
   "execution_count": 30,
   "metadata": {},
   "outputs": [
    {
     "data": {
      "image/png": "[encoded data removed]",
      "text/plain": [
       "<Figure size 432x288 with 1 Axes>"
      ]
     },
     "metadata": {
      "needs_background": "light"
     },
     "output_type": "display_data"
    }
   ],
   "source": [
    "ev.plot_recall_curve(proc_val.relevancia.values, pred_val)"
   ]
  },
  {
   "cell_type": "code",
   "execution_count": 31,
   "metadata": {},
   "outputs": [
    {
     "data": {
      "text/plain": [
       "1.8011930074852862"
      ]
     },
     "execution_count": 31,
     "metadata": {},
     "output_type": "execute_result"
    }
   ],
   "source": [
    "y_pred_true_df.loc[y_pred_true_df.y_true.isin([4,5])]['y_pred'].min()"
   ]
  },
  {
   "cell_type": "code",
   "execution_count": 297,
   "metadata": {},
   "outputs": [
    {
     "data": {
      "image/png": "[encoded data removed]",
      "text/plain": [
       "<Figure size 432x288 with 1 Axes>"
      ]
     },
     "metadata": {
      "needs_background": "light"
     },
     "output_type": "display_data"
    }
   ],
   "source": [
    "ml.plot_learning_curve_old(fit_pipe, ev.cum_recall_metric, proc_train, proc_train.relevancia.values,\n",
    "                           proc_val, proc_val.relevancia.values, 10)"
   ]
  },
  {
   "cell_type": "markdown",
   "metadata": {
    "jp-MarkdownHeadingCollapsed": true,
    "tags": []
   },
   "source": [
    "#### Peso das palavras"
   ]
  },
  {
   "cell_type": "code",
   "execution_count": 164,
   "metadata": {},
   "outputs": [],
   "source": [
    "def get_ensemble_member(ensemble, member):\n",
    "    \"\"\"\n",
    "    Return the specified model `member` (str) in a voting or transformer `ensemble` \n",
    "    (sklearn ensemble model or Column transformer).\n",
    "    \"\"\"\n",
    "    \n",
    "    try:\n",
    "        # If `ensemble` is a transformer:\n",
    "        members_list = ensemble.transformers_\n",
    "        sel = list(filter(lambda t: t[0] == member, members_list))\n",
    "        return sel[0][1]\n",
    "    except:\n",
    "        try:\n",
    "            # If `ensemble` is an estimator:\n",
    "            members_dict = ensemble.named_estimators_\n",
    "            sel = members_dict[member]\n",
    "            return sel\n",
    "        except ValueError:\n",
    "            # None of the above:\n",
    "            return ValueError\n",
    "        \n",
    "    \n",
    "    "
   ]
  },
  {
   "cell_type": "code",
   "execution_count": 165,
   "metadata": {},
   "outputs": [],
   "source": [
    "def get_pipeline_member(pipeline, members):\n",
    "    \"\"\"\n",
    "    Return the member of a `pipeline` nested under labels given \n",
    "    by `members` (list of str).\n",
    "    \n",
    "    Ex: get_pipeline_member(pipeline, ['proc', 'vec'])\n",
    "    \"\"\"\n",
    "    step = pipeline[members[0]]\n",
    "    if len(members) == 1:\n",
    "        return step\n",
    "    \n",
    "    return get_ensemble_member(step, members[1])"
   ]
  },
  {
   "cell_type": "code",
   "execution_count": 166,
   "metadata": {},
   "outputs": [],
   "source": [
    "# Cria um dataframe de palavras e pesos (exclui a feature de tipo de edição, Extra ou não):\n",
    "vec    = get_pipeline_member(fit_pipe, ['proc', 'vec'])\n",
    "ridge  = get_pipeline_member(fit_pipe, ['fit', 'ridge'])\n",
    "forest = get_pipeline_member(fit_pipe, ['fit', 'forest'])\n",
    "word_weight_df = pd.DataFrame()\n",
    "word_weight_df['word']   = pd.Series(vec.get_feature_names())\n",
    "word_weight_df['weight'] = pd.Series(ridge.coef_[:-1])\n",
    "word_weight_df['abs_weight'] = np.abs(word_weight_df['weight'])\n",
    "word_weight_df['importance'] = pd.Series(forest.feature_importances_[:-1])"
   ]
  },
  {
   "cell_type": "code",
   "execution_count": 167,
   "metadata": {},
   "outputs": [
    {
     "data": {
      "image/png": "[encoded data removed]",
      "text/plain": [
       "<Figure size 720x288 with 2 Axes>"
      ]
     },
     "metadata": {
      "needs_background": "light"
     },
     "output_type": "display_data"
    }
   ],
   "source": [
    "# Offset for plotting zero values in log scale:\n",
    "offset = 1e-5\n",
    "# Select only features with no importance:\n",
    "no_importance = word_weight_df.loc[np.isclose(word_weight_df['importance'], 0)]\n",
    "\n",
    "pl.figure(figsize=(10,4))\n",
    "\n",
    "# Scatter plot - Random Forest Importance vs. Ridge abs. weights\n",
    "pl.subplot(1,2,1)\n",
    "pl.scatter(offset + word_weight_df['abs_weight'], offset + word_weight_df['importance'], marker='.')\n",
    "pl.yscale('log')\n",
    "pl.xscale('log')\n",
    "pl.tick_params(labelsize=14)\n",
    "pl.xlabel('Ridge abs. weight + offset', fontsize=14)\n",
    "pl.ylabel('RF importance + offset', fontsize=14)\n",
    "\n",
    "pl.subplot(1,2,2)\n",
    "pl.hist(np.log10(offset + no_importance['abs_weight']), bins=40)\n",
    "pl.yscale('log')\n",
    "pl.tick_params(labelsize=14)\n",
    "pl.xlabel(r'$\\log_{10}$ (Ridge abs. weight + offset)', fontsize=14)\n",
    "pl.ylabel('# of tokens', fontsize=14)\n",
    "\n",
    "pl.tight_layout()\n",
    "pl.show()"
   ]
  },
  {
   "cell_type": "code",
   "execution_count": 168,
   "metadata": {},
   "outputs": [],
   "source": [
    "token_selection = word_weight_df.loc[word_weight_df['abs_weight'] >= 0.05]"
   ]
  },
  {
   "cell_type": "code",
   "execution_count": 169,
   "metadata": {},
   "outputs": [
    {
     "data": {
      "text/html": [
       "<div>\n",
       "<style scoped>\n",
       "    .dataframe tbody tr th:only-of-type {\n",
       "        vertical-align: middle;\n",
       "    }\n",
       "\n",
       "    .dataframe tbody tr th {\n",
       "        vertical-align: top;\n",
       "    }\n",
       "\n",
       "    .dataframe thead th {\n",
       "        text-align: right;\n",
       "    }\n",
       "</style>\n",
       "<table border=\"1\" class=\"dataframe\">\n",
       "  <thead>\n",
       "    <tr style=\"text-align: right;\">\n",
       "      <th></th>\n",
       "      <th>word</th>\n",
       "      <th>weight</th>\n",
       "      <th>abs_weight</th>\n",
       "      <th>importance</th>\n",
       "    </tr>\n",
       "  </thead>\n",
       "  <tbody>\n",
       "    <tr>\n",
       "      <th>14246</th>\n",
       "      <td>xxdascincoxx</td>\n",
       "      <td>0.804108</td>\n",
       "      <td>0.804108</td>\n",
       "      <td>0.211982</td>\n",
       "    </tr>\n",
       "    <tr>\n",
       "      <th>14249</th>\n",
       "      <td>xxdasseisxx</td>\n",
       "      <td>0.619937</td>\n",
       "      <td>0.619937</td>\n",
       "      <td>0.052724</td>\n",
       "    </tr>\n",
       "    <tr>\n",
       "      <th>6965</th>\n",
       "      <td>exonerar</td>\n",
       "      <td>0.539637</td>\n",
       "      <td>0.539637</td>\n",
       "      <td>0.035281</td>\n",
       "    </tr>\n",
       "    <tr>\n",
       "      <th>14244</th>\n",
       "      <td>xxcgeixx</td>\n",
       "      <td>0.529129</td>\n",
       "      <td>0.529129</td>\n",
       "      <td>0.014699</td>\n",
       "    </tr>\n",
       "    <tr>\n",
       "      <th>14250</th>\n",
       "      <td>xxdastresxx</td>\n",
       "      <td>-0.520169</td>\n",
       "      <td>0.520169</td>\n",
       "      <td>0.000949</td>\n",
       "    </tr>\n",
       "    <tr>\n",
       "      <th>10440</th>\n",
       "      <td>nomear</td>\n",
       "      <td>0.444520</td>\n",
       "      <td>0.444520</td>\n",
       "      <td>0.069315</td>\n",
       "    </tr>\n",
       "    <tr>\n",
       "      <th>14247</th>\n",
       "      <td>xxdasdoisxx</td>\n",
       "      <td>-0.430748</td>\n",
       "      <td>0.430748</td>\n",
       "      <td>0.000000</td>\n",
       "    </tr>\n",
       "    <tr>\n",
       "      <th>14254</th>\n",
       "      <td>xxfcpequatroxx</td>\n",
       "      <td>0.409451</td>\n",
       "      <td>0.409451</td>\n",
       "      <td>0.014661</td>\n",
       "    </tr>\n",
       "    <tr>\n",
       "      <th>7129</th>\n",
       "      <td>federativa</td>\n",
       "      <td>0.274640</td>\n",
       "      <td>0.274640</td>\n",
       "      <td>0.000514</td>\n",
       "    </tr>\n",
       "    <tr>\n",
       "      <th>2688</th>\n",
       "      <td>9794</td>\n",
       "      <td>0.273426</td>\n",
       "      <td>0.273426</td>\n",
       "      <td>0.080725</td>\n",
       "    </tr>\n",
       "    <tr>\n",
       "      <th>14251</th>\n",
       "      <td>xxdasumxx</td>\n",
       "      <td>-0.258932</td>\n",
       "      <td>0.258932</td>\n",
       "      <td>0.000023</td>\n",
       "    </tr>\n",
       "    <tr>\n",
       "      <th>3608</th>\n",
       "      <td>assistente</td>\n",
       "      <td>-0.254949</td>\n",
       "      <td>0.254949</td>\n",
       "      <td>0.000051</td>\n",
       "    </tr>\n",
       "    <tr>\n",
       "      <th>4135</th>\n",
       "      <td>botânico</td>\n",
       "      <td>-0.249328</td>\n",
       "      <td>0.249328</td>\n",
       "      <td>0.000371</td>\n",
       "    </tr>\n",
       "    <tr>\n",
       "      <th>4528</th>\n",
       "      <td>cct</td>\n",
       "      <td>-0.246084</td>\n",
       "      <td>0.246084</td>\n",
       "      <td>0.000000</td>\n",
       "    </tr>\n",
       "    <tr>\n",
       "      <th>10516</th>\n",
       "      <td>oa</td>\n",
       "      <td>-0.245626</td>\n",
       "      <td>0.245626</td>\n",
       "      <td>0.000154</td>\n",
       "    </tr>\n",
       "    <tr>\n",
       "      <th>14242</th>\n",
       "      <td>xxcgeiixx</td>\n",
       "      <td>0.240790</td>\n",
       "      <td>0.240790</td>\n",
       "      <td>0.003734</td>\n",
       "    </tr>\n",
       "    <tr>\n",
       "      <th>1439</th>\n",
       "      <td>2207</td>\n",
       "      <td>-0.230777</td>\n",
       "      <td>0.230777</td>\n",
       "      <td>0.000000</td>\n",
       "    </tr>\n",
       "    <tr>\n",
       "      <th>14248</th>\n",
       "      <td>xxdasquatroxx</td>\n",
       "      <td>-0.223806</td>\n",
       "      <td>0.223806</td>\n",
       "      <td>0.016995</td>\n",
       "    </tr>\n",
       "    <tr>\n",
       "      <th>5332</th>\n",
       "      <td>coordenadorgeral</td>\n",
       "      <td>0.221427</td>\n",
       "      <td>0.221427</td>\n",
       "      <td>0.002435</td>\n",
       "    </tr>\n",
       "    <tr>\n",
       "      <th>12704</th>\n",
       "      <td>semec</td>\n",
       "      <td>-0.220758</td>\n",
       "      <td>0.220758</td>\n",
       "      <td>0.000205</td>\n",
       "    </tr>\n",
       "  </tbody>\n",
       "</table>\n",
       "</div>"
      ],
      "text/plain": [
       "                   word    weight  abs_weight  importance\n",
       "14246      xxdascincoxx  0.804108    0.804108    0.211982\n",
       "14249       xxdasseisxx  0.619937    0.619937    0.052724\n",
       "6965           exonerar  0.539637    0.539637    0.035281\n",
       "14244          xxcgeixx  0.529129    0.529129    0.014699\n",
       "14250       xxdastresxx -0.520169    0.520169    0.000949\n",
       "10440            nomear  0.444520    0.444520    0.069315\n",
       "14247       xxdasdoisxx -0.430748    0.430748    0.000000\n",
       "14254    xxfcpequatroxx  0.409451    0.409451    0.014661\n",
       "7129         federativa  0.274640    0.274640    0.000514\n",
       "2688               9794  0.273426    0.273426    0.080725\n",
       "14251         xxdasumxx -0.258932    0.258932    0.000023\n",
       "3608         assistente -0.254949    0.254949    0.000051\n",
       "4135           botânico -0.249328    0.249328    0.000371\n",
       "4528                cct -0.246084    0.246084    0.000000\n",
       "10516                oa -0.245626    0.245626    0.000154\n",
       "14242         xxcgeiixx  0.240790    0.240790    0.003734\n",
       "1439               2207 -0.230777    0.230777    0.000000\n",
       "14248     xxdasquatroxx -0.223806    0.223806    0.016995\n",
       "5332   coordenadorgeral  0.221427    0.221427    0.002435\n",
       "12704             semec -0.220758    0.220758    0.000205"
      ]
     },
     "execution_count": 169,
     "metadata": {},
     "output_type": "execute_result"
    }
   ],
   "source": [
    "word_weight_df.sort_values('abs_weight', ascending=False).head(20)"
   ]
  },
  {
   "cell_type": "code",
   "execution_count": 170,
   "metadata": {},
   "outputs": [
    {
     "data": {
      "text/plain": [
       "array(['xxdascincoxx', '9794', 'nomear', ..., 'estatística',\n",
       "       'estruturação', 'funai'], dtype=object)"
      ]
     },
     "execution_count": 170,
     "metadata": {},
     "output_type": "execute_result"
    }
   ],
   "source": [
    "token_selection.sort_values('importance', ascending=False)['word'].values"
   ]
  },
  {
   "cell_type": "code",
   "execution_count": 171,
   "metadata": {},
   "outputs": [
    {
     "data": {
      "image/png": "[encoded data removed]",
      "text/plain": [
       "<Figure size 432x288 with 1 Axes>"
      ]
     },
     "metadata": {
      "needs_background": "light"
     },
     "output_type": "display_data"
    }
   ],
   "source": [
    "word_weights = word_weight_df['weight'].sort_values().values\n",
    "pl.plot(np.abs(word_weights))\n",
    "pl.yscale('log')\n",
    "pl.ylim([20 / len(word_weights), np.max(np.abs(word_weights))])\n",
    "pl.xlabel('Token position, from smallest to largest weights', fontsize=14)\n",
    "pl.ylabel('|weight|', fontsize=14)\n",
    "pl.tick_params(labelsize=14)\n",
    "pl.show()"
   ]
  },
  {
   "cell_type": "code",
   "execution_count": 175,
   "metadata": {},
   "outputs": [
    {
     "data": {
      "image/png": "[encoded data removed]",
      "text/plain": [
       "<Figure size 432x288 with 1 Axes>"
      ]
     },
     "metadata": {
      "needs_background": "light"
     },
     "output_type": "display_data"
    }
   ],
   "source": [
    "word_weight_pos = -1\n",
    "sorted_word_weight = word_weight_df.sort_values('weight')\n",
    "word = sorted_word_weight.iloc[word_weight_pos]['word']\n",
    "weight = sorted_word_weight.iloc[word_weight_pos]['weight']\n",
    "counts = proc_train.loc[proc_train.tit_org_ementa_text.str.contains(word)]['relevancia'].value_counts()\n",
    "total  = proc_train['relevancia'].value_counts()\n",
    "freq   = counts / total\n",
    "pl.bar(freq.index, freq.values)\n",
    "pl.title(word + ' | ' + str(weight))\n",
    "pl.xlabel('Relevância')\n",
    "pl.ylabel('Freq. com que palavra aparece')\n",
    "pl.show()"
   ]
  },
  {
   "cell_type": "markdown",
   "metadata": {
    "jp-MarkdownHeadingCollapsed": true,
    "tags": []
   },
   "source": [
    "### Identificando textos similares\n",
    "\n",
    "Aqui nós podemos identificar os erros catastróficos do modelo e ver com quais dados do treino eles se parecem, para eventualmente detectar erros na base de dados."
   ]
  },
  {
   "cell_type": "markdown",
   "metadata": {},
   "source": [
    "#### Funções"
   ]
  },
  {
   "cell_type": "code",
   "execution_count": 133,
   "metadata": {},
   "outputs": [],
   "source": [
    "from sklearn.base import clone"
   ]
  },
  {
   "cell_type": "code",
   "execution_count": 134,
   "metadata": {},
   "outputs": [],
   "source": [
    "from sklearn.metrics.pairwise import euclidean_distances\n",
    "\n",
    "def text_similarity_matrix(corpus, vectorizer, target_r2):\n",
    "    output = {}\n",
    "    \n",
    "    # Transform corpus into a centred (zero mean for columns) \n",
    "    # matrix (rows are texts and columns are tokens):\n",
    "    matrix = vectorizer.fit_transform(corpus).toarray()\n",
    "    matrix_mean = matrix.mean(axis=0)\n",
    "    matrix_centred = matrix - matrix_mean\n",
    "    \n",
    "    output['vocab'] = np.array(vectorizer.get_feature_names())\n",
    "    output['mean_vector'] = matrix_mean\n",
    "    output['term_matrix'] = matrix\n",
    "    \n",
    "    term_freq  = np.transpose(np.transpose(matrix) / np.sqrt(matrix.sum(axis=1)))\n",
    "    binary_cov = term_freq.dot(term_freq.transpose())\n",
    "    np.fill_diagonal(binary_cov, 0)\n",
    "    output['similarity'] = binary_cov\n",
    "    \n",
    "    # SVD:\n",
    "    #U, s, Vh  = np.linalg.svd(matrix_centred, full_matrices=False)\n",
    "\n",
    "    #r2_by_component = np.cumsum(s**2) / np.sum(s**2)\n",
    "\n",
    "    # Get text main features:\n",
    "    #last_component = np.argmin(np.abs(r2_by_component - target_r2))\n",
    "    #print('# components:', last_component)\n",
    "    #text_features  = U[:, :last_component] * np.sqrt(len(matrix))\n",
    "    #output['text_features'] = text_features\n",
    "    \n",
    "    # Compute the distance between texts:\n",
    "    #output['text_distance'] = euclidean_distances(text_features)\n",
    "    \n",
    "    return output"
   ]
  },
  {
   "cell_type": "code",
   "execution_count": 135,
   "metadata": {},
   "outputs": [],
   "source": [
    "class SimpleGroupedColorFunc(object):\n",
    "    \"\"\"Create a color function object which assigns EXACT colors\n",
    "       to certain words based on the color to words mapping\n",
    "\n",
    "       Parameters\n",
    "       ----------\n",
    "       color_to_words : dict(str -> list(str))\n",
    "         A dictionary that maps a color to the list of words.\n",
    "\n",
    "       default_color : str\n",
    "         Color that will be assigned to a word that's not a member\n",
    "         of any value from color_to_words.\n",
    "    \"\"\"\n",
    "\n",
    "    def __init__(self, color_to_words, default_color):\n",
    "        self.word_to_color = {word: color\n",
    "                              for (color, words) in color_to_words.items()\n",
    "                              for word in words}\n",
    "\n",
    "        self.default_color = default_color\n",
    "\n",
    "    def __call__(self, word, **kwargs):\n",
    "        return self.word_to_color.get(word, self.default_color)\n",
    "\n",
    "\n",
    "class GroupedColorFunc(object):\n",
    "    \"\"\"Create a color function object which assigns DIFFERENT SHADES of\n",
    "       specified colors to certain words based on the color to words mapping.\n",
    "\n",
    "       Uses wordcloud.get_single_color_func\n",
    "\n",
    "       Parameters\n",
    "       ----------\n",
    "       color_to_words : dict(str -> list(str))\n",
    "         A dictionary that maps a color to the list of words.\n",
    "\n",
    "       default_color : str\n",
    "         Color that will be assigned to a word that's not a member\n",
    "         of any value from color_to_words.\n",
    "    \"\"\"\n",
    "\n",
    "    def __init__(self, color_to_words, default_color):\n",
    "        self.color_func_to_words = [\n",
    "            (get_single_color_func(color), set(words))\n",
    "            for (color, words) in color_to_words.items()]\n",
    "\n",
    "        self.default_color_func = get_single_color_func(default_color)\n",
    "\n",
    "    def get_color_func(self, word):\n",
    "        \"\"\"Returns a single_color_func associated with the word\"\"\"\n",
    "        try:\n",
    "            color_func = next(\n",
    "                color_func for (color_func, words) in self.color_func_to_words\n",
    "                if word in words)\n",
    "        except StopIteration:\n",
    "            color_func = self.default_color_func\n",
    "\n",
    "        return color_func\n",
    "\n",
    "    def __call__(self, word, **kwargs):\n",
    "        return self.get_color_func(word)(word, **kwargs)"
   ]
  },
  {
   "cell_type": "code",
   "execution_count": 136,
   "metadata": {},
   "outputs": [],
   "source": [
    "def plot_word_vector(vocab, vector):\n",
    "    \"\"\"\n",
    "    Plot a wordcloud for words in `vocab` with frequency given by `vector`.\n",
    "    Positive frequencies are plot in blue, negative frequencias as plot in red.\n",
    "    \"\"\"\n",
    "    \n",
    "    assert np.shape(vocab) == np.shape(np.array(vector)), '`vocab` and `vector` must have the same shape.'\n",
    "    assert type(vocab[0]) == str or type(vocab[0]) == np.str_, '`vocab` must be a array-like of strings.'\n",
    "    \n",
    "    from wordcloud import (WordCloud, get_single_color_func)\n",
    "    wc = WordCloud(background_color='white', relative_scaling=0.8, include_numbers=True, width=800, height=400)\n",
    "\n",
    "    abs_vector = np.abs(vector)\n",
    "    # Set word sizes:\n",
    "    word_frequencies = {word:weight for word, weight in zip(vocab, abs_vector)}\n",
    "    # Define colors of words (negatives are red, positives are blue):\n",
    "    plus_words  = [word for word, weight in zip(vocab, vector) if weight > 0]\n",
    "    minus_words = [word for word, weight in zip(vocab, vector) if weight < 0]\n",
    "    color_to_words =  {'blue': plus_words, 'red': minus_words}\n",
    "    default_color  = 'grey'\n",
    "    \n",
    "    # Generate wordcloud:\n",
    "    wc.generate_from_frequencies(word_frequencies)\n",
    "    # Color words according to their signs:\n",
    "    grouped_color_func = SimpleGroupedColorFunc(color_to_words, default_color)\n",
    "    wc.recolor(color_func=grouped_color_func)\n",
    "    \n",
    "    #pl.figure(figsize=(12,7))\n",
    "    pl.imshow(wc, interpolation=\"bilinear\")\n",
    "    pl.axis(\"off\")"
   ]
  },
  {
   "cell_type": "code",
   "execution_count": 137,
   "metadata": {},
   "outputs": [],
   "source": [
    "def build_similarity_df(train, test, vectorizer):\n",
    "    \"\"\"\n",
    "    Compute the similarity between texts stored in `train` and \n",
    "    `test` Pandas series. To vectorize the text, it uses \n",
    "    `vectorizer` (assumed with option binary=True). The similarity \n",
    "    is the number of common tokens normalized to the geometric mean\n",
    "    of the number of tokens in each text.\n",
    "    \n",
    "    Output: A Pandas DataFrame where the rows are train texts and \n",
    "    the columns are test texts (the indices of rows and columns are \n",
    "    the text indices).\n",
    "    \"\"\"\n",
    "    \n",
    "    # Vectorize texts:\n",
    "    vec = clone(vectorizer)\n",
    "    train_matrix = vec.fit_transform(train).astype(bool).astype(int)\n",
    "    test_matrix  = vec.transform(test).astype(bool).astype(int)\n",
    "\n",
    "    # Create text similarity df:\n",
    "    norm_train = np.diag(1 / np.sqrt(train_matrix.sum(axis=1).A1))\n",
    "    norm_test  = np.diag(1 / np.sqrt(test_matrix.sum(axis=1).A1))\n",
    "    common_word_counts = train_matrix.dot(test_matrix.transpose()).toarray()\n",
    "    similarity_matrix  = norm_train.dot(common_word_counts).dot(norm_test)\n",
    "    similarity_df = pd.DataFrame(similarity_matrix, index=train.index, columns=test.index)\n",
    "    \n",
    "    return similarity_df"
   ]
  },
  {
   "cell_type": "code",
   "execution_count": 138,
   "metadata": {},
   "outputs": [],
   "source": [
    "def analise_similarity_with(test_idx, train_df, test_df, similarity_df, sim_thresh, max_matches,\n",
    "                            class_col='relevancia', text_col='url'):\n",
    "    \"\"\"\n",
    "    Print information about the best matching training texts to a given test text:\n",
    "    - Class, similarity and text (or link);\n",
    "    - Plot of the ordered similarities above `sim_thresh` threshold;\n",
    "    - Histogram of the train text classes with similarities above `sim_thresh`.\n",
    "    \n",
    "    Input\n",
    "    -----\n",
    "    \n",
    "    test_idx : Pandas DataFrame index\n",
    "        The index of the test text stored in `test_df`.\n",
    "        \n",
    "    train_df : Pandas DataFrame\n",
    "        The training dataset containing the texts tested for similarity with \n",
    "        the test text.\n",
    "        \n",
    "    test_df : Pandas DataFrame\n",
    "        The test dataset containing the test text with index given by `test_idx`.\n",
    "        \n",
    "    similarity_df : Pandas DataFrame\n",
    "        A matrix with similarities between test texts (columns) and train texts (rows).\n",
    "        Computed by the `build_similarity_df` function.\n",
    "        \n",
    "    sim_thresh : float\n",
    "        Minimum similarity used to select texts from `train_df`.\n",
    "        \n",
    "    max_matches : int\n",
    "        Maximum number of train texts whose information is printed. \n",
    "    \"\"\"\n",
    "\n",
    "    # Ignore self correlation if both train and test sets are the same:\n",
    "    if train_df.equals(test_df):\n",
    "        skip_self = 1\n",
    "    else:\n",
    "        skip_self = 0\n",
    "    \n",
    "    # Print test text info:\n",
    "    print(xu.Bold('Test text') + ' (class {:d})'.format(test_df.loc[test_idx, class_col]))\n",
    "    print(test_df.loc[test_idx, text_col])\n",
    "\n",
    "    # Find most similar texts in train sample:\n",
    "    test_ex_similarity = similarity_df[test_idx]\n",
    "    train_best_matches = test_ex_similarity.loc[test_ex_similarity > sim_thresh].sort_values(ascending=False)\n",
    "    train_best_matches = train_best_matches.iloc[skip_self:]\n",
    "    train_best_matches_top = train_best_matches.head(max_matches)\n",
    "    best_matches_df = train_df.loc[train_best_matches_top.index]\n",
    "    \n",
    "    # Print info about train text:\n",
    "    print(xu.Bold('Train texts'))\n",
    "    for i in best_matches_df.index:\n",
    "        print('(class {:d}  sim. {:.4f})  {:s}'.format(best_matches_df.loc[i, class_col], \n",
    "                                                       train_best_matches[i], \n",
    "                                                       best_matches_df.loc[i, text_col]))\n",
    "    \n",
    "    pl.figure(figsize=(10,4))\n",
    "    # Plot similarities above threshold:\n",
    "    pl.subplot(1,2,1)\n",
    "    pl.plot(train_best_matches.sort_values(ascending=False).values)\n",
    "    pl.xlabel('Posição do texto de treino')\n",
    "    pl.ylabel('Similaridade com texto teste')\n",
    "    # Plot histogram of classes of similar texts:\n",
    "    pl.subplot(1,2,2)\n",
    "    sim_train_class_counts = train_df.loc[train_best_matches.index, 'relevancia'].value_counts()\n",
    "    pl.bar(sim_train_class_counts.index, sim_train_class_counts.values)\n",
    "    pl.xlabel('Relevância do texto de treino')\n",
    "    pl.ylabel('# textos de treino')"
   ]
  },
  {
   "cell_type": "markdown",
   "metadata": {},
   "source": [
    "#### Aplicação"
   ]
  },
  {
   "cell_type": "code",
   "execution_count": 176,
   "metadata": {},
   "outputs": [],
   "source": [
    "from sklearn.model_selection import cross_val_predict"
   ]
  },
  {
   "cell_type": "code",
   "execution_count": 177,
   "metadata": {},
   "outputs": [],
   "source": [
    "# Compute similarity between texts:\n",
    "similarity_df = build_similarity_df(proc_train_val.tit_org_ementa_text, proc_train_val.tit_org_ementa_text, \n",
    "                                    vectorizer)"
   ]
  },
  {
   "cell_type": "code",
   "execution_count": 178,
   "metadata": {},
   "outputs": [],
   "source": [
    "# Predict rank for all articles using cross validation:\n",
    "idx = ml.shuffled_pos(len(proc_train_val), 3911)\n",
    "shuffled_proc_train_val = proc_train_val.iloc[idx]\n",
    "assert len(shuffled_proc_train_val) == len(proc_train_val)\n",
    "y_cross_pred = cross_val_predict(fit_pipe, shuffled_proc_train_val, shuffled_proc_train_val.relevancia.values)"
   ]
  },
  {
   "cell_type": "code",
   "execution_count": 179,
   "metadata": {},
   "outputs": [],
   "source": [
    "# Get validation data true values and predictions:\n",
    "y_pred_true_df = pd.DataFrame({'y_pred':y_cross_pred, 'y_true': shuffled_proc_train_val['relevancia'].values}, \n",
    "                              index=shuffled_proc_train_val.index)\n",
    "y_pred_true_df['diff'] = y_pred_true_df['y_pred'] - y_pred_true_df['y_true']\n",
    "y_pred_true_df['abs_diff'] = np.abs(y_pred_true_df['diff'])"
   ]
  },
  {
   "cell_type": "code",
   "execution_count": 180,
   "metadata": {},
   "outputs": [
    {
     "data": {
      "image/png": "[encoded data removed]",
      "text/plain": [
       "<Figure size 432x288 with 1 Axes>"
      ]
     },
     "metadata": {
      "needs_background": "light"
     },
     "output_type": "display_data"
    }
   ],
   "source": [
    "y_pred_true_df.boxplot(column='y_pred', by='y_true', grid=False)\n",
    "pl.ylim([-0.9,7.9])\n",
    "pl.show()"
   ]
  },
  {
   "cell_type": "code",
   "execution_count": 181,
   "metadata": {},
   "outputs": [],
   "source": [
    "check_list = y_pred_true_df.sort_values('abs_diff', ascending=False)"
   ]
  },
  {
   "cell_type": "code",
   "execution_count": 190,
   "metadata": {},
   "outputs": [
    {
     "name": "stdout",
     "output_type": "stream",
     "text": [
      "\u001b[1mRank: \u001b[0m 4.135\n",
      "\u001b[1mTest text\u001b[0m (class 1)\n",
      "http://www.in.gov.br/web/dou/-/decretos-de-11-de-agosto-de-2021-337823789\n",
      "\u001b[1mTrain texts\u001b[0m\n",
      "(class 3  sim. 0.5791)  http://www.in.gov.br/web/dou/-/decreto-de-27-de-abril-de-2021-316371968\n",
      "(class 5  sim. 0.5533)  http://www.in.gov.br/web/dou/-/decretos-de-1-de-junho-de-2021-323577685\n",
      "(class 5  sim. 0.5452)  http://www.in.gov.br/web/dou/-/decreto-de-27-de-julho-de-2021-334581586\n",
      "(class 5  sim. 0.5387)  http://www.in.gov.br/web/dou/-/decreto-de-11-de-agosto-de-2021-337823873\n",
      "(class 5  sim. 0.5387)  http://www.in.gov.br/web/dou/-/decretos-de-5-de-agosto-de-2021-336648214\n",
      "(class 5  sim. 0.5384)  http://www.in.gov.br/web/dou/-/decreto-de-27-de-julho-de-2021-334582957\n",
      "(class 5  sim. 0.5309)  http://www.in.gov.br/web/dou/-/decretos-de-16-de-agosto-de-2021-338675954\n",
      "(class 2  sim. 0.5249)  http://www.in.gov.br/web/dou/-/decreto-de-22-de-junho-de-2021-327333646\n",
      "(class 5  sim. 0.5242)  http://www.in.gov.br/web/dou/-/decreto-de-18-de-fevereiro-de-2021-304192638\n",
      "(class 4  sim. 0.5226)  http://www.in.gov.br/web/dou/-/decretos-de-27-de-julho-de-2021-334581672\n"
     ]
    },
    {
     "data": {
      "image/png": "[encoded data removed]",
      "text/plain": [
       "<Figure size 720x288 with 2 Axes>"
      ]
     },
     "metadata": {
      "needs_background": "light"
     },
     "output_type": "display_data"
    }
   ],
   "source": [
    "i = 7\n",
    "print(xu.Bold('Rank: '), np.round(check_list.iloc[i]['y_pred'], 3)) \n",
    "analise_similarity_with(check_list.index[i], train_val_concat, train_val_concat, similarity_df, 0.30, 10)"
   ]
  },
  {
   "cell_type": "markdown",
   "metadata": {},
   "source": [
    "### Testa no test set"
   ]
  },
  {
   "cell_type": "code",
   "execution_count": 32,
   "metadata": {},
   "outputs": [],
   "source": [
    "from sklearn.metrics import mean_squared_error"
   ]
  },
  {
   "cell_type": "code",
   "execution_count": 33,
   "metadata": {},
   "outputs": [],
   "source": [
    "# Preprocess data:\n",
    "proc_train_val = preprocess.transform(train_val_concat)\n",
    "proc_test      = preprocess.transform(test_raw)\n",
    "# Fit model:\n",
    "fit_pipe.fit(proc_train_val, proc_train_val.relevancia.values, fit__sample_weight=relevance2weight(proc_train_val.relevancia.values))\n",
    "# Predict:\n",
    "pred_train_val = fit_pipe.predict(proc_train_val)\n",
    "pred_test      = fit_pipe.predict(proc_test)"
   ]
  },
  {
   "cell_type": "code",
   "execution_count": 34,
   "metadata": {},
   "outputs": [
    {
     "name": "stdout",
     "output_type": "stream",
     "text": [
      "RMSE:        0.7206844349044502\n",
      "Cum. Recall: 0.9448555074689379\n"
     ]
    }
   ],
   "source": [
    "print('RMSE:       ', np.sqrt(mean_squared_error(proc_test.relevancia.values, pred_test)))\n",
    "print('Cum. Recall:', ev.cum_recall_metric(proc_test.relevancia.values, pred_test))"
   ]
  },
  {
   "cell_type": "code",
   "execution_count": 35,
   "metadata": {},
   "outputs": [
    {
     "data": {
      "image/png": "[encoded data removed]",
      "text/plain": [
       "<Figure size 432x288 with 1 Axes>"
      ]
     },
     "metadata": {
      "needs_background": "light"
     },
     "output_type": "display_data"
    }
   ],
   "source": [
    "ev.plot_recall_curve(proc_test.relevancia.values, pred_test)"
   ]
  },
  {
   "cell_type": "code",
   "execution_count": 36,
   "metadata": {},
   "outputs": [
    {
     "data": {
      "image/png": "[encoded data removed]",
      "text/plain": [
       "<Figure size 1080x360 with 1 Axes>"
      ]
     },
     "metadata": {
      "needs_background": "light"
     },
     "output_type": "display_data"
    }
   ],
   "source": [
    "window = 1\n",
    "\n",
    "pl.figure(figsize=(15,5))\n",
    "ev.plot_average_rank(proc_test['relevancia'].values, proc_test['relevancia'].values, window, \n",
    "                  color='royalblue', label='Perfect')\n",
    "ev.plot_average_rank(proc_test['relevancia'].values, pred_test, window, color='g', label='Model')\n",
    "pl.legend(fontsize=14)\n",
    "pl.show()"
   ]
  },
  {
   "cell_type": "code",
   "execution_count": 37,
   "metadata": {},
   "outputs": [],
   "source": [
    "# Get validation data true values and predictions:\n",
    "y_pred_true_df = pd.DataFrame({'y_pred':pred_test, 'y_true': proc_test['relevancia'].values}, \n",
    "                              index=proc_test.index)\n",
    "y_pred_true_df['diff'] = y_pred_true_df['y_pred'] - y_pred_true_df['y_true']\n",
    "y_pred_true_df['abs_diff'] = np.abs(y_pred_true_df['diff'])"
   ]
  },
  {
   "cell_type": "code",
   "execution_count": 38,
   "metadata": {},
   "outputs": [
    {
     "data": {
      "image/png": "[encoded data removed]",
      "text/plain": [
       "<Figure size 432x288 with 1 Axes>"
      ]
     },
     "metadata": {
      "needs_background": "light"
     },
     "output_type": "display_data"
    }
   ],
   "source": [
    "y_pred_true_df.boxplot(column='y_pred', by='y_true', grid=False)\n",
    "#pl.savefig('plots/box-plot_rank_by_true_label_' + dt.datetime.now().strftime('%Y-%m-%d') + '.png')\n",
    "pl.ylim([-1,6])\n",
    "pl.show()"
   ]
  },
  {
   "cell_type": "code",
   "execution_count": 39,
   "metadata": {},
   "outputs": [
    {
     "data": {
      "text/plain": [
       "11164    1.936011\n",
       "103      2.181855\n",
       "1731     2.221205\n",
       "11276    2.299253\n",
       "10841    2.303501\n",
       "12404    2.336898\n",
       "4781     2.357757\n",
       "11157    2.388516\n",
       "11301    2.394722\n",
       "12884    2.449505\n",
       "Name: y_pred, dtype: float64"
      ]
     },
     "execution_count": 39,
     "metadata": {},
     "output_type": "execute_result"
    }
   ],
   "source": [
    "y_pred_true_df.loc[y_pred_true_df.y_true.isin([4,5])]['y_pred'].sort_values().head(10)"
   ]
  },
  {
   "cell_type": "code",
   "execution_count": 210,
   "metadata": {},
   "outputs": [],
   "source": [
    "check_list = y_pred_true_df.sort_values('abs_diff', ascending=False)\n",
    "# Compute similarity between texts:\n",
    "similarity_df = build_similarity_df(proc_train_val.tit_org_ementa_text, proc_test.tit_org_ementa_text, vectorizer)"
   ]
  },
  {
   "cell_type": "code",
   "execution_count": 211,
   "metadata": {},
   "outputs": [
    {
     "data": {
      "text/html": [
       "<div>\n",
       "<style scoped>\n",
       "    .dataframe tbody tr th:only-of-type {\n",
       "        vertical-align: middle;\n",
       "    }\n",
       "\n",
       "    .dataframe tbody tr th {\n",
       "        vertical-align: top;\n",
       "    }\n",
       "\n",
       "    .dataframe thead th {\n",
       "        text-align: right;\n",
       "    }\n",
       "</style>\n",
       "<table border=\"1\" class=\"dataframe\">\n",
       "  <thead>\n",
       "    <tr style=\"text-align: right;\">\n",
       "      <th></th>\n",
       "      <th>y_pred</th>\n",
       "      <th>y_true</th>\n",
       "      <th>diff</th>\n",
       "      <th>abs_diff</th>\n",
       "    </tr>\n",
       "  </thead>\n",
       "  <tbody>\n",
       "    <tr>\n",
       "      <th>325</th>\n",
       "      <td>5.128311</td>\n",
       "      <td>2</td>\n",
       "      <td>3.128311</td>\n",
       "      <td>3.128311</td>\n",
       "    </tr>\n",
       "    <tr>\n",
       "      <th>8159</th>\n",
       "      <td>4.104197</td>\n",
       "      <td>1</td>\n",
       "      <td>3.104197</td>\n",
       "      <td>3.104197</td>\n",
       "    </tr>\n",
       "    <tr>\n",
       "      <th>1693</th>\n",
       "      <td>2.253619</td>\n",
       "      <td>5</td>\n",
       "      <td>-2.746381</td>\n",
       "      <td>2.746381</td>\n",
       "    </tr>\n",
       "    <tr>\n",
       "      <th>9946</th>\n",
       "      <td>3.432568</td>\n",
       "      <td>1</td>\n",
       "      <td>2.432568</td>\n",
       "      <td>2.432568</td>\n",
       "    </tr>\n",
       "    <tr>\n",
       "      <th>247</th>\n",
       "      <td>3.409407</td>\n",
       "      <td>1</td>\n",
       "      <td>2.409407</td>\n",
       "      <td>2.409407</td>\n",
       "    </tr>\n",
       "  </tbody>\n",
       "</table>\n",
       "</div>"
      ],
      "text/plain": [
       "        y_pred  y_true      diff  abs_diff\n",
       "325   5.128311       2  3.128311  3.128311\n",
       "8159  4.104197       1  3.104197  3.104197\n",
       "1693  2.253619       5 -2.746381  2.746381\n",
       "9946  3.432568       1  2.432568  2.432568\n",
       "247   3.409407       1  2.409407  2.409407"
      ]
     },
     "execution_count": 211,
     "metadata": {},
     "output_type": "execute_result"
    }
   ],
   "source": [
    "check_list.head()"
   ]
  },
  {
   "cell_type": "code",
   "execution_count": 228,
   "metadata": {},
   "outputs": [
    {
     "name": "stdout",
     "output_type": "stream",
     "text": [
      "\u001b[1mTest text\u001b[0m (class 5)\n",
      "http://www.in.gov.br/web/dou/-/decretos-de-5-de-novembro-de-2020-286734673\n",
      "\u001b[1mTrain texts\u001b[0m\n",
      "(class 3  sim. 0.7233)  http://www.in.gov.br/web/dou/-/decreto-de-9-de-novembro-de-2020-287258557\n",
      "(class 2  sim. 0.5901)  http://www.in.gov.br/web/dou/-/decreto-de-18-de-dezembro-de-2020-295174871\n",
      "(class 3  sim. 0.5839)  http://www.in.gov.br/web/dou/-/decreto-de-30-de-julho-de-2021-335463511\n",
      "(class 3  sim. 0.5795)  http://www.in.gov.br/web/dou/-/decreto-de-29-de-julho-de-2021-335142083\n",
      "(class 3  sim. 0.5764)  http://www.in.gov.br/web/dou/-/decreto-de-3-de-dezembro-de-2020-292123829\n",
      "(class 4  sim. 0.5594)  http://www.in.gov.br/web/dou/-/decreto-de-16-de-novembro-de-2020-288552660\n",
      "(class 5  sim. 0.5013)  http://www.in.gov.br/web/dou/-/decretos-de-28-de-outubro-de-2020-285619501\n",
      "(class 3  sim. 0.4970)  http://www.in.gov.br/web/dou/-/decreto-de-4-de-novembro-de-2020-286531720\n",
      "(class 4  sim. 0.4968)  http://www.in.gov.br/web/dou/-/decreto-de-19-de-julho-de-2021-332966409\n",
      "(class 5  sim. 0.4930)  http://www.in.gov.br/web/dou/-/decreto-de-12-de-julho-de-2021-331548332\n",
      "\u001b[1mRank: \u001b[0m 3.11\n"
     ]
    },
    {
     "data": {
      "image/png": "[encoded data removed]",
      "text/plain": [
       "<Figure size 720x288 with 2 Axes>"
      ]
     },
     "metadata": {
      "needs_background": "light"
     },
     "output_type": "display_data"
    }
   ],
   "source": [
    "i = 16\n",
    "analise_similarity_with(check_list.index[i], train_val_concat, test_raw, similarity_df, 0.30, 10)\n",
    "print(xu.Bold('Rank: '), np.round(check_list.iloc[i]['y_pred'], 2)) "
   ]
  },
  {
   "cell_type": "markdown",
   "metadata": {
    "jp-MarkdownHeadingCollapsed": true,
    "tags": []
   },
   "source": [
    "### Reanalisando exemplos"
   ]
  },
  {
   "cell_type": "code",
   "execution_count": 93,
   "metadata": {},
   "outputs": [
    {
     "data": {
      "text/plain": [
       "16"
      ]
     },
     "execution_count": 93,
     "metadata": {},
     "output_type": "execute_result"
    }
   ],
   "source": [
    "#x = train_val_concat.loc[(train_val_concat.relevancia == 1) &\n",
    "#                         (train_val_concat.fulltext.str.lower().str.contains(r'(?:conselho|comitê|grupo de trabalho)'))]\n",
    "#len(x)\n",
    "\n",
    "x = classified_secao.loc[(classified_secao.relevancia == 5) &\n",
    "                         (classified_secao.fulltext.str.contains(r'DAS[ -]*?[0123]{3}\\.4'))]\n",
    "len(x)"
   ]
  },
  {
   "cell_type": "code",
   "execution_count": 95,
   "metadata": {},
   "outputs": [
    {
     "name": "stdout",
     "output_type": "stream",
     "text": [
      "Ministério da Mulher, da Família e dos Direitos Humanos/Secretaria Executiva\n",
      "\n",
      "None\n",
      "\n",
      "O SECRETÁRIO-EXECUTIVO DO MINISTÉRIO DA MULHER, DA FAMÍLIA E DOS DIREITOS HUMANOS, no uso de suas atribuições conferidas pela Portaria nº 160, de 07 de março de 2018, publicada no Diário Oficial da União de 9 de março de 2018, e tendo em vista o disposto na Medida Provisória nº 870, de 1º de janeiro de 2019, e no Decreto nº 9.673, de 2 de janeiro de 2019, resolve: Nº 478 - Exonerar, a pedido, DANYEL IÓRIO DE LIMA, do cargo de Coordenador-Geral de Políticas Temáticas da Secretaria Nacional dos Direitos da Criança e do Adolescente deste Ministério, código DAS 101.4.Nº 479 - Exonerar NATÁLIA DE PAIVA MORAES MOREIRA do cargo de Assessor da Secretaria Nacional da Juventude deste Ministério, código DAS 102.4.Nº 480 - Nomear MARIA EDUARDA DINARDI MARDEGAN, para exercer o cargo de Assessor da Secretaria Nacional da Juventude deste Ministério, código DAS 102.4.Nº 481 - Dispensar FILIPE TRIGUEIRO XAVIER CORREIA do encargo de substituto do cargo de Diretor do Departamento de Políticas Temáticas dos Direitos da Pessoa com Deficiência da Secretaria Nacional dos Direitos da Pessoa com Deficiência deste Ministério, código DAS 101.5, nos afastamentos, impedimentos legais ou regulamentares do titular e na vacância do cargo.Nº 482 - Designar RODRIGO ABREU DE FREITAS MACHADO, para exercer o encargo de substituto do cargo de Diretor do Departamento de Políticas Temáticas dos Direitos da Pessoa com Deficiência da Secretaria Nacional dos Direitos da Pessoa com Deficiência deste Ministério, código DAS 101.5, nos afastamentos, impedimentos legais ou regulamentares do titular e na vacância do cargo.Nº 483 - Exonerar JORGE GONÇALVES DIAS do cargo de Chefe de Gabinete da Secretaria Nacional de Políticas para as Mulheres deste Ministério, código DAS 101.4.Nº 484 - Exonerar JADE CHRISTINNE DA COSTA DE PAULA DOS SANTOS do cargo de Assistente Técnico do Gabinete da Secretaria Nacional de Políticas para as Mulheres deste Ministério, código DAS 102.1.Nº 485 - Exonerar ROSENILDA NASCIMENTO ROZENDO DE JESUS do cargo de Assessor da Secretaria Nacional de Políticas para as Mulheres deste Ministério, código DAS 102.4.Nº 486 - Exonerar JANETE FERNANDES SUZART DA SILVA SANTOS do cargo de Assessor da Secretaria Nacional de Políticas para as Mulheres deste Ministério, código DAS 102.4.Nº 487 - Exonerar JÉSSICA CAVALÉRO DE MACÊDO ALENCAR do cargo de Assessor Técnico do Gabinete da Secretaria Nacional de Políticas para as Mulheres deste Ministério, código DAS 102.3.Nº 488 - Exonerar IVERTON FORTUNATO DE SOUSA do cargo de Assessor Técnico do Departamento de Políticas de Enfrentamento à Violência Contra as Mulheres da Secretaria Nacional de Políticas para as Mulheres deste Ministério, código DAS 102.3.Nº 489 - Exonerar SAMANTHA MARAFON DO CANTO do cargo de Assessor Técnico do Departamento de Políticas de Enfrentamento à Violência Contra as Mulheres da Secretaria Nacional de Políticas para as Mulheres deste Ministério, código DAS 102.3.Nº 490 - Exonerar CHAYENNE SÁ DE SOUZA GUERREIRO do cargo de Coordenador da Coordenação-Geral de Acesso à Justiça e Fortalecimento da Rede de Atendimento à Mulher do Departamento de Políticas de Enfrentamento à Violência Contra as Mulheres da Secretaria Nacional de Políticas para as Mulheres deste Ministério, código DAS 101.3.Nº 491 - Exonerar NAURA SILVIA REQUIA SCHNEIDER do cargo de Coordenador-Geral do Programa Mulher Viver sem Violência do Departamento de Políticas de Enfrentamento à Violência Contra as Mulheres da Secretaria Nacional de Políticas para as Mulheres deste Ministério, código DAS 101.4. SERGIO LUIZ CURY CARAZZA\n",
      "\n",
      "http://www.in.gov.br/web/dou/-/portarias-de-2-de-maio-de-2019-87086019\n"
     ]
    }
   ],
   "source": [
    "i = 2\n",
    "print(x.iloc[i]['orgao'])\n",
    "print('')\n",
    "print(x.iloc[i]['ementa'])\n",
    "print('')\n",
    "print(x.iloc[i]['fulltext'])\n",
    "print('')\n",
    "print(x.iloc[i]['url'])"
   ]
  },
  {
   "cell_type": "markdown",
   "metadata": {},
   "source": [
    "## Colocando em produção"
   ]
  },
  {
   "cell_type": "markdown",
   "metadata": {},
   "source": [
    "### Cria modelo de teste para registro"
   ]
  },
  {
   "cell_type": "code",
   "execution_count": 315,
   "metadata": {},
   "outputs": [],
   "source": [
    "# Fit to train and validation set; test on test set:\n",
    "#final_test_pipeline = do.create_model_sec2()\n",
    "#dump = final_test_pipeline.fit(train_val_concat, train_val_concat.relevancia.values, fit__sample_weight=relevance2weight(train_val_concat.relevancia.values))\n",
    "# Predict:\n",
    "#y_test_pred = final_test_pipeline.predict(test_raw)\n",
    "# Evaluate:\n",
    "#test_score  = ev.cum_recall_metric(test_raw.relevancia.values, y_test_pred)\n",
    "#print('RMSE:       ', np.sqrt(mean_squared_error(test_raw.relevancia.values, y_test_pred)))\n",
    "#print('Cum. Recall:', test_score)"
   ]
  },
  {
   "cell_type": "code",
   "execution_count": 40,
   "metadata": {},
   "outputs": [],
   "source": [
    "# Create and fit model to train data:\n",
    "final_test_pipeline = do.create_model_sec2()\n",
    "dump = final_test_pipeline.fit(train_raw, train_raw.relevancia.values, fit__sample_weight=relevance2weight(train_raw.relevancia.values))"
   ]
  },
  {
   "cell_type": "code",
   "execution_count": 41,
   "metadata": {},
   "outputs": [
    {
     "name": "stdout",
     "output_type": "stream",
     "text": [
      "\u001b[1mVal\u001b[0m\n",
      "RMSE:        0.7022323828536192\n",
      "Cum. Recall: 0.9459416468342579\n",
      "\u001b[1mTest\u001b[0m\n",
      "RMSE:        0.7144735729185285\n",
      "Cum. Recall: 0.9478570431383498\n"
     ]
    }
   ],
   "source": [
    "# Predict:\n",
    "y_train_pred = final_test_pipeline.predict(train_raw) \n",
    "y_val_pred   = final_test_pipeline.predict(val_raw)\n",
    "y_test_pred  = final_test_pipeline.predict(test_raw)\n",
    "# Evaluate:\n",
    "train_score  = ev.cum_recall_metric(train_raw.relevancia.values, y_train_pred)\n",
    "val_score    = ev.cum_recall_metric(val_raw.relevancia.values,  y_val_pred)\n",
    "test_score   = ev.cum_recall_metric(test_raw.relevancia.values,  y_test_pred)\n",
    "print(xu.Bold('Val'))\n",
    "print('RMSE:       ', np.sqrt(mean_squared_error(val_raw.relevancia.values, y_val_pred)))\n",
    "print('Cum. Recall:', val_score)\n",
    "print(xu.Bold('Test'))\n",
    "print('RMSE:       ', np.sqrt(mean_squared_error(test_raw.relevancia.values, y_test_pred)))\n",
    "print('Cum. Recall:', test_score)"
   ]
  },
  {
   "cell_type": "markdown",
   "metadata": {},
   "source": [
    "### Cria modelo de produção"
   ]
  },
  {
   "cell_type": "code",
   "execution_count": 42,
   "metadata": {},
   "outputs": [],
   "source": [
    "# Create and fit model to train data:\n",
    "final_prod_pipeline = do.create_model_sec2()\n",
    "dump = final_prod_pipeline.fit(classified_secao, classified_secao.relevancia.values, fit__sample_weight=relevance2weight(classified_secao.relevancia.values))"
   ]
  },
  {
   "cell_type": "markdown",
   "metadata": {},
   "source": [
    "### Salva resultados"
   ]
  },
  {
   "cell_type": "code",
   "execution_count": 43,
   "metadata": {},
   "outputs": [],
   "source": [
    "#ml.save_model('../modelos/dou-2_sorter_ensemble_2021-09-17/', final_test_pipeline, final_prod_pipeline, \n",
    "#              train_raw, test_raw, 'cum_recall_metric', train_score, test_score, val_df=val_raw)"
   ]
  },
  {
   "cell_type": "markdown",
   "metadata": {},
   "source": [
    "### Testando modelo em produção"
   ]
  },
  {
   "cell_type": "code",
   "execution_count": 44,
   "metadata": {},
   "outputs": [],
   "source": [
    "import joblib\n",
    "from sklearn.metrics import mean_squared_error\n",
    "# Model evaluation:\n",
    "import dou_model_eval as ev"
   ]
  },
  {
   "cell_type": "code",
   "execution_count": 49,
   "metadata": {},
   "outputs": [],
   "source": [
    "# Load test data:\n",
    "loaded_test_data = pd.read_csv('../modelos/dou-2_sorter_ensemble_2021-09-17/test_data.csv')"
   ]
  },
  {
   "cell_type": "code",
   "execution_count": 55,
   "metadata": {},
   "outputs": [],
   "source": [
    "# Get predictions from saved tested model:\n",
    "loaded_model  = joblib.load('../modelos/dou-2_sorter_ensemble_2021-09-17/tested_model.joblib')\n",
    "#loaded_model  = joblib.load('../modelos/dou-2_sorter_ensemble_2020-07-25/production_model.joblib')\n",
    "#loaded_model = joblib.load('../modelos/dou-2_sorter_ensemble_2020-06-08/tested_model.joblib')\n",
    "y_pred_loaded = loaded_model.predict(loaded_test_data)"
   ]
  },
  {
   "cell_type": "markdown",
   "metadata": {},
   "source": [
    "#### Métricas de avaliação"
   ]
  },
  {
   "cell_type": "code",
   "execution_count": 56,
   "metadata": {},
   "outputs": [
    {
     "name": "stdout",
     "output_type": "stream",
     "text": [
      "RMSE:        0.7144735729185285\n",
      "Cum. Recall: 0.9478570431383498\n"
     ]
    }
   ],
   "source": [
    "print('RMSE:       ', np.sqrt(mean_squared_error(loaded_test_data.relevancia, y_pred_loaded)))\n",
    "print('Cum. Recall:', ev.cum_recall_metric(loaded_test_data.relevancia.values, y_pred_loaded))"
   ]
  },
  {
   "cell_type": "code",
   "execution_count": 57,
   "metadata": {},
   "outputs": [
    {
     "data": {
      "image/png": "[encoded data removed]",
      "text/plain": [
       "<Figure size 432x288 with 1 Axes>"
      ]
     },
     "metadata": {
      "needs_background": "light"
     },
     "output_type": "display_data"
    }
   ],
   "source": [
    "ev.plot_recall_curve(loaded_test_data.relevancia.values, y_pred_loaded)"
   ]
  },
  {
   "cell_type": "code",
   "execution_count": 58,
   "metadata": {},
   "outputs": [
    {
     "data": {
      "image/png": "[encoded data removed]",
      "text/plain": [
       "<Figure size 1080x360 with 1 Axes>"
      ]
     },
     "metadata": {
      "needs_background": "light"
     },
     "output_type": "display_data"
    }
   ],
   "source": [
    "window = 1\n",
    "\n",
    "pl.figure(figsize=(15,5))\n",
    "ev.plot_average_rank(loaded_test_data['relevancia'].values, loaded_test_data['relevancia'].values, window, \n",
    "                  color='royalblue', label='Perfect')\n",
    "ev.plot_average_rank(loaded_test_data['relevancia'].values, y_pred_loaded, window, color='g', label='Model')\n",
    "pl.legend(fontsize=14)\n",
    "pl.show()"
   ]
  },
  {
   "cell_type": "code",
   "execution_count": 59,
   "metadata": {},
   "outputs": [
    {
     "data": {
      "image/png": "[encoded data removed]",
      "text/plain": [
       "<Figure size 432x288 with 1 Axes>"
      ]
     },
     "metadata": {
      "needs_background": "light"
     },
     "output_type": "display_data"
    }
   ],
   "source": [
    "# Join validation true and predicted values:\n",
    "y_pred_true_loaded_df = pd.DataFrame({'y_pred':y_pred_loaded, 'y_true': loaded_test_data['relevancia'].values}, \n",
    "                                     index=loaded_test_data.index)\n",
    "y_pred_true_loaded_df.boxplot(column='y_pred', by='y_true', grid=False)\n",
    "#pl.savefig('plots/box-plot_rank_by_true_label_' + dt.datetime.now().strftime('%Y-%m-%d') + '.png')\n",
    "pl.ylim([-1,6])\n",
    "pl.show()"
   ]
  },
  {
   "cell_type": "markdown",
   "metadata": {},
   "source": [
    "## Reclassificando matérias com DAS 4"
   ]
  },
  {
   "cell_type": "code",
   "execution_count": 37,
   "metadata": {},
   "outputs": [],
   "source": [
    "old_articles = classified_secao.loc[classified_secao.data_pub < '2020-06-15']"
   ]
  },
  {
   "cell_type": "code",
   "execution_count": 38,
   "metadata": {},
   "outputs": [],
   "source": [
    "das4_articles = old_articles.loc[old_articles.fulltext.str.contains('DAS[ -]*?[0123]{3}\\.4')]"
   ]
  },
  {
   "cell_type": "code",
   "execution_count": 45,
   "metadata": {},
   "outputs": [],
   "source": [
    "high_das4_articles = das4_articles.loc[das4_articles.relevancia >= 3]"
   ]
  },
  {
   "cell_type": "code",
   "execution_count": 46,
   "metadata": {},
   "outputs": [],
   "source": [
    "#high_das4_articles.to_csv('../dados/artigos_sec2_com_das4_relevancia_3+.csv', index=False)"
   ]
  },
  {
   "cell_type": "markdown",
   "metadata": {},
   "source": [
    "## Construindo amostra de treinamento representativa"
   ]
  },
  {
   "cell_type": "markdown",
   "metadata": {},
   "source": [
    "### Carrega matérias da seção 2 do DOU, com cortes e antes de 2020-04-25"
   ]
  },
  {
   "cell_type": "code",
   "execution_count": 28,
   "metadata": {},
   "outputs": [],
   "source": [
    "sample_query = \"\"\"\n",
    "SELECT \n",
    "  NULL AS relevancia, identifica, orgao, ementa, resumo, \n",
    "  IF(LENGTH(clean_text) > 49990, CONCAT(SUBSTR(clean_text, 1, 49990), '...'), clean_text) AS fulltext, \n",
    "  secao, edicao, pagina, data_pub, assina, cargo, url, url_certificado\n",
    "\n",
    "FROM `gabinete-compartilhado.testing_mess.artigos_dou_cleaned_ate_2020_06_02`  \n",
    "\n",
    "-- Restringe a matérias ainda não classificadas:\n",
    "WHERE url NOT IN (\n",
    "  SELECT url \n",
    "  FROM `gabinete-compartilhado.executivo_federal_dou.artigos_classificados` \n",
    "  WHERE url IS NOT NULL\n",
    ")\n",
    "-- Restringe a datas de treinamento:\n",
    "AND data_pub < '2020-04-25'\n",
    "\n",
    "-- Corte feito nas matérias da seção 2:\n",
    "AND secao = 2\n",
    "AND (LOWER(orgao) NOT LIKE '%universidade%' AND LOWER(orgao) NOT LIKE '%instituto federal%')\n",
    "AND (LOWER(orgao) NOT LIKE '%superintendência regional%')\n",
    "AND (LOWER(orgao) NOT LIKE '%gerência regional%')\n",
    "AND (LOWER(orgao) NOT LIKE '%superintendência estadual%' AND LOWER(orgao) NOT LIKE '%colégio%')\n",
    "AND SPLIT(orgao, '/')[OFFSET(0)] \n",
    "  NOT IN ('Conselho Nacional do Ministério Público', \n",
    "          'Entidades de Fiscalização do Exercício das Profissões Liberais', 'Governo do Estado', 'Ineditoriais', \n",
    "          'Defensoria Pública da União', 'Ministério Público da União', 'Poder Judiciário', 'Prefeituras', \n",
    "          'Tribunal de Contas da União', 'Atos do Poder Judiciário', 'Poder Legislativo')\n",
    "AND orgao \n",
    "  NOT IN ('Conselho Nacional do Ministério Público', \n",
    "          'Entidades de Fiscalização do Exercício das Profissões Liberais', 'Governo do Estado', 'Ineditoriais', \n",
    "          'Defensoria Pública da União', 'Ministério Público da União', 'Poder Judiciário', 'Prefeituras', \n",
    "          'Tribunal de Contas da União', 'Atos do Poder Judiciário', 'Poder Legislativo')\n",
    "AND (LOWER(orgao) NOT LIKE '%comando militar%')\n",
    "AND (LOWER(orgao) NOT LIKE '%hospital%')\n",
    "AND LOWER(fulltext) NOT LIKE '%conceder aposentadoria%' AND LOWER(fulltext) NOT LIKE '%aposentar%'\n",
    "AND LOWER(fulltext) NOT LIKE '%conceder pensão%' \n",
    "AND LOWER(fulltext) NOT LIKE '%afastamento do país%'\n",
    "\"\"\""
   ]
  },
  {
   "cell_type": "code",
   "execution_count": 29,
   "metadata": {},
   "outputs": [
    {
     "name": "stdout",
     "output_type": "stream",
     "text": [
      "Loading data from local file...\n"
     ]
    }
   ],
   "source": [
    "sample_raw = xu.load_data_from_local_or_bigquery(sample_query, \n",
    "                                                 '../dados/amostra_secao_2_com_cortes_ate_2020-04-25.csv')"
   ]
  },
  {
   "cell_type": "code",
   "execution_count": 30,
   "metadata": {},
   "outputs": [
    {
     "name": "stdout",
     "output_type": "stream",
     "text": [
      "# examples: 30217\n"
     ]
    }
   ],
   "source": [
    "print('# examples:', len(sample_raw))"
   ]
  },
  {
   "cell_type": "markdown",
   "metadata": {},
   "source": [
    "### Criando exemplos sintéticos"
   ]
  },
  {
   "cell_type": "markdown",
   "metadata": {},
   "source": [
    "Este processo foi testado e concluímos que ele não introduz variabilidade o suficiente para ser útil (i.e. melhorar a performance do modelo), de maneira que ele foi abandonado."
   ]
  },
  {
   "cell_type": "code",
   "execution_count": 214,
   "metadata": {},
   "outputs": [
    {
     "name": "stdout",
     "output_type": "stream",
     "text": [
      "PORTARIA Nº 208-DGP/DCIPAS, DE 23 DE DEZEMBRO DE 2019\n",
      "\n",
      "Ministério da Defesa/Comando do Exército/Departamento-Geral do Pessoal/Diretoria de Civis, Inativos, Pensionistas e Assistência Social\n",
      "\n",
      "nan\n",
      "\n",
      "O CHEFE DO DEPARTAMENTO-GERAL DO PESSOAL, no uso da competência que lhe foi conferida pela Portaria nº 218-Comandante do Exército, de 20 de março de 2017, resolve:Exonerar,ex officio, o Terceiro Sargento da Reserva Remunerada (Idt: 114239503-5) EDNALDO DOS ANJOS DE JESUS, Prec-CP: 96 1634328, da Diretoria de Civis, Inativos, Pensionistas e Assistência Social (BRASÍLIA-DF), a partir de 1º de janeiro de 2020, de acordo com a alínea a), do inciso II, do Art 11, da Portaria nº 218-Comandante do Exército, de 20 de março de 2017, de Prestador de Tarefa por Tempo Certo.Nomear,por proposta do Diretor de Civis, Inativos, Pensionistas e Assistência Social, o Terceiro Sargento da Reserva Remunerada (Idt: 114239503-5) EDNALDO DOS ANJOS DE JESUS, Prec-CP: 96 1634328, na Diretoria de Civis, Inativos, Pensionistas e Assistência Social (BRASÍLIA-DF), para Prestador de Tarefa por Tempo Certo, para exercer a tarefa de Auxiliar administrativo responsável pela confecção dos históricos dos militares e servidores civis e da produção de documentos previstos no calendário de eventos regional referente à Diretoria, pelo prazo de 24 (vinte e quatro) meses, a partir de 1º de janeiro 2020.Gen Ex ARTUR COSTA MOURA \n",
      "\n",
      "http://www.in.gov.br/web/dou/-/portaria-n-208-dgp/dcipas-de-23-de-dezembro-de-2019-235348344\n"
     ]
    }
   ],
   "source": [
    "sel = sample_raw.loc[(sample_raw.fulltext.str.lower().str.contains(r'nomear'))]\n",
    "i = 7\n",
    "print(sel.iloc[i].identifica)\n",
    "print('')\n",
    "print(sel.iloc[i].orgao)\n",
    "print('')\n",
    "print(sel.iloc[i].ementa)\n",
    "print('')\n",
    "print(sel.iloc[i].fulltext)\n",
    "print('')\n",
    "print(sel.iloc[i].url)\n"
   ]
  },
  {
   "cell_type": "code",
   "execution_count": 215,
   "metadata": {},
   "outputs": [],
   "source": [
    "atos_model_raw = pd.read_csv('../dados/atos_para_gerar_exemplos_sinteticos.csv')"
   ]
  },
  {
   "cell_type": "code",
   "execution_count": 217,
   "metadata": {},
   "outputs": [
    {
     "ename": "ModuleNotFoundError",
     "evalue": "No module named 'spacy'",
     "output_type": "error",
     "traceback": [
      "\u001b[0;31m---------------------------------------------------------------------------\u001b[0m",
      "\u001b[0;31mModuleNotFoundError\u001b[0m                       Traceback (most recent call last)",
      "\u001b[0;32m<ipython-input-217-76a01d9c502b>\u001b[0m in \u001b[0;36m<module>\u001b[0;34m\u001b[0m\n\u001b[0;32m----> 1\u001b[0;31m \u001b[0;32mimport\u001b[0m \u001b[0mspacy\u001b[0m\u001b[0;34m\u001b[0m\u001b[0;34m\u001b[0m\u001b[0m\n\u001b[0m",
      "\u001b[0;31mModuleNotFoundError\u001b[0m: No module named 'spacy'"
     ]
    }
   ],
   "source": [
    "import spacy"
   ]
  },
  {
   "cell_type": "markdown",
   "metadata": {},
   "source": [
    "### Cluster"
   ]
  },
  {
   "cell_type": "code",
   "execution_count": 31,
   "metadata": {},
   "outputs": [],
   "source": [
    "from sklearn.cluster import KMeans"
   ]
  },
  {
   "cell_type": "code",
   "execution_count": 46,
   "metadata": {},
   "outputs": [],
   "source": [
    "# Data vectorizer:\n",
    "cluster_vectorizer = CountVectorizer(lowercase=False, binary=True, ngram_range=(1,1))\n",
    "cluster_extra      = OneHotEncoder(drop='first')\n",
    "cluster_processor  = ColumnTransformer([('vec',   cluster_vectorizer, 'tit_org_ementa_text'),\n",
    "                                        ('extra', cluster_extra, ['tipo_edicao'])])\n",
    "\n",
    "cluster_prepare    = Pipeline([('pre', preprocess), ('proc', cluster_processor)])"
   ]
  },
  {
   "cell_type": "code",
   "execution_count": 47,
   "metadata": {},
   "outputs": [],
   "source": [
    "# Vectorize texts:\n",
    "sample_X = cluster_prepare.fit_transform(sample_raw)\n",
    "print('Term-document matrix shape:', sample_X.shape)"
   ]
  },
  {
   "cell_type": "code",
   "execution_count": 49,
   "metadata": {},
   "outputs": [],
   "source": [
    "# Cluster texts:\n",
    "kmeans = KMeans(n_clusters=100, n_jobs=7)\n",
    "dump = kmeans.fit(sample_X)\n",
    "cluster_distances = kmeans.transform(sample_X)\n",
    "cluster_labels = kmeans.labels_"
   ]
  },
  {
   "cell_type": "code",
   "execution_count": 62,
   "metadata": {},
   "outputs": [],
   "source": [
    "# Find most representative texts for each cluster:\n",
    "near_center_idx = np.argmin(cluster_distances, axis=0)"
   ]
  },
  {
   "cell_type": "code",
   "execution_count": 150,
   "metadata": {},
   "outputs": [],
   "source": [
    "#sample_raw.iloc[near_center_idx].to_csv('dou_2_100_clusters_representatives_2020-06-20.csv', index=False)"
   ]
  },
  {
   "cell_type": "code",
   "execution_count": 103,
   "metadata": {},
   "outputs": [
    {
     "data": {
      "text/html": [
       "<div>\n",
       "<style scoped>\n",
       "    .dataframe tbody tr th:only-of-type {\n",
       "        vertical-align: middle;\n",
       "    }\n",
       "\n",
       "    .dataframe tbody tr th {\n",
       "        vertical-align: top;\n",
       "    }\n",
       "\n",
       "    .dataframe thead th {\n",
       "        text-align: right;\n",
       "    }\n",
       "</style>\n",
       "<table border=\"1\" class=\"dataframe\">\n",
       "  <thead>\n",
       "    <tr style=\"text-align: right;\">\n",
       "      <th></th>\n",
       "      <th>identifica</th>\n",
       "      <th>orgao</th>\n",
       "      <th>fulltext</th>\n",
       "    </tr>\n",
       "  </thead>\n",
       "  <tbody>\n",
       "    <tr>\n",
       "      <th>24319</th>\n",
       "      <td>PORTARIA Nº 10, DE 3 DE MARÇO DE 2020</td>\n",
       "      <td>Ministério do Desenvolvimento Regional/Gabinet...</td>\n",
       "      <td>O CORREGEDOR DO MINISTÉRIO DO DESENVOLVIMENTO ...</td>\n",
       "    </tr>\n",
       "    <tr>\n",
       "      <th>7351</th>\n",
       "      <td>Portaria Nº 432, de 29 de novembro de 2019</td>\n",
       "      <td>Ministério da Infraestrutura/Empresa de Planej...</td>\n",
       "      <td>O Diretor-Presidente Substituto da Empresa de ...</td>\n",
       "    </tr>\n",
       "    <tr>\n",
       "      <th>15553</th>\n",
       "      <td>PORTARIA Nº 5.533, DE 2 DE MAIO DE 2019</td>\n",
       "      <td>Ministério da Saúde/Fundação Oswaldo Cruz</td>\n",
       "      <td>A Presidente da Fundação Oswaldo Cruz - FIOCRU...</td>\n",
       "    </tr>\n",
       "    <tr>\n",
       "      <th>26423</th>\n",
       "      <td>PORTARIA Nº 497, DE 11 DE MARÇO DE 2020</td>\n",
       "      <td>Ministério da Economia/Secretaria Especial da ...</td>\n",
       "      <td>O SECRETÁRIO ESPECIAL DA RECEITA FEDERAL DO BR...</td>\n",
       "    </tr>\n",
       "    <tr>\n",
       "      <th>19676</th>\n",
       "      <td>PORTARIA Nº 35, DE 29 DE JANEIRO DE 2020</td>\n",
       "      <td>Ministério da Cidadania/Corregedoria-Geral</td>\n",
       "      <td>O CORREGEDOR-GERAL DO MINISTÉRIO DA CIDADANIA,...</td>\n",
       "    </tr>\n",
       "  </tbody>\n",
       "</table>\n",
       "</div>"
      ],
      "text/plain": [
       "                                       identifica  \\\n",
       "24319       PORTARIA Nº 10, DE 3 DE MARÇO DE 2020   \n",
       "7351   Portaria Nº 432, de 29 de novembro de 2019   \n",
       "15553     PORTARIA Nº 5.533, DE 2 DE MAIO DE 2019   \n",
       "26423     PORTARIA Nº 497, DE 11 DE MARÇO DE 2020   \n",
       "19676    PORTARIA Nº 35, DE 29 DE JANEIRO DE 2020   \n",
       "\n",
       "                                                   orgao  \\\n",
       "24319  Ministério do Desenvolvimento Regional/Gabinet...   \n",
       "7351   Ministério da Infraestrutura/Empresa de Planej...   \n",
       "15553          Ministério da Saúde/Fundação Oswaldo Cruz   \n",
       "26423  Ministério da Economia/Secretaria Especial da ...   \n",
       "19676         Ministério da Cidadania/Corregedoria-Geral   \n",
       "\n",
       "                                                fulltext  \n",
       "24319  O CORREGEDOR DO MINISTÉRIO DO DESENVOLVIMENTO ...  \n",
       "7351   O Diretor-Presidente Substituto da Empresa de ...  \n",
       "15553  A Presidente da Fundação Oswaldo Cruz - FIOCRU...  \n",
       "26423  O SECRETÁRIO ESPECIAL DA RECEITA FEDERAL DO BR...  \n",
       "19676  O CORREGEDOR-GERAL DO MINISTÉRIO DA CIDADANIA,...  "
      ]
     },
     "execution_count": 103,
     "metadata": {},
     "output_type": "execute_result"
    }
   ],
   "source": [
    "# Exemplos de matérias num cluster:\n",
    "k = 5\n",
    "sample_raw.iloc[cluster_labels == k][['identifica', 'orgao', 'fulltext']].sample(5)"
   ]
  },
  {
   "cell_type": "code",
   "execution_count": 148,
   "metadata": {},
   "outputs": [
    {
     "data": {
      "image/png": "[encoded data removed]",
      "text/plain": [
       "<Figure size 1152x432 with 2 Axes>"
      ]
     },
     "metadata": {
      "needs_background": "light"
     },
     "output_type": "display_data"
    }
   ],
   "source": [
    "# Plot cluster member and centroid (components):\n",
    "k = 1 # Cluster number\n",
    "\n",
    "k_cluster_idx = np.where(cluster_labels == k)[0]\n",
    "k_cluster_X   = sample_X[k_cluster_idx]\n",
    "k_cluster_ex  = k_cluster_X[np.random.randint(0, len(k_cluster_idx))].toarray()[0]\n",
    "\n",
    "pl.figure(figsize=(16,6))\n",
    "pl.subplot(2,1,1)\n",
    "pl.title(\"Example and its cluster's centroid\", fontsize=14)\n",
    "pl.plot(kmeans.cluster_centers_[k], alpha=0.3, color='b')\n",
    "pl.plot(k_cluster_ex, alpha=0.3, color='r')\n",
    "pl.subplot(2,1,2)\n",
    "pl.title(\"Example and another cluster's centroid\", fontsize=14)\n",
    "pl.plot(kmeans.cluster_centers_[k+1], alpha=0.3, color='g')\n",
    "pl.plot(k_cluster_ex, alpha=0.3, color='r')\n",
    "#pl.plot(kmeans.cluster_centers_[3], alpha=0.5)\n",
    "pl.show()"
   ]
  },
  {
   "cell_type": "markdown",
   "metadata": {},
   "source": [
    "# Lixo"
   ]
  },
  {
   "cell_type": "markdown",
   "metadata": {},
   "source": [
    "### Teste de redução de dimensionalidade"
   ]
  },
  {
   "cell_type": "code",
   "execution_count": null,
   "metadata": {},
   "outputs": [],
   "source": [
    "# Check if there is any word that appears in every text:\n",
    "vec1 = clone(vectorizer)\n",
    "bin_train = vec1.fit_transform(proc_train.tit_org_ementa_text).toarray()\n",
    "\n",
    "\n",
    "np.all(np.prod(bin_train, axis=0) == 0)"
   ]
  },
  {
   "cell_type": "code",
   "execution_count": null,
   "metadata": {},
   "outputs": [],
   "source": [
    "bin_train.shape"
   ]
  },
  {
   "cell_type": "markdown",
   "metadata": {},
   "source": [
    "### Outras coisas"
   ]
  },
  {
   "cell_type": "code",
   "execution_count": null,
   "metadata": {},
   "outputs": [],
   "source": [
    "def array_derivative(y, x=None):\n",
    "    \"\"\"\n",
    "    Given an array `y` and and optional array `x`, compute the derivative\n",
    "    dy / dx (x = [0,1,...,N-1] if unespecified, where N = len(y)). The \n",
    "    derivative value is attributed to the initial point used in the calculation,\n",
    "    and the final value is extrapolated from the last two points in x and y.\n",
    "    \"\"\"\n",
    "    if x != None:\n",
    "        dx = np.diff(x)\n",
    "        assert np.all(np.isclose(dx, np.ones(len(dx)) * dx[0])), 'x should be linearly spaced.'\n",
    "        dx = np.append(dx, dx[-1])\n",
    "    dy = np.diff(y)\n",
    "    # Extrapolate derivative\n",
    "    dy = np.append(dy, [dy[-1] + dy[-1] - dy[-2]])\n",
    "    if x == None:\n",
    "        return dy\n",
    "    else:\n",
    "        return dy / dx"
   ]
  },
  {
   "cell_type": "markdown",
   "metadata": {},
   "source": [
    "# Anotações sobre python"
   ]
  },
  {
   "cell_type": "markdown",
   "metadata": {},
   "source": [
    "#### Invertendo um dicionário"
   ]
  },
  {
   "cell_type": "code",
   "execution_count": null,
   "metadata": {},
   "outputs": [],
   "source": [
    "{w:k for k,w in class_to_weight.items()}"
   ]
  },
  {
   "cell_type": "markdown",
   "metadata": {},
   "source": [
    "#### Usando `*args` e `**kwargs`"
   ]
  },
  {
   "cell_type": "markdown",
   "metadata": {},
   "source": [
    "Dentro da função, o `arg` de `*arg` é tratado como uma tupla."
   ]
  },
  {
   "cell_type": "code",
   "execution_count": null,
   "metadata": {},
   "outputs": [],
   "source": [
    "def teste(x, *arg):\n",
    "    print(x)\n",
    "    for a in arg:\n",
    "        print(a)\n",
    "    print(arg)\n",
    "    print(type(arg))"
   ]
  },
  {
   "cell_type": "code",
   "execution_count": null,
   "metadata": {},
   "outputs": [],
   "source": [
    "teste(1, 'aba', 't', -1)"
   ]
  },
  {
   "cell_type": "code",
   "execution_count": null,
   "metadata": {},
   "outputs": [],
   "source": [
    "teste(1, *(10,20,30))"
   ]
  },
  {
   "cell_type": "markdown",
   "metadata": {},
   "source": [
    "`kmargs` significa **k**ey**w**ord arguments. Dentro da função, o `kwargs` é tratado como dicionário."
   ]
  },
  {
   "cell_type": "code",
   "execution_count": null,
   "metadata": {},
   "outputs": [],
   "source": [
    "def teste(x, **kwargs):\n",
    "    print(x)\n",
    "    print(kwargs)\n",
    "    print(type(kwargs))\n",
    "    print(kwargs['abacate'])"
   ]
  },
  {
   "cell_type": "code",
   "execution_count": null,
   "metadata": {},
   "outputs": [],
   "source": [
    "teste(1, abacate=2, felix='coco', blob=1000)"
   ]
  },
  {
   "cell_type": "code",
   "execution_count": null,
   "metadata": {},
   "outputs": [],
   "source": [
    "teste(1, **{'abacate':1, 'y':2})"
   ]
  },
  {
   "cell_type": "code",
   "execution_count": 263,
   "metadata": {},
   "outputs": [
    {
     "name": "stdout",
     "output_type": "stream",
     "text": [
      "1 2014\n",
      "2 2014\n",
      "3 2014\n",
      "4 2014\n",
      "5 2014\n",
      "6 2014\n",
      "7 2014\n",
      "8 2014\n",
      "9 2014\n",
      "10 2014\n",
      "11 2014\n",
      "12 2014\n"
     ]
    }
   ],
   "source": [
    "st_month = 1\n",
    "st_year = 2014\n",
    "end_month = 12\n",
    "end_year = 2014\n",
    "        \n",
    "while st_year * 12 + st_month <= end_year * 12 + end_month:     \n",
    "    print(st_month, st_year)\n",
    "    st_month+=1\n",
    "    if st_month == 13:\n",
    "        st_month=1\n",
    "        st_year+=1"
   ]
  },
  {
   "cell_type": "code",
   "execution_count": null,
   "metadata": {},
   "outputs": [],
   "source": []
  }
 ],
 "metadata": {
  "kernelspec": {
   "display_name": "Python 3",
   "language": "python",
   "name": "python3"
  },
  "language_info": {
   "codemirror_mode": {
    "name": "ipython",
    "version": 3
   },
   "file_extension": ".py",
   "mimetype": "text/x-python",
   "name": "python",
   "nbconvert_exporter": "python",
   "pygments_lexer": "ipython3",
   "version": "3.8.10"
  }
 },
 "nbformat": 4,
 "nbformat_minor": 4
}
